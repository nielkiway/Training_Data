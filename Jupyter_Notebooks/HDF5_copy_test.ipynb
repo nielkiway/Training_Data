{
 "cells": [
  {
   "cell_type": "code",
   "execution_count": 48,
   "metadata": {},
   "outputs": [],
   "source": [
    "import h5py\n",
    "import re\n",
    "\n",
    "path = '/home/jan/Documents/Trainingsdaten/ZP_4/_ZP4_combined_200.h5'"
   ]
  },
  {
   "cell_type": "code",
   "execution_count": 6,
   "metadata": {},
   "outputs": [],
   "source": [
    "new_path = '/home/jan/Documents/Trainingsdaten/ZP_4/_ZP4_combined_200_labelled.h5'"
   ]
  },
  {
   "cell_type": "code",
   "execution_count": 5,
   "metadata": {},
   "outputs": [
    {
     "name": "stdout",
     "output_type": "stream",
     "text": [
      "<KeysViewHDF5 ['Slice00001', 'Slice00002', 'Slice00003', 'Slice00004', 'Slice00005', 'Slice00006', 'Slice00007', 'Slice00008', 'Slice00009', 'Slice00010', 'Slice00011', 'Slice00012', 'Slice00013', 'Slice00014', 'Slice00015', 'Slice00016', 'Slice00017', 'Slice00018', 'Slice00019', 'Slice00020', 'Slice00021', 'Slice00022', 'Slice00023', 'Slice00024', 'Slice00025', 'Slice00026', 'Slice00027', 'Slice00028', 'Slice00029', 'Slice00030', 'Slice00031', 'Slice00032', 'Slice00033', 'Slice00034', 'Slice00035', 'Slice00036', 'Slice00037', 'Slice00038', 'Slice00039', 'Slice00040', 'Slice00041', 'Slice00042', 'Slice00043', 'Slice00044', 'Slice00045', 'Slice00046', 'Slice00047', 'Slice00048', 'Slice00049', 'Slice00050']>\n"
     ]
    }
   ],
   "source": [
    "with h5py.File(path,'a') as test_h5:\n",
    "    with h5py.File(new_path, 'w') as new_h5:\n",
    "    \n",
    "        new_test_h5.copy('Slice00001')"
   ]
  },
  {
   "cell_type": "code",
   "execution_count": 63,
   "metadata": {},
   "outputs": [],
   "source": [
    "f_old.close()\n",
    "f_new.close()"
   ]
  },
  {
   "cell_type": "code",
   "execution_count": 54,
   "metadata": {},
   "outputs": [
    {
     "name": "stdout",
     "output_type": "stream",
     "text": [
      "['0', '0']\n",
      "['0', '1']\n",
      "['0', '2']\n",
      "['0', '3']\n",
      "['0', '4']\n",
      "['0', '5']\n",
      "['0', '6']\n",
      "['0', '7']\n",
      "['0', '8']\n",
      "['1', '0']\n",
      "['1', '1']\n",
      "['1', '2']\n",
      "['1', '3']\n",
      "['1', '4']\n",
      "['1', '5']\n",
      "['1', '6']\n",
      "['1', '7']\n",
      "['1', '8']\n",
      "['2', '0']\n",
      "['2', '1']\n",
      "['2', '2']\n",
      "['2', '3']\n",
      "['2', '4']\n",
      "['2', '5']\n",
      "['2', '6']\n",
      "['2', '7']\n",
      "['2', '8']\n",
      "['3', '0']\n",
      "['3', '1']\n",
      "['3', '2']\n",
      "['3', '3']\n",
      "['3', '4']\n",
      "['3', '5']\n",
      "['3', '6']\n",
      "['3', '7']\n",
      "['3', '8']\n",
      "['4', '0']\n",
      "['4', '1']\n",
      "['4', '2']\n",
      "['4', '3']\n",
      "['4', '4']\n",
      "['4', '5']\n",
      "['4', '6']\n",
      "['4', '7']\n",
      "['4', '8']\n",
      "['5', '0']\n",
      "['5', '1']\n",
      "['5', '2']\n",
      "['5', '3']\n",
      "['5', '4']\n",
      "['5', '5']\n",
      "['5', '6']\n",
      "['5', '7']\n",
      "['5', '8']\n",
      "['6', '0']\n",
      "['6', '1']\n",
      "['6', '2']\n",
      "['6', '3']\n",
      "['6', '4']\n",
      "['6', '5']\n",
      "['6', '6']\n",
      "['6', '7']\n",
      "['6', '8']\n",
      "['7', '0']\n",
      "['7', '1']\n",
      "['7', '2']\n",
      "['7', '3']\n",
      "['7', '4']\n",
      "['7', '5']\n",
      "['7', '6']\n",
      "['7', '7']\n",
      "['7', '8']\n",
      "['8', '0']\n",
      "['8', '1']\n",
      "['8', '2']\n",
      "['8', '3']\n",
      "['8', '4']\n",
      "['8', '5']\n",
      "['8', '6']\n",
      "['8', '7']\n",
      "['8', '8']\n"
     ]
    }
   ],
   "source": [
    "f_old = h5py.File('/home/jan/Documents/Trainingsdaten/ZP_4/_ZP4_combined_200.h5','r')\n",
    "f_new = h5py.File('/home/jan/Documents/Trainingsdaten/ZP_4/_ZP4_combined_200_labelled.h5','w')\n",
    "\n",
    "f_new.create_group('no pores')\n",
    "f_new.create_group('pores')\n",
    "\n",
    "f_new['no pores'].create_group('inside')\n",
    "f_new['no pores'].create_group('border')\n",
    "f_new['pores'].create_group('inside')\n",
    "f_new['pores'].create_group('border')\n",
    "\n",
    "\n",
    "for i in list(f_old['Slice00001'].keys()):\n",
    "     print(re.findall(r'\\d+', i)[:2])\n",
    "    #print(int(s) for s in i.split() if s.isdigit())\n",
    "                  \n",
    "           \n",
    "#print(list(f_old['Slice00001'].keys())[-1])\n",
    "\n",
    "f_old['Slice00001'].copy('grid_0_2', f_new['pores']['inside'])\n",
    "\n",
    "f_old.close()\n",
    "f_new.close()"
   ]
  },
  {
   "cell_type": "code",
   "execution_count": null,
   "metadata": {},
   "outputs": [],
   "source": []
  },
  {
   "cell_type": "code",
   "execution_count": null,
   "metadata": {},
   "outputs": [],
   "source": [
    "voxel_hdf['voxel_{}_{}_{}'.format(n_vox_x_init,n_vox_y_init,num_z)].create_group('slice_{}'.format(num_slice-num_z*num_layers_per_voxel))"
   ]
  },
  {
   "cell_type": "code",
   "execution_count": null,
   "metadata": {},
   "outputs": [],
   "source": [
    "[int(s) for s in str.split() if s.isdigit()]\n",
    "[23, 11, 2]"
   ]
  },
  {
   "cell_type": "code",
   "execution_count": 61,
   "metadata": {},
   "outputs": [
    {
     "name": "stdout",
     "output_type": "stream",
     "text": [
      "nothing\n",
      "nothing\n",
      "nothing\n",
      "nothing\n",
      "nothing\n",
      "nothing\n",
      "nothing\n",
      "nothing\n",
      "nothing\n",
      "nothing\n"
     ]
    }
   ],
   "source": [
    "for i in range(20):\n",
    "    if i%2:\n",
    "        print('nothing')\n",
    "    #else: \n",
    "        #print('hallo')"
   ]
  },
  {
   "cell_type": "code",
   "execution_count": null,
   "metadata": {},
   "outputs": [],
   "source": []
  }
 ],
 "metadata": {
  "kernelspec": {
   "display_name": "Python [conda env:DataPrep]",
   "language": "python",
   "name": "conda-env-DataPrep-py"
  },
  "language_info": {
   "codemirror_mode": {
    "name": "ipython",
    "version": 3
   },
   "file_extension": ".py",
   "mimetype": "text/x-python",
   "name": "python",
   "nbconvert_exporter": "python",
   "pygments_lexer": "ipython3",
   "version": "3.7.5"
  }
 },
 "nbformat": 4,
 "nbformat_minor": 2
}
