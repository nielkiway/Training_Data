{
 "cells": [
  {
   "cell_type": "code",
   "execution_count": 12,
   "metadata": {},
   "outputs": [],
   "source": [
    "import h5py\n",
    "import time\n",
    "import numpy as np \n",
    "import pandas as pd\n",
    "import scipy.misc\n",
    "from scipy import ndimage\n",
    "import matplotlib.pyplot as plt\n",
    "from PIL import Image"
   ]
  },
  {
   "cell_type": "code",
   "execution_count": 2,
   "metadata": {},
   "outputs": [],
   "source": [
    "def get_2D_data_from_h5_filtered_np_v2(h5_path, part_name, slice_name, show_info = False):\n",
    "    # opening h5 and getting the data\n",
    "    start_time = time.time()\n",
    "\n",
    "    with h5py.File(h5_path, 'r') as h5:\n",
    "        # check whether slice exists -> if not: empty array returned\n",
    "        if slice_name in h5[part_name]:\n",
    "            Y_Axis = np.array(h5[part_name][slice_name]['Y-Axis'][:]).astype(int)\n",
    "            Area = np.array(h5[part_name][slice_name]['Area'][:]).astype(int)\n",
    "            Intensity = np.array(h5[part_name][slice_name]['Intensity'][:]).astype(int)\n",
    "            X_Axis = np.array(h5[part_name][slice_name]['X-Axis'][:]).astype(int)\n",
    "\n",
    "            X_Axis_size = X_Axis.size\n",
    "            Y_Axis_size = Y_Axis.size\n",
    "            Area_size = Area.size\n",
    "            Intensity_size = Intensity.size\n",
    "\n",
    "            # if dimensions aren't equal the following code block is entered\n",
    "            if not X_Axis_size == Y_Axis_size == Area_size == Intensity_size:\n",
    "\n",
    "                # determine the lowest value among the different sizes\n",
    "                size_arr = np.array([X_Axis_size, Y_Axis_size, Area_size, Intensity_size])\n",
    "                min_size = size_arr.min()\n",
    "\n",
    "                if X_Axis_size != min_size:\n",
    "                    diff_size_x = X_Axis_size - min_size  # calculating the difference between the actual value and the minimum and substracting it from the array\n",
    "                    X_Axis_new = np.delete(X_Axis, -diff_size_x)\n",
    "                    X_Axis = X_Axis_new\n",
    "                    X_Axis_size = X_Axis.size\n",
    "\n",
    "                if Y_Axis_size != min_size:\n",
    "                    diff_size_y = Y_Axis_size - min_size\n",
    "                    Y_Axis_new = np.delete(Y_Axis, -diff_size_y)\n",
    "                    Y_Axis = Y_Axis_new\n",
    "                    Y_Axis_size = Y_Axis.size\n",
    "\n",
    "                if Area_size != min_size:\n",
    "                    diff_size_area = Area_size - min_size\n",
    "                    Area_new = np.delete(Area, -diff_size_area)\n",
    "                    Area = Area_new\n",
    "                    Area_size = Area.size\n",
    "\n",
    "                if Intensity_size != min_size:\n",
    "                    diff_size_intensity = Intensity_size - min_size\n",
    "                    Intensity_new = np.delete(Intensity, -diff_size_intensity)\n",
    "                    Intensity = Intensity_new\n",
    "                    Intensity_size = Intensity.size\n",
    "\n",
    "                # by reducing all the dimensions to the minimum equal dimensions are guaranteed\n",
    "                # there is a risk of deleting more than just one datapoint without noticing -> maybe add an alert after more than 5(?) while iterations\n",
    "            #\n",
    "\n",
    "            if show_info:\n",
    "                print(str(X_Axis_size) + ' total data points found')\n",
    "\n",
    "            combos = np.stack((X_Axis, Y_Axis, Area, Intensity), axis=-1)\n",
    "\n",
    "            # filtering out the outlier data points\n",
    "            median_x = np.median(combos[:, 0])\n",
    "            median_y = np.median(combos[:, 1])\n",
    "            std_x = int(combos[:, 0].std())\n",
    "            std_y = int(combos[:, 1].std())\n",
    "            low_limit_x = median_x - 2 * std_x\n",
    "            low_limit_y = median_y - 2 * std_y\n",
    "            high_limit_x = median_x + 2 * std_x\n",
    "            high_limit_y = median_y + 2 * std_y\n",
    "\n",
    "            combos = np.delete(combos, np.where(combos[:, 0] < low_limit_x), axis=0)\n",
    "            combos = np.delete(combos, np.where(combos[:, 0] > high_limit_x), axis=0)\n",
    "            combos = np.delete(combos, np.where(combos[:, 1] < low_limit_y), axis=0)\n",
    "            combos = np.delete(combos, np.where(combos[:, 1] > high_limit_y), axis=0)\n",
    "\n",
    "            # filtering out the data points where area and intensity are =0\n",
    "            area_zeros = np.where(combos[:, 2] == 0)\n",
    "            intensity_zeros = np.where(combos[:, 3] == 0)\n",
    "            zero_area_intensity_indices = np.intersect1d(area_zeros,\n",
    "                                                         intensity_zeros)  # array of indices where area AND intensity are = 0\n",
    "\n",
    "            # deleting all the datapoints where area AND intensity are = 0\n",
    "            combos_wo_only_zeros = np.delete(combos, zero_area_intensity_indices, axis=0)\n",
    "            if show_info:\n",
    "                print(str(combos_wo_only_zeros.shape[0]) + ' data points where area != 0 AND intensity != 0')\n",
    "\n",
    "            combos_wo_only_zeros_unique, unique_indices = np.unique(combos_wo_only_zeros[:, [0, 1]], axis=0,\n",
    "                                                                    return_index=True)\n",
    "            combos_unique = combos_wo_only_zeros[unique_indices]\n",
    "\n",
    "            if show_info:\n",
    "                print(str(combos_unique.shape[0]) + ' unique data points where area != 0 AND intensity != 0')\n",
    "\n",
    "            Index_range = np.arange(combos_wo_only_zeros.shape[0])\n",
    "            indices_of_interest = np.setdiff1d(Index_range,\n",
    "                                               unique_indices)  # all the indices belonging to non unique x,y-combinations\n",
    "\n",
    "            combo_processed_array = np.empty([0, 4], dtype=int)\n",
    "            start_time = time.time()\n",
    "            combos_wo_only_zeros_copy = np.copy(combos_wo_only_zeros)\n",
    "            index_counter = 0\n",
    "            shape_counter = 0\n",
    "            indices_list = []\n",
    "\n",
    "            if show_info:\n",
    "                print(\"vor iterieren %s seconds ---\" % (time.time() - start_time))\n",
    "\n",
    "            for index in indices_of_interest:\n",
    "                xy_combo = combos_wo_only_zeros[:, [0, 1]][index]\n",
    "                if \\\n",
    "                np.where((combo_processed_array[:, 0] == xy_combo[0]) * (combo_processed_array[:, 1] == xy_combo[1]))[\n",
    "                    0].size == 0:\n",
    "                    index_counter += 1\n",
    "                    xy_combo = combos_wo_only_zeros[:, [0, 1]][index]\n",
    "                    indices_relevant = \\\n",
    "                    np.where((combos_wo_only_zeros[:, 0] == xy_combo[0]) * (combos_wo_only_zeros[:, 1] == xy_combo[1]))[\n",
    "                        0]\n",
    "                    max_area_of_combo = np.amax(combos_wo_only_zeros[:, 2][indices_relevant])\n",
    "                    max_intensity_of_combo = np.amax(combos_wo_only_zeros[:, 3][indices_relevant])\n",
    "\n",
    "                    max_combos = np.stack((xy_combo[0], xy_combo[1], max_area_of_combo, max_intensity_of_combo),\n",
    "                                          axis=-1)\n",
    "\n",
    "                    combos_wo_only_zeros_copy = np.vstack((combos_wo_only_zeros_copy, max_combos))\n",
    "                    shape_counter += indices_relevant.shape[0]\n",
    "                    indices_list.append(list(indices_relevant))\n",
    "\n",
    "                    combo_processed_array = np.vstack((combo_processed_array, max_combos))\n",
    "\n",
    "            indices_relevant = np.hstack(indices_list)\n",
    "            combos_wo_only_zeros_copy = np.delete(combos_wo_only_zeros_copy, indices_relevant, axis=0)\n",
    "        else:\n",
    "            combos_wo_only_zeros_copy = np.empty([0, 4], dtype=int)\n",
    "            print('{} is not existing -> empty array created'.format(slice_name))\n",
    "\n",
    "        if show_info:\n",
    "            print(\"array creation took %s seconds ---\" % (time.time() - start_time))\n",
    "        return combos_wo_only_zeros_copy\n",
    "\n",
    "\n",
    "def get_min_max_values (h5_path, part_name,  max_slice_num):\n",
    "    df = pd.DataFrame(columns=['Slice_num', 'minX', 'maxX', 'minY', 'maxY', 'diameterX', 'diameterY'])\n",
    "\n",
    "    for num_slice in range(max_slice_num):\n",
    "        slice_name = 'Slice' + str(\"{:05d}\".format(num_slice + 1))\n",
    "\n",
    "        array = get_2D_data_from_h5_filtered_np_v2(h5_path, part_name, slice_name)\n",
    "        minX = array[:, 0].min()\n",
    "        maxX = array[:, 0].max()\n",
    "        minY = array[:, 1].min()\n",
    "        maxY = array[:, 1].max()\n",
    "        diameterX = maxX - minX\n",
    "        diameterY = maxY - minY\n",
    "\n",
    "        df = df.append({'Slice_num': \"{:05d}\".format(num_slice + 1), 'minX': minX, 'maxX': maxX, 'minY': minY, 'maxY': maxY,\n",
    "                        'diameterX': diameterX, 'diameterY': diameterY}, ignore_index=True)\n",
    "\n",
    "    return df['minX'].min(), df['minY'].min(), df['maxX'].max(), df['maxY'].max()\n",
    "\n",
    "\n",
    "def dock_array_to_zero(array, minX, minY):\n",
    "    if minX >= 0 and minY >= 0:\n",
    "        array[:, 0] = array[:, 0] - minX\n",
    "        array[:, 1] = array[:, 1] - minY\n",
    "    elif minX < 0 and minY < 0:\n",
    "        array[:, 0] = array[:, 0] + abs(minX)\n",
    "        array[:, 1] = array[:, 1] + abs(minY)\n",
    "    elif minX >= 0 and minY < 0:\n",
    "        array[:, 0] = array[:, 0] - minX\n",
    "        array[:, 1] = array[:, 1] + abs(minY)\n",
    "    elif minX < 0 and minY >= 0:\n",
    "        array[:, 0] = array[:, 0] + abs(minX)\n",
    "        array[:, 1] = array[:, 1] - minY\n",
    "    return array\n"
   ]
  },
  {
   "cell_type": "code",
   "execution_count": 3,
   "metadata": {},
   "outputs": [],
   "source": [
    "h5_path = '/home/jan/Documents/Trainingsdaten/ZP_4/ZP_4_full_part.h5'\n",
    "part_name = 'ZP4_combined'\n",
    "slice_name = \"Slice00001\""
   ]
  },
  {
   "cell_type": "code",
   "execution_count": 4,
   "metadata": {},
   "outputs": [],
   "source": [
    "array_not_docked = get_2D_data_from_h5_filtered_np_v2(h5_path, part_name, slice_name, show_info = False)"
   ]
  },
  {
   "cell_type": "code",
   "execution_count": 5,
   "metadata": {},
   "outputs": [],
   "source": [
    "minX, minY, maxX, maxY = get_min_max_values (h5_path, part_name,  1593)"
   ]
  },
  {
   "cell_type": "code",
   "execution_count": 6,
   "metadata": {},
   "outputs": [],
   "source": [
    "array_docked = dock_array_to_zero(array_not_docked, minX, minY)"
   ]
  },
  {
   "cell_type": "code",
   "execution_count": 7,
   "metadata": {},
   "outputs": [
    {
     "data": {
      "text/plain": [
       "array([[ 405,  148,    0,  373],\n",
       "       [ 397,  156,    0,  577],\n",
       "       [ 392,  161,    0,  705],\n",
       "       ...,\n",
       "       [1669, 1233, 1021, 1520],\n",
       "       [1317, 1625,  739,  927],\n",
       "       [1482, 1499,  866, 1130]])"
      ]
     },
     "execution_count": 7,
     "metadata": {},
     "output_type": "execute_result"
    }
   ],
   "source": [
    "array_docked"
   ]
  },
  {
   "cell_type": "code",
   "execution_count": 8,
   "metadata": {},
   "outputs": [],
   "source": [
    "df = pd.DataFrame({'x': array_docked[:, 0], 'y': array_docked[:, 1], 'area': array_docked[:, 2],'intensity': array_docked[:, 3]})"
   ]
  },
  {
   "cell_type": "code",
   "execution_count": 9,
   "metadata": {},
   "outputs": [
    {
     "data": {
      "text/html": [
       "<div>\n",
       "<style scoped>\n",
       "    .dataframe tbody tr th:only-of-type {\n",
       "        vertical-align: middle;\n",
       "    }\n",
       "\n",
       "    .dataframe tbody tr th {\n",
       "        vertical-align: top;\n",
       "    }\n",
       "\n",
       "    .dataframe thead th {\n",
       "        text-align: right;\n",
       "    }\n",
       "</style>\n",
       "<table border=\"1\" class=\"dataframe\">\n",
       "  <thead>\n",
       "    <tr style=\"text-align: right;\">\n",
       "      <th></th>\n",
       "      <th>x</th>\n",
       "      <th>y</th>\n",
       "      <th>area</th>\n",
       "      <th>intensity</th>\n",
       "    </tr>\n",
       "  </thead>\n",
       "  <tbody>\n",
       "    <tr>\n",
       "      <th>0</th>\n",
       "      <td>405</td>\n",
       "      <td>148</td>\n",
       "      <td>0</td>\n",
       "      <td>373</td>\n",
       "    </tr>\n",
       "    <tr>\n",
       "      <th>1</th>\n",
       "      <td>397</td>\n",
       "      <td>156</td>\n",
       "      <td>0</td>\n",
       "      <td>577</td>\n",
       "    </tr>\n",
       "    <tr>\n",
       "      <th>2</th>\n",
       "      <td>392</td>\n",
       "      <td>161</td>\n",
       "      <td>0</td>\n",
       "      <td>705</td>\n",
       "    </tr>\n",
       "    <tr>\n",
       "      <th>3</th>\n",
       "      <td>385</td>\n",
       "      <td>168</td>\n",
       "      <td>0</td>\n",
       "      <td>745</td>\n",
       "    </tr>\n",
       "    <tr>\n",
       "      <th>4</th>\n",
       "      <td>380</td>\n",
       "      <td>173</td>\n",
       "      <td>315</td>\n",
       "      <td>773</td>\n",
       "    </tr>\n",
       "    <tr>\n",
       "      <th>...</th>\n",
       "      <td>...</td>\n",
       "      <td>...</td>\n",
       "      <td>...</td>\n",
       "      <td>...</td>\n",
       "    </tr>\n",
       "    <tr>\n",
       "      <th>9438</th>\n",
       "      <td>1714</td>\n",
       "      <td>1108</td>\n",
       "      <td>1212</td>\n",
       "      <td>1833</td>\n",
       "    </tr>\n",
       "    <tr>\n",
       "      <th>9439</th>\n",
       "      <td>1167</td>\n",
       "      <td>1695</td>\n",
       "      <td>1006</td>\n",
       "      <td>1107</td>\n",
       "    </tr>\n",
       "    <tr>\n",
       "      <th>9440</th>\n",
       "      <td>1669</td>\n",
       "      <td>1233</td>\n",
       "      <td>1021</td>\n",
       "      <td>1520</td>\n",
       "    </tr>\n",
       "    <tr>\n",
       "      <th>9441</th>\n",
       "      <td>1317</td>\n",
       "      <td>1625</td>\n",
       "      <td>739</td>\n",
       "      <td>927</td>\n",
       "    </tr>\n",
       "    <tr>\n",
       "      <th>9442</th>\n",
       "      <td>1482</td>\n",
       "      <td>1499</td>\n",
       "      <td>866</td>\n",
       "      <td>1130</td>\n",
       "    </tr>\n",
       "  </tbody>\n",
       "</table>\n",
       "<p>9443 rows × 4 columns</p>\n",
       "</div>"
      ],
      "text/plain": [
       "         x     y  area  intensity\n",
       "0      405   148     0        373\n",
       "1      397   156     0        577\n",
       "2      392   161     0        705\n",
       "3      385   168     0        745\n",
       "4      380   173   315        773\n",
       "...    ...   ...   ...        ...\n",
       "9438  1714  1108  1212       1833\n",
       "9439  1167  1695  1006       1107\n",
       "9440  1669  1233  1021       1520\n",
       "9441  1317  1625   739        927\n",
       "9442  1482  1499   866       1130\n",
       "\n",
       "[9443 rows x 4 columns]"
      ]
     },
     "execution_count": 9,
     "metadata": {},
     "output_type": "execute_result"
    }
   ],
   "source": [
    "df"
   ]
  },
  {
   "cell_type": "code",
   "execution_count": 10,
   "metadata": {},
   "outputs": [
    {
     "name": "stdout",
     "output_type": "stream",
     "text": [
      "1160\n",
      "1180\n"
     ]
    }
   ],
   "source": [
    "i = 58\n",
    "\n",
    "j = 20\n",
    "print(i*j)\n",
    "print((i+1)*j)"
   ]
  },
  {
   "cell_type": "code",
   "execution_count": 11,
   "metadata": {},
   "outputs": [
    {
     "data": {
      "text/html": [
       "<div>\n",
       "<style scoped>\n",
       "    .dataframe tbody tr th:only-of-type {\n",
       "        vertical-align: middle;\n",
       "    }\n",
       "\n",
       "    .dataframe tbody tr th {\n",
       "        vertical-align: top;\n",
       "    }\n",
       "\n",
       "    .dataframe thead th {\n",
       "        text-align: right;\n",
       "    }\n",
       "</style>\n",
       "<table border=\"1\" class=\"dataframe\">\n",
       "  <thead>\n",
       "    <tr style=\"text-align: right;\">\n",
       "      <th></th>\n",
       "      <th>x</th>\n",
       "      <th>y</th>\n",
       "      <th>area</th>\n",
       "      <th>intensity</th>\n",
       "    </tr>\n",
       "  </thead>\n",
       "  <tbody>\n",
       "    <tr>\n",
       "      <th>7496</th>\n",
       "      <td>1168</td>\n",
       "      <td>1176</td>\n",
       "      <td>1162</td>\n",
       "      <td>1709</td>\n",
       "    </tr>\n",
       "    <tr>\n",
       "      <th>7497</th>\n",
       "      <td>1173</td>\n",
       "      <td>1171</td>\n",
       "      <td>1162</td>\n",
       "      <td>1495</td>\n",
       "    </tr>\n",
       "  </tbody>\n",
       "</table>\n",
       "</div>"
      ],
      "text/plain": [
       "         x     y  area  intensity\n",
       "7496  1168  1176  1162       1709\n",
       "7497  1173  1171  1162       1495"
      ]
     },
     "execution_count": 11,
     "metadata": {},
     "output_type": "execute_result"
    }
   ],
   "source": [
    "df[(df['x']>i*j) & (df['x']< (i+1)*j) & (df['y']> i*j) & (df['y']< (i+1)*j)]"
   ]
  },
  {
   "cell_type": "code",
   "execution_count": 12,
   "metadata": {},
   "outputs": [
    {
     "data": {
      "text/plain": [
       "-15695"
      ]
     },
     "execution_count": 12,
     "metadata": {},
     "output_type": "execute_result"
    }
   ],
   "source": [
    "maxX"
   ]
  },
  {
   "cell_type": "code",
   "execution_count": 13,
   "metadata": {},
   "outputs": [
    {
     "data": {
      "text/plain": [
       "-17441"
      ]
     },
     "execution_count": 13,
     "metadata": {},
     "output_type": "execute_result"
    }
   ],
   "source": [
    "minX"
   ]
  },
  {
   "cell_type": "code",
   "execution_count": 14,
   "metadata": {},
   "outputs": [
    {
     "data": {
      "text/plain": [
       "1746"
      ]
     },
     "execution_count": 14,
     "metadata": {},
     "output_type": "execute_result"
    }
   ],
   "source": [
    "maxX-minX"
   ]
  },
  {
   "cell_type": "code",
   "execution_count": 15,
   "metadata": {},
   "outputs": [
    {
     "data": {
      "text/plain": [
       "87.3"
      ]
     },
     "execution_count": 15,
     "metadata": {},
     "output_type": "execute_result"
    }
   ],
   "source": [
    "1746/20"
   ]
  },
  {
   "cell_type": "code",
   "execution_count": 16,
   "metadata": {},
   "outputs": [
    {
     "data": {
      "text/plain": [
       "6928.571428571428"
      ]
     },
     "execution_count": 16,
     "metadata": {},
     "output_type": "execute_result"
    }
   ],
   "source": [
    "1746/0.252"
   ]
  },
  {
   "cell_type": "code",
   "execution_count": 20,
   "metadata": {},
   "outputs": [],
   "source": [
    "from PIL import Image\n",
    "import numpy as np\n",
    "\n",
    "w, h = 224, 224\n",
    "data = np.zeros((h, w), dtype=np.uint8)\n",
    "data[0:100, 2:100] = 185# , 255, 255] # red patch in upper left\n",
    "img = Image.fromarray(data,'L')#, 'RGB')\n",
    "img.save('my.png')\n",
    "img.show()"
   ]
  },
  {
   "cell_type": "code",
   "execution_count": 101,
   "metadata": {},
   "outputs": [
    {
     "data": {
      "text/plain": [
       "array([[  0,   0, 185, ...,   0,   0,   0],\n",
       "       [  0,   0, 185, ...,   0,   0,   0],\n",
       "       [  0,   0, 185, ...,   0,   0,   0],\n",
       "       ...,\n",
       "       [  0,   0,   0, ...,   0,   0,   0],\n",
       "       [  0,   0,   0, ...,   0,   0,   0],\n",
       "       [  0,   0,   0, ...,   0,   0,   0]], dtype=uint8)"
      ]
     },
     "execution_count": 101,
     "metadata": {},
     "output_type": "execute_result"
    }
   ],
   "source": [
    "data"
   ]
  },
  {
   "cell_type": "code",
   "execution_count": 19,
   "metadata": {},
   "outputs": [
    {
     "ename": "NameError",
     "evalue": "name 'pixels' is not defined",
     "output_type": "error",
     "traceback": [
      "\u001b[0;31m---------------------------------------------------------------------------\u001b[0m",
      "\u001b[0;31mNameError\u001b[0m                                 Traceback (most recent call last)",
      "\u001b[0;32m<ipython-input-19-bc3e24ca2880>\u001b[0m in \u001b[0;36m<module>\u001b[0;34m\u001b[0m\n\u001b[0;32m----> 1\u001b[0;31m \u001b[0mdf_Ausschnitt\u001b[0m \u001b[0;34m=\u001b[0m \u001b[0mdf\u001b[0m\u001b[0;34m[\u001b[0m\u001b[0;34m(\u001b[0m\u001b[0mdf\u001b[0m\u001b[0;34m[\u001b[0m\u001b[0;34m'x'\u001b[0m\u001b[0;34m]\u001b[0m\u001b[0;34m>\u001b[0m\u001b[0mpixels\u001b[0m\u001b[0;34m*\u001b[0m\u001b[0mcounter\u001b[0m\u001b[0;34m)\u001b[0m \u001b[0;34m&\u001b[0m \u001b[0;34m(\u001b[0m\u001b[0mdf\u001b[0m\u001b[0;34m[\u001b[0m\u001b[0;34m'x'\u001b[0m\u001b[0;34m]\u001b[0m\u001b[0;34m<\u001b[0m \u001b[0mpixels\u001b[0m\u001b[0;34m*\u001b[0m\u001b[0;34m(\u001b[0m\u001b[0mcounter\u001b[0m\u001b[0;34m+\u001b[0m\u001b[0;36m1\u001b[0m\u001b[0;34m)\u001b[0m\u001b[0;34m)\u001b[0m \u001b[0;34m&\u001b[0m \u001b[0;34m(\u001b[0m\u001b[0mdf\u001b[0m\u001b[0;34m[\u001b[0m\u001b[0;34m'y'\u001b[0m\u001b[0;34m]\u001b[0m\u001b[0;34m>\u001b[0m\u001b[0mpixels\u001b[0m\u001b[0;34m*\u001b[0m\u001b[0mcounter\u001b[0m\u001b[0;34m)\u001b[0m \u001b[0;34m&\u001b[0m \u001b[0;34m(\u001b[0m\u001b[0mdf\u001b[0m\u001b[0;34m[\u001b[0m\u001b[0;34m'y'\u001b[0m\u001b[0;34m]\u001b[0m\u001b[0;34m<\u001b[0m \u001b[0;34m(\u001b[0m\u001b[0mcounter\u001b[0m\u001b[0;34m+\u001b[0m\u001b[0;36m1\u001b[0m\u001b[0;34m)\u001b[0m\u001b[0;34m*\u001b[0m\u001b[0mpixels\u001b[0m\u001b[0;34m)\u001b[0m\u001b[0;34m]\u001b[0m\u001b[0;34m\u001b[0m\u001b[0;34m\u001b[0m\u001b[0m\n\u001b[0m",
      "\u001b[0;31mNameError\u001b[0m: name 'pixels' is not defined"
     ]
    }
   ],
   "source": [
    "df_Ausschnitt = df[(df['x']>pixels*counter) & (df['x']< pixels*(counter+1)) & (df['y']>pixels*counter) & (df['y']< (counter+1)*pixels)]"
   ]
  },
  {
   "cell_type": "code",
   "execution_count": 18,
   "metadata": {},
   "outputs": [
    {
     "ename": "NameError",
     "evalue": "name 'df_Ausschnitt' is not defined",
     "output_type": "error",
     "traceback": [
      "\u001b[0;31m---------------------------------------------------------------------------\u001b[0m",
      "\u001b[0;31mNameError\u001b[0m                                 Traceback (most recent call last)",
      "\u001b[0;32m<ipython-input-18-6e027835320e>\u001b[0m in \u001b[0;36m<module>\u001b[0;34m\u001b[0m\n\u001b[0;32m----> 1\u001b[0;31m \u001b[0mdf_Ausschnitt\u001b[0m\u001b[0;34m[\u001b[0m\u001b[0;34m'intensity'\u001b[0m\u001b[0;34m]\u001b[0m\u001b[0;34m.\u001b[0m\u001b[0mmax\u001b[0m\u001b[0;34m(\u001b[0m\u001b[0;34m)\u001b[0m\u001b[0;34m\u001b[0m\u001b[0;34m\u001b[0m\u001b[0m\n\u001b[0m",
      "\u001b[0;31mNameError\u001b[0m: name 'df_Ausschnitt' is not defined"
     ]
    }
   ],
   "source": [
    "df_Ausschnitt['intensity'].max()"
   ]
  },
  {
   "cell_type": "code",
   "execution_count": 132,
   "metadata": {},
   "outputs": [
    {
     "data": {
      "text/plain": [
       "959     137.307692\n",
       "960     140.067646\n",
       "961     157.415926\n",
       "1101     96.499807\n",
       "1102     95.218400\n",
       "           ...    \n",
       "2604    136.814843\n",
       "2605    175.257055\n",
       "2606    151.797449\n",
       "2607    191.028218\n",
       "2608    151.107460\n",
       "Name: intensity, Length: 200, dtype: float64"
      ]
     },
     "execution_count": 132,
     "metadata": {},
     "output_type": "execute_result"
    }
   ],
   "source": [
    "df_Ausschnitt['intensity']*255/2587"
   ]
  },
  {
   "cell_type": "code",
   "execution_count": 137,
   "metadata": {},
   "outputs": [],
   "source": [
    "int_not_corrected = df_Ausschnitt['intensity'].values"
   ]
  },
  {
   "cell_type": "code",
   "execution_count": 143,
   "metadata": {},
   "outputs": [],
   "source": [
    "int_corrected = (int_not_corrected*255/2587).astype(int)"
   ]
  },
  {
   "cell_type": "code",
   "execution_count": 144,
   "metadata": {},
   "outputs": [
    {
     "data": {
      "text/plain": [
       "array([137, 140, 157,  96,  95,  91,  95,  96,  96,  98,  98,  98, 142,\n",
       "       142, 166, 154, 128, 124, 115, 126, 118, 105, 105, 106, 101, 100,\n",
       "       108,  95, 126, 115, 104, 101,  95,  95,  96,  97,  90,  91,  92,\n",
       "       100, 102, 105, 113,  99,  95,  92,  96,  86,  93, 113, 112, 116,\n",
       "       103, 102, 139, 129, 170, 211, 205, 194, 247, 181, 189, 143, 133,\n",
       "       122, 160, 129, 131, 115, 132, 151, 161, 139, 137, 137, 146,  91,\n",
       "       104, 103,  99, 104, 100, 108, 114, 115, 118, 110, 105, 105, 116,\n",
       "       105,  97,  94,  93, 103, 106, 139, 122, 119, 103,  98,  98,  95,\n",
       "       100,  91,  89,  90,  92,  92, 111, 112, 115, 144, 226, 206, 153,\n",
       "       171, 148, 173, 152, 132, 133, 126, 133, 138, 130, 144, 136, 162,\n",
       "       174, 134, 123, 129, 149, 146, 139, 127, 200, 255, 188, 171,  94,\n",
       "        97,  97,  94,  97,  92,  91,  92,  89,  90,  94,  85,  86,  90,\n",
       "       109, 104, 101,  92,  95,  95,  93,  93, 103,  94, 125, 128, 130,\n",
       "       135, 125, 186, 176, 150, 138, 142, 134, 154, 152, 127, 202, 128,\n",
       "       153, 123,  97,  97,  92,  95,  93,  90,  96,  92, 125, 107, 107,\n",
       "       136, 175, 151, 191, 151])"
      ]
     },
     "execution_count": 144,
     "metadata": {},
     "output_type": "execute_result"
    }
   ],
   "source": [
    "int_corrected"
   ]
  },
  {
   "cell_type": "code",
   "execution_count": 151,
   "metadata": {},
   "outputs": [],
   "source": [
    "#Dataframe mit skalierten intensity Werten\n",
    "df_Ausschnitt.loc[:,'intensity'] = int_corrected"
   ]
  },
  {
   "cell_type": "code",
   "execution_count": 165,
   "metadata": {},
   "outputs": [],
   "source": [
    "df_Ausschnitt= df_Ausschnitt.drop(columns = [3])"
   ]
  },
  {
   "cell_type": "code",
   "execution_count": 166,
   "metadata": {},
   "outputs": [
    {
     "data": {
      "text/html": [
       "<div>\n",
       "<style scoped>\n",
       "    .dataframe tbody tr th:only-of-type {\n",
       "        vertical-align: middle;\n",
       "    }\n",
       "\n",
       "    .dataframe tbody tr th {\n",
       "        vertical-align: top;\n",
       "    }\n",
       "\n",
       "    .dataframe thead th {\n",
       "        text-align: right;\n",
       "    }\n",
       "</style>\n",
       "<table border=\"1\" class=\"dataframe\">\n",
       "  <thead>\n",
       "    <tr style=\"text-align: right;\">\n",
       "      <th></th>\n",
       "      <th>x</th>\n",
       "      <th>y</th>\n",
       "      <th>area</th>\n",
       "      <th>intensity</th>\n",
       "    </tr>\n",
       "  </thead>\n",
       "  <tbody>\n",
       "    <tr>\n",
       "      <th>959</th>\n",
       "      <td>449</td>\n",
       "      <td>462</td>\n",
       "      <td>934</td>\n",
       "      <td>137</td>\n",
       "    </tr>\n",
       "    <tr>\n",
       "      <th>960</th>\n",
       "      <td>456</td>\n",
       "      <td>455</td>\n",
       "      <td>934</td>\n",
       "      <td>140</td>\n",
       "    </tr>\n",
       "    <tr>\n",
       "      <th>961</th>\n",
       "      <td>461</td>\n",
       "      <td>450</td>\n",
       "      <td>986</td>\n",
       "      <td>157</td>\n",
       "    </tr>\n",
       "    <tr>\n",
       "      <th>1101</th>\n",
       "      <td>501</td>\n",
       "      <td>450</td>\n",
       "      <td>859</td>\n",
       "      <td>96</td>\n",
       "    </tr>\n",
       "    <tr>\n",
       "      <th>1102</th>\n",
       "      <td>493</td>\n",
       "      <td>458</td>\n",
       "      <td>946</td>\n",
       "      <td>95</td>\n",
       "    </tr>\n",
       "    <tr>\n",
       "      <th>...</th>\n",
       "      <td>...</td>\n",
       "      <td>...</td>\n",
       "      <td>...</td>\n",
       "      <td>...</td>\n",
       "    </tr>\n",
       "    <tr>\n",
       "      <th>2604</th>\n",
       "      <td>641</td>\n",
       "      <td>668</td>\n",
       "      <td>979</td>\n",
       "      <td>136</td>\n",
       "    </tr>\n",
       "    <tr>\n",
       "      <th>2605</th>\n",
       "      <td>649</td>\n",
       "      <td>660</td>\n",
       "      <td>979</td>\n",
       "      <td>175</td>\n",
       "    </tr>\n",
       "    <tr>\n",
       "      <th>2606</th>\n",
       "      <td>654</td>\n",
       "      <td>655</td>\n",
       "      <td>980</td>\n",
       "      <td>151</td>\n",
       "    </tr>\n",
       "    <tr>\n",
       "      <th>2607</th>\n",
       "      <td>661</td>\n",
       "      <td>648</td>\n",
       "      <td>980</td>\n",
       "      <td>191</td>\n",
       "    </tr>\n",
       "    <tr>\n",
       "      <th>2608</th>\n",
       "      <td>666</td>\n",
       "      <td>643</td>\n",
       "      <td>1091</td>\n",
       "      <td>151</td>\n",
       "    </tr>\n",
       "  </tbody>\n",
       "</table>\n",
       "<p>200 rows × 4 columns</p>\n",
       "</div>"
      ],
      "text/plain": [
       "        x    y  area  intensity\n",
       "959   449  462   934        137\n",
       "960   456  455   934        140\n",
       "961   461  450   986        157\n",
       "1101  501  450   859         96\n",
       "1102  493  458   946         95\n",
       "...   ...  ...   ...        ...\n",
       "2604  641  668   979        136\n",
       "2605  649  660   979        175\n",
       "2606  654  655   980        151\n",
       "2607  661  648   980        191\n",
       "2608  666  643  1091        151\n",
       "\n",
       "[200 rows x 4 columns]"
      ]
     },
     "execution_count": 166,
     "metadata": {},
     "output_type": "execute_result"
    }
   ],
   "source": [
    "df_Ausschnitt"
   ]
  },
  {
   "cell_type": "code",
   "execution_count": 167,
   "metadata": {},
   "outputs": [],
   "source": [
    "data_new = np.zeros((224, 224), dtype=np.uint8)"
   ]
  },
  {
   "cell_type": "code",
   "execution_count": 169,
   "metadata": {},
   "outputs": [],
   "source": [
    "for index, row in df_Ausschnitt.iterrows():\n",
    "    #print(row[0], 'is a', row[1])\n",
    "    data_new[row[0]-pixels*counter,row[1]-pixels*counter] = row[3]"
   ]
  },
  {
   "cell_type": "code",
   "execution_count": 170,
   "metadata": {},
   "outputs": [
    {
     "data": {
      "text/plain": [
       "array([[0, 0, 0, ..., 0, 0, 0],\n",
       "       [0, 0, 0, ..., 0, 0, 0],\n",
       "       [0, 0, 0, ..., 0, 0, 0],\n",
       "       ...,\n",
       "       [0, 0, 0, ..., 0, 0, 0],\n",
       "       [0, 0, 0, ..., 0, 0, 0],\n",
       "       [0, 0, 0, ..., 0, 0, 0]], dtype=uint8)"
      ]
     },
     "execution_count": 170,
     "metadata": {},
     "output_type": "execute_result"
    }
   ],
   "source": [
    "data_new"
   ]
  },
  {
   "cell_type": "code",
   "execution_count": 11,
   "metadata": {},
   "outputs": [
    {
     "ename": "NameError",
     "evalue": "name 'Image' is not defined",
     "output_type": "error",
     "traceback": [
      "\u001b[0;31m---------------------------------------------------------------------------\u001b[0m",
      "\u001b[0;31mNameError\u001b[0m                                 Traceback (most recent call last)",
      "\u001b[0;32m<ipython-input-11-f2e3e3dc0173>\u001b[0m in \u001b[0;36m<module>\u001b[0;34m\u001b[0m\n\u001b[0;32m----> 1\u001b[0;31m \u001b[0mimg\u001b[0m \u001b[0;34m=\u001b[0m \u001b[0mImage\u001b[0m\u001b[0;34m.\u001b[0m\u001b[0mfromarray\u001b[0m\u001b[0;34m(\u001b[0m\u001b[0mdata_new\u001b[0m\u001b[0;34m,\u001b[0m\u001b[0;34m'L'\u001b[0m\u001b[0;34m)\u001b[0m\u001b[0;31m#, 'RGB')\u001b[0m\u001b[0;34m\u001b[0m\u001b[0;34m\u001b[0m\u001b[0m\n\u001b[0m\u001b[1;32m      2\u001b[0m \u001b[0mimg\u001b[0m\u001b[0;34m.\u001b[0m\u001b[0msave\u001b[0m\u001b[0;34m(\u001b[0m\u001b[0;34m'my.png'\u001b[0m\u001b[0;34m)\u001b[0m\u001b[0;34m\u001b[0m\u001b[0;34m\u001b[0m\u001b[0m\n\u001b[1;32m      3\u001b[0m \u001b[0mimg\u001b[0m\u001b[0;34m.\u001b[0m\u001b[0mshow\u001b[0m\u001b[0;34m(\u001b[0m\u001b[0;34m)\u001b[0m\u001b[0;34m\u001b[0m\u001b[0;34m\u001b[0m\u001b[0m\n",
      "\u001b[0;31mNameError\u001b[0m: name 'Image' is not defined"
     ]
    }
   ],
   "source": [
    "img = Image.fromarray(data_new,'L')#, 'RGB')\n",
    "img.save('my.png')\n",
    "img.show()"
   ]
  },
  {
   "cell_type": "code",
   "execution_count": 62,
   "metadata": {},
   "outputs": [
    {
     "name": "stdout",
     "output_type": "stream",
     "text": [
      "0\n",
      "1600\n"
     ]
    }
   ],
   "source": [
    "pixels = 1600\n",
    "counter = 0\n",
    "w, h = pixels, pixels\n",
    "area_int_switch = 3 #2 für area, 3 für intensity\n",
    "print(pixels*counter)\n",
    "print(pixels*(counter+1))"
   ]
  },
  {
   "cell_type": "code",
   "execution_count": 78,
   "metadata": {},
   "outputs": [],
   "source": [
    "#wiederholen für Schicht 2 und 3 für RGB-Bild\n",
    "array_not_docked_1 = get_2D_data_from_h5_filtered_np_v2(h5_path, part_name, 'Slice00003', show_info = False)\n",
    "array_not_docked_2 = get_2D_data_from_h5_filtered_np_v2(h5_path, part_name, 'Slice00004', show_info = False)\n",
    "array_not_docked_3 = get_2D_data_from_h5_filtered_np_v2(h5_path, part_name, 'Slice00005', show_info = False)\n",
    "\n",
    "array_docked_1 = dock_array_to_zero(array_not_docked_1, minX, minY)\n",
    "array_docked_2 = dock_array_to_zero(array_not_docked_2, minX, minY)\n",
    "array_docked_3 = dock_array_to_zero(array_not_docked_3, minX, minY)\n",
    "\n",
    "df_1 = pd.DataFrame({'x': array_docked_1[:, 0], 'y': array_docked_1[:, 1], 'area': array_docked_1[:, 2],'intensity': array_docked_1[:, 3]})\n",
    "df_2 = pd.DataFrame({'x': array_docked_2[:, 0], 'y': array_docked_2[:, 1], 'area': array_docked_2[:, 2],'intensity': array_docked_2[:, 3]})\n",
    "df_3 = pd.DataFrame({'x': array_docked_3[:, 0], 'y': array_docked_3[:, 1], 'area': array_docked_3[:, 2],'intensity': array_docked_3[:, 3]})\n",
    "\n",
    "df_Ausschnitt_1 = df_1[(df_1['x']>pixels*counter) & (df_1['x']< pixels*(counter+1)) & (df_1['y']>pixels*counter) & (df_1['y']< (counter+1)*pixels)]\n",
    "df_Ausschnitt_2 = df_2[(df_2['x']>pixels*counter) & (df_2['x']< pixels*(counter+1)) & (df_2['y']>pixels*counter) & (df_2['y']< (counter+1)*pixels)]\n",
    "df_Ausschnitt_3 = df_3[(df_3['x']>pixels*counter) & (df_3['x']< pixels*(counter+1)) & (df_3['y']>pixels*counter) & (df_3['y']< (counter+1)*pixels)]\n",
    "\n",
    "int_not_corrected_1 = df_Ausschnitt_1['intensity'].values\n",
    "int_not_corrected_2 = df_Ausschnitt_2['intensity'].values\n",
    "int_not_corrected_3 = df_Ausschnitt_3['intensity'].values\n",
    "\n",
    "area_not_corrected_1 = df_Ausschnitt_1['area'].values\n",
    "area_not_corrected_2 = df_Ausschnitt_2['area'].values\n",
    "area_not_corrected_3 = df_Ausschnitt_3['area'].values\n",
    "\n",
    "int_corrected_1 = (int_not_corrected_1*255/df_Ausschnitt_1['intensity'].max()).astype(int)\n",
    "int_corrected_2 = (int_not_corrected_2*255/df_Ausschnitt_2['intensity'].max()).astype(int)\n",
    "int_corrected_3 = (int_not_corrected_3*255/df_Ausschnitt_3['intensity'].max()).astype(int)\n",
    "\n",
    "area_corrected_1 = (area_not_corrected_1*255/df_Ausschnitt_1['area'].max()).astype(int)\n",
    "area_corrected_2 = (area_not_corrected_2*255/df_Ausschnitt_2['area'].max()).astype(int)\n",
    "area_corrected_3 = (area_not_corrected_3*255/df_Ausschnitt_3['area'].max()).astype(int)\n",
    "\n",
    "df_Ausschnitt_1.loc[:,'intensity'] = int_corrected_1\n",
    "df_Ausschnitt_2.loc[:,'intensity'] = int_corrected_2\n",
    "df_Ausschnitt_3.loc[:,'intensity'] = int_corrected_3"
   ]
  },
  {
   "cell_type": "code",
   "execution_count": 79,
   "metadata": {},
   "outputs": [],
   "source": [
    "data_new_1 = np.zeros((pixels, pixels), dtype=np.uint8)\n",
    "data_new_2 = np.zeros((pixels, pixels), dtype=np.uint8)\n",
    "data_new_3 = np.zeros((pixels, pixels), dtype=np.uint8)\n",
    "\n",
    "for index, row in df_Ausschnitt_1.iterrows():\n",
    "    #print(row[0], 'is a', row[1])\n",
    "    data_new_1[row[0]-pixels*counter,row[1]-pixels*counter] = row[3]\n",
    "\n",
    "for index, row in df_Ausschnitt_2.iterrows():\n",
    "    #print(row[0], 'is a', row[1])\n",
    "    data_new_2[row[0]-pixels*counter,row[1]-pixels*counter] = row[3]\n",
    "    \n",
    "for index, row in df_Ausschnitt_3.iterrows():\n",
    "    #print(row[0], 'is a', row[1])\n",
    "    data_new_3[row[0]-pixels*counter,row[1]-pixels*counter] = row[3]"
   ]
  },
  {
   "cell_type": "code",
   "execution_count": 47,
   "metadata": {},
   "outputs": [],
   "source": [
    "img = Image.fromarray(data_new_1,'L')#, 'RGB')\n",
    "img.save('my.png')\n",
    "img.show()"
   ]
  },
  {
   "cell_type": "code",
   "execution_count": 25,
   "metadata": {},
   "outputs": [],
   "source": [
    "blurred_data_new_1 = ndimage.gaussian_filter(data_new_1, sigma = 2)\n",
    "\n",
    "\n",
    "\n",
    "img = Image.fromarray(blurred_data_new_1,'L')\n",
    "img.save('my.png')\n",
    "img.show()\n",
    "\n",
    "\n"
   ]
  },
  {
   "cell_type": "code",
   "execution_count": 85,
   "metadata": {},
   "outputs": [],
   "source": [
    "new = ndimage.grey_dilation(data_new_1, size=(10,10))#, structure=np.ones((10, 10)))\n",
    "img = Image.fromarray(new,'L')\n",
    "img.save('my.png')\n",
    "img.show()\n",
    "\n"
   ]
  },
  {
   "cell_type": "code",
   "execution_count": 51,
   "metadata": {},
   "outputs": [],
   "source": [
    "np.random.seed(2)\n",
    "im = np.zeros((64, 64))\n",
    "x, y = (63*np.random.random((2, 8))).astype(np.int)\n",
    "im[x, y] = np.arange(8)\n",
    "\n",
    "bigger_points = ndimage.grey_dilation(im, size=(5, 5))#, structure=np.ones((5, 5)))\n",
    "\n",
    "square = np.zeros((16, 16))\n",
    "square[4:-4, 4:-4] = 1\n",
    "dist = ndimage.distance_transform_bf(square)\n",
    "dilate_dist = ndimage.grey_dilation(dist, size=(3, 3), \\\n",
    "        structure=np.ones((3, 3)))"
   ]
  },
  {
   "cell_type": "code",
   "execution_count": 50,
   "metadata": {},
   "outputs": [],
   "source": [
    "dist = ndimage.distance_transform_bf(data_new_1)\n",
    "dilate_dist = ndimage.grey_dilation(dist, size=(3, 3), \\\n",
    "        structure=np.ones((3, 3)))\n",
    "img = Image.fromarray(dist,'L')\n",
    "\n",
    "img.save('my.png')\n",
    "img.show()"
   ]
  },
  {
   "cell_type": "code",
   "execution_count": 377,
   "metadata": {},
   "outputs": [],
   "source": [
    "img = Image.fromarray(data_new_2,'L')#, 'RGB')\n",
    "img.save('my.png')\n",
    "img.show()"
   ]
  },
  {
   "cell_type": "code",
   "execution_count": 378,
   "metadata": {},
   "outputs": [],
   "source": [
    "img = Image.fromarray(data_new_3,'L')#, 'RGB')\n",
    "img.save('my.png')\n",
    "img.show()"
   ]
  },
  {
   "cell_type": "code",
   "execution_count": 80,
   "metadata": {},
   "outputs": [],
   "source": [
    "data_new_1 = ndimage.grey_dilation(data_new_1, size=(10,10))\n",
    "data_new_2 = ndimage.grey_dilation(data_new_2, size=(10,10))\n",
    "data_new_3 = ndimage.grey_dilation(data_new_3, size=(10,10))"
   ]
  },
  {
   "cell_type": "code",
   "execution_count": 81,
   "metadata": {},
   "outputs": [],
   "source": [
    "data = np.zeros((h, w, 3), dtype=np.uint8)"
   ]
  },
  {
   "cell_type": "code",
   "execution_count": 82,
   "metadata": {},
   "outputs": [],
   "source": [
    "for i in range(pixels):\n",
    "    for j in range(pixels):\n",
    "        data[i][j][0] = data_new_1[i][j]\n",
    "        data[i][j][1] = data_new_2[i][j]\n",
    "        data[i][j][2] = data_new_3[i][j]"
   ]
  },
  {
   "cell_type": "code",
   "execution_count": 74,
   "metadata": {},
   "outputs": [
    {
     "data": {
      "text/plain": [
       "array([[[0, 0, 0],\n",
       "        [0, 0, 0],\n",
       "        [0, 0, 0],\n",
       "        ...,\n",
       "        [0, 0, 0],\n",
       "        [0, 0, 0],\n",
       "        [0, 0, 0]],\n",
       "\n",
       "       [[0, 0, 0],\n",
       "        [0, 0, 0],\n",
       "        [0, 0, 0],\n",
       "        ...,\n",
       "        [0, 0, 0],\n",
       "        [0, 0, 0],\n",
       "        [0, 0, 0]],\n",
       "\n",
       "       [[0, 0, 0],\n",
       "        [0, 0, 0],\n",
       "        [0, 0, 0],\n",
       "        ...,\n",
       "        [0, 0, 0],\n",
       "        [0, 0, 0],\n",
       "        [0, 0, 0]],\n",
       "\n",
       "       ...,\n",
       "\n",
       "       [[0, 0, 0],\n",
       "        [0, 0, 0],\n",
       "        [0, 0, 0],\n",
       "        ...,\n",
       "        [0, 0, 0],\n",
       "        [0, 0, 0],\n",
       "        [0, 0, 0]],\n",
       "\n",
       "       [[0, 0, 0],\n",
       "        [0, 0, 0],\n",
       "        [0, 0, 0],\n",
       "        ...,\n",
       "        [0, 0, 0],\n",
       "        [0, 0, 0],\n",
       "        [0, 0, 0]],\n",
       "\n",
       "       [[0, 0, 0],\n",
       "        [0, 0, 0],\n",
       "        [0, 0, 0],\n",
       "        ...,\n",
       "        [0, 0, 0],\n",
       "        [0, 0, 0],\n",
       "        [0, 0, 0]]], dtype=uint8)"
      ]
     },
     "execution_count": 74,
     "metadata": {},
     "output_type": "execute_result"
    }
   ],
   "source": [
    "data"
   ]
  },
  {
   "cell_type": "code",
   "execution_count": 83,
   "metadata": {},
   "outputs": [],
   "source": [
    "img = Image.fromarray(data, 'RGB')\n",
    "img.save('my.png')\n",
    "img.show()"
   ]
  },
  {
   "cell_type": "code",
   "execution_count": null,
   "metadata": {},
   "outputs": [],
   "source": []
  },
  {
   "cell_type": "code",
   "execution_count": 29,
   "metadata": {},
   "outputs": [
    {
     "data": {
      "text/html": [
       "<div>\n",
       "<style scoped>\n",
       "    .dataframe tbody tr th:only-of-type {\n",
       "        vertical-align: middle;\n",
       "    }\n",
       "\n",
       "    .dataframe tbody tr th {\n",
       "        vertical-align: top;\n",
       "    }\n",
       "\n",
       "    .dataframe thead th {\n",
       "        text-align: right;\n",
       "    }\n",
       "</style>\n",
       "<table border=\"1\" class=\"dataframe\">\n",
       "  <thead>\n",
       "    <tr style=\"text-align: right;\">\n",
       "      <th></th>\n",
       "      <th>x</th>\n",
       "      <th>y</th>\n",
       "      <th>area</th>\n",
       "      <th>intensity</th>\n",
       "    </tr>\n",
       "  </thead>\n",
       "  <tbody>\n",
       "    <tr>\n",
       "      <th>0</th>\n",
       "      <td>1300</td>\n",
       "      <td>413</td>\n",
       "      <td>0</td>\n",
       "      <td>426</td>\n",
       "    </tr>\n",
       "    <tr>\n",
       "      <th>1</th>\n",
       "      <td>1305</td>\n",
       "      <td>418</td>\n",
       "      <td>0</td>\n",
       "      <td>631</td>\n",
       "    </tr>\n",
       "    <tr>\n",
       "      <th>2</th>\n",
       "      <td>1312</td>\n",
       "      <td>425</td>\n",
       "      <td>84</td>\n",
       "      <td>760</td>\n",
       "    </tr>\n",
       "    <tr>\n",
       "      <th>3</th>\n",
       "      <td>1317</td>\n",
       "      <td>430</td>\n",
       "      <td>168</td>\n",
       "      <td>833</td>\n",
       "    </tr>\n",
       "    <tr>\n",
       "      <th>4</th>\n",
       "      <td>1325</td>\n",
       "      <td>438</td>\n",
       "      <td>168</td>\n",
       "      <td>890</td>\n",
       "    </tr>\n",
       "    <tr>\n",
       "      <th>...</th>\n",
       "      <td>...</td>\n",
       "      <td>...</td>\n",
       "      <td>...</td>\n",
       "      <td>...</td>\n",
       "    </tr>\n",
       "    <tr>\n",
       "      <th>9797</th>\n",
       "      <td>281</td>\n",
       "      <td>1087</td>\n",
       "      <td>1323</td>\n",
       "      <td>1444</td>\n",
       "    </tr>\n",
       "    <tr>\n",
       "      <th>9798</th>\n",
       "      <td>623</td>\n",
       "      <td>1450</td>\n",
       "      <td>735</td>\n",
       "      <td>1313</td>\n",
       "    </tr>\n",
       "    <tr>\n",
       "      <th>9799</th>\n",
       "      <td>315</td>\n",
       "      <td>1161</td>\n",
       "      <td>795</td>\n",
       "      <td>1120</td>\n",
       "    </tr>\n",
       "    <tr>\n",
       "      <th>9800</th>\n",
       "      <td>541</td>\n",
       "      <td>1407</td>\n",
       "      <td>671</td>\n",
       "      <td>802</td>\n",
       "    </tr>\n",
       "    <tr>\n",
       "      <th>9801</th>\n",
       "      <td>387</td>\n",
       "      <td>1273</td>\n",
       "      <td>508</td>\n",
       "      <td>1048</td>\n",
       "    </tr>\n",
       "  </tbody>\n",
       "</table>\n",
       "<p>9802 rows × 4 columns</p>\n",
       "</div>"
      ],
      "text/plain": [
       "         x     y  area  intensity\n",
       "0     1300   413     0        426\n",
       "1     1305   418     0        631\n",
       "2     1312   425    84        760\n",
       "3     1317   430   168        833\n",
       "4     1325   438   168        890\n",
       "...    ...   ...   ...        ...\n",
       "9797   281  1087  1323       1444\n",
       "9798   623  1450   735       1313\n",
       "9799   315  1161   795       1120\n",
       "9800   541  1407   671        802\n",
       "9801   387  1273   508       1048\n",
       "\n",
       "[9802 rows x 4 columns]"
      ]
     },
     "execution_count": 29,
     "metadata": {},
     "output_type": "execute_result"
    }
   ],
   "source": [
    "df_1"
   ]
  },
  {
   "cell_type": "code",
   "execution_count": 30,
   "metadata": {},
   "outputs": [
    {
     "data": {
      "text/plain": [
       "array([[1300,  413,    0,  426],\n",
       "       [1305,  418,    0,  631],\n",
       "       [1312,  425,   84,  760],\n",
       "       ...,\n",
       "       [ 315, 1161,  795, 1120],\n",
       "       [ 541, 1407,  671,  802],\n",
       "       [ 387, 1273,  508, 1048]])"
      ]
     },
     "execution_count": 30,
     "metadata": {},
     "output_type": "execute_result"
    }
   ],
   "source": [
    "array_docked_1"
   ]
  },
  {
   "cell_type": "code",
   "execution_count": 39,
   "metadata": {},
   "outputs": [],
   "source": [
    "#trying to save array_docked_1 to disk\n",
    "np.save('/home/jan/Documents/Trainingsdaten/Saved_NP_arrays/array_docked_1',data)"
   ]
  },
  {
   "cell_type": "code",
   "execution_count": 40,
   "metadata": {},
   "outputs": [],
   "source": [
    "array_loaded = np.load('/home/jan/Documents/Trainingsdaten/Saved_NP_arrays/array_docked_1.npy')"
   ]
  },
  {
   "cell_type": "code",
   "execution_count": 41,
   "metadata": {},
   "outputs": [
    {
     "data": {
      "text/plain": [
       "array([[[0, 0, 0],\n",
       "        [0, 0, 0],\n",
       "        [0, 0, 0],\n",
       "        ...,\n",
       "        [0, 0, 0],\n",
       "        [0, 0, 0],\n",
       "        [0, 0, 0]],\n",
       "\n",
       "       [[0, 0, 0],\n",
       "        [0, 0, 0],\n",
       "        [0, 0, 0],\n",
       "        ...,\n",
       "        [0, 0, 0],\n",
       "        [0, 0, 0],\n",
       "        [0, 0, 0]],\n",
       "\n",
       "       [[0, 0, 0],\n",
       "        [0, 0, 0],\n",
       "        [0, 0, 0],\n",
       "        ...,\n",
       "        [0, 0, 0],\n",
       "        [0, 0, 0],\n",
       "        [0, 0, 0]],\n",
       "\n",
       "       ...,\n",
       "\n",
       "       [[0, 0, 0],\n",
       "        [0, 0, 0],\n",
       "        [0, 0, 0],\n",
       "        ...,\n",
       "        [0, 0, 0],\n",
       "        [0, 0, 0],\n",
       "        [0, 0, 0]],\n",
       "\n",
       "       [[0, 0, 0],\n",
       "        [0, 0, 0],\n",
       "        [0, 0, 0],\n",
       "        ...,\n",
       "        [0, 0, 0],\n",
       "        [0, 0, 0],\n",
       "        [0, 0, 0]],\n",
       "\n",
       "       [[0, 0, 0],\n",
       "        [0, 0, 0],\n",
       "        [0, 0, 0],\n",
       "        ...,\n",
       "        [0, 0, 0],\n",
       "        [0, 0, 0],\n",
       "        [0, 0, 0]]], dtype=uint8)"
      ]
     },
     "execution_count": 41,
     "metadata": {},
     "output_type": "execute_result"
    }
   ],
   "source": [
    "array_loaded"
   ]
  },
  {
   "cell_type": "code",
   "execution_count": 42,
   "metadata": {},
   "outputs": [
    {
     "data": {
      "text/plain": [
       "(224, 224, 3)"
      ]
     },
     "execution_count": 42,
     "metadata": {},
     "output_type": "execute_result"
    }
   ],
   "source": [
    "array_loaded.shape"
   ]
  },
  {
   "cell_type": "code",
   "execution_count": null,
   "metadata": {},
   "outputs": [],
   "source": []
  }
 ],
 "metadata": {
  "kernelspec": {
   "display_name": "Python [conda env:DataPrep]",
   "language": "python",
   "name": "conda-env-DataPrep-py"
  },
  "language_info": {
   "codemirror_mode": {
    "name": "ipython",
    "version": 3
   },
   "file_extension": ".py",
   "mimetype": "text/x-python",
   "name": "python",
   "nbconvert_exporter": "python",
   "pygments_lexer": "ipython3",
   "version": "3.7.5"
  }
 },
 "nbformat": 4,
 "nbformat_minor": 2
}
