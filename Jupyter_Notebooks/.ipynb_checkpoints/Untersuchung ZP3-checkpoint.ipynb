{
 "cells": [
  {
   "cell_type": "code",
   "execution_count": 2,
   "metadata": {},
   "outputs": [],
   "source": [
    "import numpy as np\n",
    "import h5py\n",
    "import time\n",
    "import pandas as pd\n",
    "import math\n",
    "import scipy.misc\n",
    "from scipy import ndimage\n",
    "import matplotlib.pyplot as plt\n",
    "from PIL import Image"
   ]
  },
  {
   "cell_type": "code",
   "execution_count": 10,
   "metadata": {},
   "outputs": [],
   "source": [
    "def get_2D_data_from_h5_filtered_np_xy_changed(h5_path, part_name, slice_name, show_info = False):\n",
    "    # opening h5 and getting the data\n",
    "    start_time = time.time()\n",
    "\n",
    "    with h5py.File(h5_path, 'r') as h5:\n",
    "        # check whether slice exists -> if not: empty array returned\n",
    "        # here the X and Y axis are changed to fit the OpenCV coordinate system\n",
    "        \n",
    "        if slice_name in h5[part_name]:\n",
    "            X_Axis = np.array(h5[part_name][slice_name]['Y-Axis'][:]).astype(int)\n",
    "            Area = np.array(h5[part_name][slice_name]['Area'][:]).astype(int)\n",
    "            Intensity = np.array(h5[part_name][slice_name]['Intensity'][:]).astype(int)\n",
    "            Y_Axis = np.array(h5[part_name][slice_name]['X-Axis'][:]).astype(int)\n",
    "\n",
    "            X_Axis_size = X_Axis.size\n",
    "            Y_Axis_size = Y_Axis.size\n",
    "            Area_size = Area.size\n",
    "            Intensity_size = Intensity.size\n",
    "\n",
    "            # if dimensions aren't equal the following code block is entered\n",
    "            if not X_Axis_size == Y_Axis_size == Area_size == Intensity_size:\n",
    "\n",
    "                # determine the lowest value among the different sizes\n",
    "                size_arr = np.array([X_Axis_size, Y_Axis_size, Area_size, Intensity_size])\n",
    "                min_size = size_arr.min()\n",
    "\n",
    "                if X_Axis_size != min_size:\n",
    "                    diff_size_x = X_Axis_size - min_size  # calculating the difference between the actual value and the minimum and substracting it from the array\n",
    "                    X_Axis_new = np.delete(X_Axis, -diff_size_x)\n",
    "                    X_Axis = X_Axis_new\n",
    "                    X_Axis_size = X_Axis.size\n",
    "\n",
    "                if Y_Axis_size != min_size:\n",
    "                    diff_size_y = Y_Axis_size - min_size\n",
    "                    Y_Axis_new = np.delete(Y_Axis, -diff_size_y)\n",
    "                    Y_Axis = Y_Axis_new\n",
    "                    Y_Axis_size = Y_Axis.size\n",
    "\n",
    "                if Area_size != min_size:\n",
    "                    diff_size_area = Area_size - min_size\n",
    "                    Area_new = np.delete(Area, -diff_size_area)\n",
    "                    Area = Area_new\n",
    "                    Area_size = Area.size\n",
    "\n",
    "                if Intensity_size != min_size:\n",
    "                    diff_size_intensity = Intensity_size - min_size\n",
    "                    Intensity_new = np.delete(Intensity, -diff_size_intensity)\n",
    "                    Intensity = Intensity_new\n",
    "                    Intensity_size = Intensity.size\n",
    "\n",
    "                # by reducing all the dimensions to the minimum equal dimensions are guaranteed\n",
    "                # there is a risk of deleting more than just one datapoint without noticing -> maybe add an alert after more than 5(?) while iterations\n",
    "            #\n",
    "\n",
    "            if show_info:\n",
    "                print(str(X_Axis_size) + ' total data points found')\n",
    "\n",
    "            combos = np.stack((X_Axis, Y_Axis, Area, Intensity), axis=-1)\n",
    "\n",
    "            # filtering out the outlier data points\n",
    "            median_x = np.median(combos[:, 0])\n",
    "            median_y = np.median(combos[:, 1])\n",
    "            std_x = int(combos[:, 0].std())\n",
    "            std_y = int(combos[:, 1].std())\n",
    "            low_limit_x = median_x - 2 * std_x\n",
    "            low_limit_y = median_y - 2 * std_y\n",
    "            high_limit_x = median_x + 2 * std_x\n",
    "            high_limit_y = median_y + 2 * std_y\n",
    "\n",
    "            combos = np.delete(combos, np.where(combos[:, 0] < low_limit_x), axis=0)\n",
    "            combos = np.delete(combos, np.where(combos[:, 0] > high_limit_x), axis=0)\n",
    "            combos = np.delete(combos, np.where(combos[:, 1] < low_limit_y), axis=0)\n",
    "            combos = np.delete(combos, np.where(combos[:, 1] > high_limit_y), axis=0)\n",
    "\n",
    "            # filtering out the data points where area and intensity are =0\n",
    "            area_zeros = np.where(combos[:, 2] == 0)\n",
    "            intensity_zeros = np.where(combos[:, 3] == 0)\n",
    "            zero_area_intensity_indices = np.intersect1d(area_zeros,\n",
    "                                                         intensity_zeros)  # array of indices where area AND intensity are = 0\n",
    "\n",
    "            # deleting all the datapoints where area AND intensity are = 0\n",
    "            combos_wo_only_zeros = np.delete(combos, zero_area_intensity_indices, axis=0)\n",
    "            if show_info:\n",
    "                print(str(combos_wo_only_zeros.shape[0]) + ' data points where area != 0 AND intensity != 0')\n",
    "\n",
    "            combos_wo_only_zeros_unique, unique_indices = np.unique(combos_wo_only_zeros[:, [0, 1]], axis=0,\n",
    "                                                                    return_index=True)\n",
    "            combos_unique = combos_wo_only_zeros[unique_indices]\n",
    "\n",
    "            if show_info:\n",
    "                print(str(combos_unique.shape[0]) + ' unique data points where area != 0 AND intensity != 0')\n",
    "\n",
    "            Index_range = np.arange(combos_wo_only_zeros.shape[0])\n",
    "            indices_of_interest = np.setdiff1d(Index_range,\n",
    "                                               unique_indices)  # all the indices belonging to non unique x,y-combinations\n",
    "\n",
    "            combo_processed_array = np.empty([0, 4], dtype=int)\n",
    "            start_time = time.time()\n",
    "            combos_wo_only_zeros_copy = np.copy(combos_wo_only_zeros)\n",
    "            index_counter = 0\n",
    "            shape_counter = 0\n",
    "            indices_list = []\n",
    "\n",
    "            if show_info:\n",
    "                print(\"vor iterieren %s seconds ---\" % (time.time() - start_time))\n",
    "\n",
    "            for index in indices_of_interest:\n",
    "                xy_combo = combos_wo_only_zeros[:, [0, 1]][index]\n",
    "                if \\\n",
    "                np.where((combo_processed_array[:, 0] == xy_combo[0]) * (combo_processed_array[:, 1] == xy_combo[1]))[\n",
    "                    0].size == 0:\n",
    "                    index_counter += 1\n",
    "                    xy_combo = combos_wo_only_zeros[:, [0, 1]][index]\n",
    "                    indices_relevant = \\\n",
    "                    np.where((combos_wo_only_zeros[:, 0] == xy_combo[0]) * (combos_wo_only_zeros[:, 1] == xy_combo[1]))[\n",
    "                        0]\n",
    "                    max_area_of_combo = np.amax(combos_wo_only_zeros[:, 2][indices_relevant])\n",
    "                    max_intensity_of_combo = np.amax(combos_wo_only_zeros[:, 3][indices_relevant])\n",
    "\n",
    "                    max_combos = np.stack((xy_combo[0], xy_combo[1], max_area_of_combo, max_intensity_of_combo),\n",
    "                                          axis=-1)\n",
    "\n",
    "                    combos_wo_only_zeros_copy = np.vstack((combos_wo_only_zeros_copy, max_combos))\n",
    "                    shape_counter += indices_relevant.shape[0]\n",
    "                    indices_list.append(list(indices_relevant))\n",
    "\n",
    "                    combo_processed_array = np.vstack((combo_processed_array, max_combos))\n",
    "\n",
    "            indices_relevant = np.hstack(indices_list)\n",
    "            combos_wo_only_zeros_copy = np.delete(combos_wo_only_zeros_copy, indices_relevant, axis=0)\n",
    "        else:\n",
    "            combos_wo_only_zeros_copy = np.empty([0, 4], dtype=int)\n",
    "            print('{} is not existing -> empty array created'.format(slice_name))\n",
    "\n",
    "        if show_info:\n",
    "            print(\"array creation took %s seconds ---\" % (time.time() - start_time))\n",
    "        return combos_wo_only_zeros_copy\n",
    "\n",
    "    \n",
    "    \n",
    "    \n",
    "\n",
    "\n",
    "\n",
    "\n",
    "def dock_array_to_zero(array, minX, minY):\n",
    "    if minX >= 0 and minY >= 0:\n",
    "        array[:, 0] = array[:, 0] - minX\n",
    "        array[:, 1] = array[:, 1] - minY\n",
    "    elif minX < 0 and minY < 0:\n",
    "        array[:, 0] = array[:, 0] + abs(minX)\n",
    "        array[:, 1] = array[:, 1] + abs(minY)\n",
    "    elif minX >= 0 and minY < 0:\n",
    "        array[:, 0] = array[:, 0] - minX\n",
    "        array[:, 1] = array[:, 1] + abs(minY)\n",
    "    elif minX < 0 and minY >= 0:\n",
    "        array[:, 0] = array[:, 0] + abs(minX)\n",
    "        array[:, 1] = array[:, 1] - minY\n",
    "    return array\n",
    "\n",
    "\n",
    "def get_number_grid (length_x_part, length_y_part, grid_size):\n",
    "    n_voxels_x = math.ceil(int(length_x_part)/grid_size)\n",
    "    n_voxels_y = math.ceil(int(length_y_part)/grid_size)\n",
    "    \n",
    "    return n_voxels_x, n_voxels_y \n",
    "\n",
    "\n",
    "def create_single_grid_array_storage_reduced_coordsys_left_upper_corner (cur_n_grid_x, cur_n_grid_y, grid_size, array, y_max):\n",
    "    \n",
    "    #the added y_max - operation changes the coordinate system to a top left corner rotated coordinate system which is used by opencv\n",
    "    #y_max = array[:,1].max()\n",
    "    x_min_grid = cur_n_grid_x * grid_size\n",
    "    x_max_grid = (cur_n_grid_x + 1)*grid_size\n",
    "    y_min_grid = y_max-(cur_n_grid_y + 1) * grid_size\n",
    "    y_max_grid = y_max-cur_n_grid_y * grid_size\n",
    "    \n",
    "    #print(x_min_grid)\n",
    "    #print(x_max_grid)\n",
    "    #print(y_min_grid)\n",
    "    #print(y_max_grid)\n",
    "\n",
    "    #x_axis_voxel =  np.repeat(np.arange(x_min_grid,x_max_grid,1),grid_size)\n",
    "    #y_axis_voxel =  np.tile(np.arange(y_min_grid,y_max_grid,1),grid_size)\n",
    "    #Zero_array = np.zeros(grid_size*grid_size, dtype=int)\n",
    "\n",
    "    grid_array = np.empty([0,4],dtype= int)\n",
    "\n",
    "    #check if datapoints in array are in the region of the voxel\n",
    "    indices_relevant = np.where((array[:,0] >= x_min_grid)*(array[:,0] < x_max_grid)*(array[:,1] >= y_min_grid)*(array[:,1] < y_max_grid))[0]\n",
    "\n",
    "    if indices_relevant.size != 0:\n",
    "        relevant_array = array[indices_relevant]\n",
    "        relevant_array[:,0] = relevant_array[:,0] - x_min_grid\n",
    "        relevant_array[:,1] = relevant_array[:,1] - y_min_grid\n",
    "\n",
    "        final_grid_array = relevant_array\n",
    "    else:\n",
    "        final_grid_array = grid_array\n",
    "\n",
    "    return final_grid_array\n",
    "\n",
    "\n",
    "\n",
    "def process_data_to_picturelike_structure(array, grid_size, kernel_size, max_int):\n",
    "    # creating a picture grid with only zeros as a base for data filling\n",
    "    picture_grid = np.zeros((grid_size, grid_size), dtype=np.uint8)\n",
    "    \n",
    "    # filling in the points from final grid, row[3]\n",
    "    for row in array:    \n",
    "        picture_grid[row[0],row[1]] = int(row[3]*255/max_int)\n",
    "        \n",
    "    return  ndimage.grey_dilation(picture_grid, size=(kernel_size, kernel_size))\n",
    "\n",
    "\n",
    "def get_max_intensity_whole_part(h5_path, part_name,  max_slice_num):\n",
    "    df = pd.DataFrame(columns=['Slice_num', 'maxInt', 'medianInt', 'meanInt', 'StdInt'])\n",
    "\n",
    "    for num_slice in range(max_slice_num):\n",
    "        slice_name = 'Slice' + str(\"{:05d}\".format(num_slice + 1))\n",
    "\n",
    "        array = get_2D_data_from_h5_filtered_np_xy_changed(h5_path, part_name, slice_name)\n",
    "        maxInt = array[:, 3].max()\n",
    "        medianInt = np.median(array[:, 3])\n",
    "        meanInt = np.mean(array[:, 3])\n",
    "        stdInt = np.std(array[:, 3])\n",
    "        \n",
    "        df = df.append({'Slice_num': \"{:05d}\".format(num_slice + 1), 'maxInt': maxInt, 'medianInt':medianInt, 'meanInt':meanInt, 'StdInt':stdInt}, ignore_index=True)\n",
    "\n",
    "    return df['medianInt'].mean(), df['StdInt'].mean()\n",
    "\n",
    "\n",
    "def filter_out_outlier_intensity(array, n_sigma, median_int, std_int):\n",
    "    low_limit_int = int(median_int - n_sigma * std_int)\n",
    "    high_limit_int = int(median_int + n_sigma * std_int)\n",
    "\n",
    "    array_return = np.delete(array, np.where(array[:, 3] < low_limit_int), axis=0)\n",
    "    array_return = np.delete(array, np.where(array[:, 3] > high_limit_int), axis=0)\n",
    "        \n",
    "    return array_return, high_limit_int"
   ]
  },
  {
   "cell_type": "code",
   "execution_count": 11,
   "metadata": {},
   "outputs": [],
   "source": [
    "ZP_nummer = 3\n",
    "min_slice = 381\n",
    "max_slice = 1551\n",
    "h5_path = '/home/jan/Documents/Trainingsdaten/ZPs/ZP{}/ZP_{}_full_part.h5'.format(ZP_nummer, ZP_nummer)\n",
    "part_name = 'ZP{}_combined'.format(ZP_nummer)\n",
    "slice_name = \"Slice00001\"\n",
    "grid_size = 874\n",
    "kernel_size = 10\n",
    "stds = 5"
   ]
  },
  {
   "cell_type": "code",
   "execution_count": 46,
   "metadata": {},
   "outputs": [],
   "source": [
    "# changed so it returns dataframe for investigation of abnormality of max/min values of ZP3 \n",
    "\n",
    "\n",
    "def get_min_max_values_xy_changed (h5_path, part_name,  max_slice_num):\n",
    "    df = pd.DataFrame(columns=['Slice_num', 'minX', 'maxX', 'minY', 'maxY', 'diameterX', 'diameterY'])\n",
    "\n",
    "    for num_slice in range(max_slice_num):\n",
    "        if num_slice != 1292:\n",
    "            slice_name = 'Slice' + str(\"{:05d}\".format(num_slice + 1))\n",
    "\n",
    "            array = get_2D_data_from_h5_filtered_np_xy_changed(h5_path, part_name, slice_name)\n",
    "            minX = array[:, 0].min()\n",
    "            maxX = array[:, 0].max()\n",
    "            minY = array[:, 1].min()\n",
    "            maxY = array[:, 1].max()\n",
    "            diameterX = maxX - minX\n",
    "            diameterY = maxY - minY\n",
    "\n",
    "            df = df.append({'Slice_num': \"{:05d}\".format(num_slice + 1), 'minX': minX, 'maxX': maxX, 'minY': minY, 'maxY': maxY,\n",
    "                            'diameterX': diameterX, 'diameterY': diameterY}, ignore_index=True)\n",
    "\n",
    "    return df, df['minX'].min(), df['minY'].min(), df['maxX'].max(), df['maxY'].max()"
   ]
  },
  {
   "cell_type": "code",
   "execution_count": 47,
   "metadata": {},
   "outputs": [],
   "source": [
    "df, minX, minY, maxX, maxY = get_min_max_values_xy_changed (h5_path, part_name,  1593)\n",
    "y_max = maxY-minY\n",
    "length_x_part = maxX - minX\n",
    "length_y_part = maxY - minY"
   ]
  },
  {
   "cell_type": "code",
   "execution_count": 49,
   "metadata": {},
   "outputs": [
    {
     "data": {
      "text/plain": [
       "1748"
      ]
     },
     "execution_count": 49,
     "metadata": {},
     "output_type": "execute_result"
    }
   ],
   "source": [
    "length_x_part"
   ]
  },
  {
   "cell_type": "code",
   "execution_count": 50,
   "metadata": {},
   "outputs": [
    {
     "data": {
      "text/plain": [
       "1747"
      ]
     },
     "execution_count": 50,
     "metadata": {},
     "output_type": "execute_result"
    }
   ],
   "source": [
    "length_y_part"
   ]
  },
  {
   "cell_type": "code",
   "execution_count": 28,
   "metadata": {},
   "outputs": [
    {
     "data": {
      "text/plain": [
       "1748"
      ]
     },
     "execution_count": 28,
     "metadata": {},
     "output_type": "execute_result"
    }
   ],
   "source": [
    "874*2"
   ]
  },
  {
   "cell_type": "code",
   "execution_count": 48,
   "metadata": {},
   "outputs": [
    {
     "data": {
      "text/html": [
       "<div>\n",
       "<style scoped>\n",
       "    .dataframe tbody tr th:only-of-type {\n",
       "        vertical-align: middle;\n",
       "    }\n",
       "\n",
       "    .dataframe tbody tr th {\n",
       "        vertical-align: top;\n",
       "    }\n",
       "\n",
       "    .dataframe thead th {\n",
       "        text-align: right;\n",
       "    }\n",
       "</style>\n",
       "<table border=\"1\" class=\"dataframe\">\n",
       "  <thead>\n",
       "    <tr style=\"text-align: right;\">\n",
       "      <th></th>\n",
       "      <th>Slice_num</th>\n",
       "      <th>minX</th>\n",
       "      <th>maxX</th>\n",
       "      <th>minY</th>\n",
       "      <th>maxY</th>\n",
       "      <th>diameterX</th>\n",
       "      <th>diameterY</th>\n",
       "    </tr>\n",
       "  </thead>\n",
       "  <tbody>\n",
       "  </tbody>\n",
       "</table>\n",
       "</div>"
      ],
      "text/plain": [
       "Empty DataFrame\n",
       "Columns: [Slice_num, minX, maxX, minY, maxY, diameterX, diameterY]\n",
       "Index: []"
      ]
     },
     "execution_count": 48,
     "metadata": {},
     "output_type": "execute_result"
    }
   ],
   "source": [
    "df[df['diameterY']>1748]"
   ]
  },
  {
   "cell_type": "code",
   "execution_count": 37,
   "metadata": {},
   "outputs": [
    {
     "data": {
      "text/html": [
       "<div>\n",
       "<style scoped>\n",
       "    .dataframe tbody tr th:only-of-type {\n",
       "        vertical-align: middle;\n",
       "    }\n",
       "\n",
       "    .dataframe tbody tr th {\n",
       "        vertical-align: top;\n",
       "    }\n",
       "\n",
       "    .dataframe thead th {\n",
       "        text-align: right;\n",
       "    }\n",
       "</style>\n",
       "<table border=\"1\" class=\"dataframe\">\n",
       "  <thead>\n",
       "    <tr style=\"text-align: right;\">\n",
       "      <th></th>\n",
       "      <th>Slice_num</th>\n",
       "      <th>minX</th>\n",
       "      <th>maxX</th>\n",
       "      <th>minY</th>\n",
       "      <th>maxY</th>\n",
       "      <th>diameterX</th>\n",
       "      <th>diameterY</th>\n",
       "    </tr>\n",
       "  </thead>\n",
       "  <tbody>\n",
       "    <tr>\n",
       "      <th>0</th>\n",
       "      <td>00001</td>\n",
       "      <td>4678</td>\n",
       "      <td>6423</td>\n",
       "      <td>-24333</td>\n",
       "      <td>-22600</td>\n",
       "      <td>1745</td>\n",
       "      <td>1733</td>\n",
       "    </tr>\n",
       "    <tr>\n",
       "      <th>1</th>\n",
       "      <td>00002</td>\n",
       "      <td>4675</td>\n",
       "      <td>6420</td>\n",
       "      <td>-24333</td>\n",
       "      <td>-22598</td>\n",
       "      <td>1745</td>\n",
       "      <td>1735</td>\n",
       "    </tr>\n",
       "    <tr>\n",
       "      <th>2</th>\n",
       "      <td>00003</td>\n",
       "      <td>4678</td>\n",
       "      <td>6423</td>\n",
       "      <td>-24333</td>\n",
       "      <td>-22600</td>\n",
       "      <td>1745</td>\n",
       "      <td>1733</td>\n",
       "    </tr>\n",
       "    <tr>\n",
       "      <th>3</th>\n",
       "      <td>00004</td>\n",
       "      <td>4675</td>\n",
       "      <td>6420</td>\n",
       "      <td>-24333</td>\n",
       "      <td>-22598</td>\n",
       "      <td>1745</td>\n",
       "      <td>1735</td>\n",
       "    </tr>\n",
       "    <tr>\n",
       "      <th>4</th>\n",
       "      <td>00005</td>\n",
       "      <td>4678</td>\n",
       "      <td>6423</td>\n",
       "      <td>-24333</td>\n",
       "      <td>-22600</td>\n",
       "      <td>1745</td>\n",
       "      <td>1733</td>\n",
       "    </tr>\n",
       "    <tr>\n",
       "      <th>...</th>\n",
       "      <td>...</td>\n",
       "      <td>...</td>\n",
       "      <td>...</td>\n",
       "      <td>...</td>\n",
       "      <td>...</td>\n",
       "      <td>...</td>\n",
       "      <td>...</td>\n",
       "    </tr>\n",
       "    <tr>\n",
       "      <th>1588</th>\n",
       "      <td>01589</td>\n",
       "      <td>4678</td>\n",
       "      <td>6419</td>\n",
       "      <td>-24337</td>\n",
       "      <td>-22601</td>\n",
       "      <td>1741</td>\n",
       "      <td>1736</td>\n",
       "    </tr>\n",
       "    <tr>\n",
       "      <th>1589</th>\n",
       "      <td>01590</td>\n",
       "      <td>4679</td>\n",
       "      <td>6420</td>\n",
       "      <td>-24337</td>\n",
       "      <td>-22600</td>\n",
       "      <td>1741</td>\n",
       "      <td>1737</td>\n",
       "    </tr>\n",
       "    <tr>\n",
       "      <th>1590</th>\n",
       "      <td>01591</td>\n",
       "      <td>4678</td>\n",
       "      <td>6419</td>\n",
       "      <td>-24337</td>\n",
       "      <td>-22601</td>\n",
       "      <td>1741</td>\n",
       "      <td>1736</td>\n",
       "    </tr>\n",
       "    <tr>\n",
       "      <th>1591</th>\n",
       "      <td>01592</td>\n",
       "      <td>4931</td>\n",
       "      <td>6166</td>\n",
       "      <td>-23724</td>\n",
       "      <td>-23206</td>\n",
       "      <td>1235</td>\n",
       "      <td>518</td>\n",
       "    </tr>\n",
       "    <tr>\n",
       "      <th>1592</th>\n",
       "      <td>01593</td>\n",
       "      <td>4932</td>\n",
       "      <td>6168</td>\n",
       "      <td>-23723</td>\n",
       "      <td>-23208</td>\n",
       "      <td>1236</td>\n",
       "      <td>515</td>\n",
       "    </tr>\n",
       "  </tbody>\n",
       "</table>\n",
       "<p>1593 rows × 7 columns</p>\n",
       "</div>"
      ],
      "text/plain": [
       "     Slice_num  minX  maxX    minY    maxY diameterX diameterY\n",
       "0        00001  4678  6423  -24333  -22600      1745      1733\n",
       "1        00002  4675  6420  -24333  -22598      1745      1735\n",
       "2        00003  4678  6423  -24333  -22600      1745      1733\n",
       "3        00004  4675  6420  -24333  -22598      1745      1735\n",
       "4        00005  4678  6423  -24333  -22600      1745      1733\n",
       "...        ...   ...   ...     ...     ...       ...       ...\n",
       "1588     01589  4678  6419  -24337  -22601      1741      1736\n",
       "1589     01590  4679  6420  -24337  -22600      1741      1737\n",
       "1590     01591  4678  6419  -24337  -22601      1741      1736\n",
       "1591     01592  4931  6166  -23724  -23206      1235       518\n",
       "1592     01593  4932  6168  -23723  -23208      1236       515\n",
       "\n",
       "[1593 rows x 7 columns]"
      ]
     },
     "execution_count": 37,
     "metadata": {},
     "output_type": "execute_result"
    }
   ],
   "source": [
    "df"
   ]
  },
  {
   "cell_type": "code",
   "execution_count": 41,
   "metadata": {},
   "outputs": [],
   "source": [
    "array_not_docked_1 = get_2D_data_from_h5_filtered_np_xy_changed(h5_path, part_name, 'Slice01293', show_info = False)\n",
    "array_docked_1 = dock_array_to_zero(array_not_docked_1, minX, minY)   "
   ]
  },
  {
   "cell_type": "code",
   "execution_count": 44,
   "metadata": {},
   "outputs": [
    {
     "data": {
      "image/png": "[encoded data removed]",
      "text/plain": [
       "<Figure size 432x432 with 1 Axes>"
      ]
     },
     "metadata": {
      "needs_background": "light"
     },
     "output_type": "display_data"
    }
   ],
   "source": [
    "fig = plt.figure( figsize=(6, 6))\n",
    "ax = fig.add_subplot(1, 1, 1)\n",
    "x = array_not_docked_1[:,0]\n",
    "y = array_not_docked_1[:,1]\n",
    "area = np.pi*1\n",
    "ax.scatter(x, y, s=area)\n",
    "plt.show()"
   ]
  },
  {
   "cell_type": "code",
   "execution_count": 45,
   "metadata": {},
   "outputs": [
    {
     "data": {
      "image/png": "[encoded data removed]",
      "text/plain": [
       "<Figure size 432x432 with 1 Axes>"
      ]
     },
     "metadata": {
      "needs_background": "light"
     },
     "output_type": "display_data"
    }
   ],
   "source": [
    "fig = plt.figure( figsize=(6, 6))\n",
    "ax = fig.add_subplot(1, 1, 1)\n",
    "x = array_docked_1[:,0]\n",
    "y = array_docked_1[:,1]\n",
    "area = np.pi*1\n",
    "ax.scatter(x, y, s=area)\n",
    "plt.show()"
   ]
  },
  {
   "cell_type": "code",
   "execution_count": 30,
   "metadata": {},
   "outputs": [
    {
     "data": {
      "text/html": [
       "<div>\n",
       "<style scoped>\n",
       "    .dataframe tbody tr th:only-of-type {\n",
       "        vertical-align: middle;\n",
       "    }\n",
       "\n",
       "    .dataframe tbody tr th {\n",
       "        vertical-align: top;\n",
       "    }\n",
       "\n",
       "    .dataframe thead th {\n",
       "        text-align: right;\n",
       "    }\n",
       "</style>\n",
       "<table border=\"1\" class=\"dataframe\">\n",
       "  <thead>\n",
       "    <tr style=\"text-align: right;\">\n",
       "      <th></th>\n",
       "      <th>Slice_num</th>\n",
       "      <th>minX</th>\n",
       "      <th>maxX</th>\n",
       "      <th>minY</th>\n",
       "      <th>maxY</th>\n",
       "      <th>diameterX</th>\n",
       "      <th>diameterY</th>\n",
       "    </tr>\n",
       "  </thead>\n",
       "  <tbody>\n",
       "    <tr>\n",
       "      <th>0</th>\n",
       "      <td>00001</td>\n",
       "      <td>4678</td>\n",
       "      <td>6423</td>\n",
       "      <td>-24333</td>\n",
       "      <td>-22600</td>\n",
       "      <td>1745</td>\n",
       "      <td>1733</td>\n",
       "    </tr>\n",
       "    <tr>\n",
       "      <th>1</th>\n",
       "      <td>00002</td>\n",
       "      <td>4675</td>\n",
       "      <td>6420</td>\n",
       "      <td>-24333</td>\n",
       "      <td>-22598</td>\n",
       "      <td>1745</td>\n",
       "      <td>1735</td>\n",
       "    </tr>\n",
       "    <tr>\n",
       "      <th>2</th>\n",
       "      <td>00003</td>\n",
       "      <td>4678</td>\n",
       "      <td>6423</td>\n",
       "      <td>-24333</td>\n",
       "      <td>-22600</td>\n",
       "      <td>1745</td>\n",
       "      <td>1733</td>\n",
       "    </tr>\n",
       "    <tr>\n",
       "      <th>3</th>\n",
       "      <td>00004</td>\n",
       "      <td>4675</td>\n",
       "      <td>6420</td>\n",
       "      <td>-24333</td>\n",
       "      <td>-22598</td>\n",
       "      <td>1745</td>\n",
       "      <td>1735</td>\n",
       "    </tr>\n",
       "    <tr>\n",
       "      <th>4</th>\n",
       "      <td>00005</td>\n",
       "      <td>4678</td>\n",
       "      <td>6423</td>\n",
       "      <td>-24333</td>\n",
       "      <td>-22600</td>\n",
       "      <td>1745</td>\n",
       "      <td>1733</td>\n",
       "    </tr>\n",
       "    <tr>\n",
       "      <th>...</th>\n",
       "      <td>...</td>\n",
       "      <td>...</td>\n",
       "      <td>...</td>\n",
       "      <td>...</td>\n",
       "      <td>...</td>\n",
       "      <td>...</td>\n",
       "      <td>...</td>\n",
       "    </tr>\n",
       "    <tr>\n",
       "      <th>1588</th>\n",
       "      <td>01589</td>\n",
       "      <td>4678</td>\n",
       "      <td>6419</td>\n",
       "      <td>-24337</td>\n",
       "      <td>-22601</td>\n",
       "      <td>1741</td>\n",
       "      <td>1736</td>\n",
       "    </tr>\n",
       "    <tr>\n",
       "      <th>1589</th>\n",
       "      <td>01590</td>\n",
       "      <td>4679</td>\n",
       "      <td>6420</td>\n",
       "      <td>-24337</td>\n",
       "      <td>-22600</td>\n",
       "      <td>1741</td>\n",
       "      <td>1737</td>\n",
       "    </tr>\n",
       "    <tr>\n",
       "      <th>1590</th>\n",
       "      <td>01591</td>\n",
       "      <td>4678</td>\n",
       "      <td>6419</td>\n",
       "      <td>-24337</td>\n",
       "      <td>-22601</td>\n",
       "      <td>1741</td>\n",
       "      <td>1736</td>\n",
       "    </tr>\n",
       "    <tr>\n",
       "      <th>1591</th>\n",
       "      <td>01592</td>\n",
       "      <td>4931</td>\n",
       "      <td>6166</td>\n",
       "      <td>-23724</td>\n",
       "      <td>-23206</td>\n",
       "      <td>1235</td>\n",
       "      <td>518</td>\n",
       "    </tr>\n",
       "    <tr>\n",
       "      <th>1592</th>\n",
       "      <td>01593</td>\n",
       "      <td>4932</td>\n",
       "      <td>6168</td>\n",
       "      <td>-23723</td>\n",
       "      <td>-23208</td>\n",
       "      <td>1236</td>\n",
       "      <td>515</td>\n",
       "    </tr>\n",
       "  </tbody>\n",
       "</table>\n",
       "<p>1593 rows × 7 columns</p>\n",
       "</div>"
      ],
      "text/plain": [
       "     Slice_num  minX  maxX    minY    maxY diameterX diameterY\n",
       "0        00001  4678  6423  -24333  -22600      1745      1733\n",
       "1        00002  4675  6420  -24333  -22598      1745      1735\n",
       "2        00003  4678  6423  -24333  -22600      1745      1733\n",
       "3        00004  4675  6420  -24333  -22598      1745      1735\n",
       "4        00005  4678  6423  -24333  -22600      1745      1733\n",
       "...        ...   ...   ...     ...     ...       ...       ...\n",
       "1588     01589  4678  6419  -24337  -22601      1741      1736\n",
       "1589     01590  4679  6420  -24337  -22600      1741      1737\n",
       "1590     01591  4678  6419  -24337  -22601      1741      1736\n",
       "1591     01592  4931  6166  -23724  -23206      1235       518\n",
       "1592     01593  4932  6168  -23723  -23208      1236       515\n",
       "\n",
       "[1593 rows x 7 columns]"
      ]
     },
     "execution_count": 30,
     "metadata": {},
     "output_type": "execute_result"
    }
   ],
   "source": [
    "df"
   ]
  },
  {
   "cell_type": "code",
   "execution_count": 17,
   "metadata": {},
   "outputs": [
    {
     "data": {
      "text/plain": [
       "<matplotlib.axes._subplots.AxesSubplot at 0x7f8de6f28410>"
      ]
     },
     "execution_count": 17,
     "metadata": {},
     "output_type": "execute_result"
    },
    {
     "data": {
      "image/png": "[encoded data removed]",
      "text/plain": [
       "<Figure size 432x288 with 1 Axes>"
      ]
     },
     "metadata": {
      "needs_background": "light"
     },
     "output_type": "display_data"
    }
   ],
   "source": [
    "df['minX'].hist()"
   ]
  },
  {
   "cell_type": "code",
   "execution_count": 18,
   "metadata": {},
   "outputs": [
    {
     "data": {
      "text/plain": [
       "<matplotlib.axes._subplots.AxesSubplot at 0x7f8de659fa10>"
      ]
     },
     "execution_count": 18,
     "metadata": {},
     "output_type": "execute_result"
    },
    {
     "data": {
      "image/png": "[encoded data removed]",
      "text/plain": [
       "<Figure size 432x288 with 1 Axes>"
      ]
     },
     "metadata": {
      "needs_background": "light"
     },
     "output_type": "display_data"
    }
   ],
   "source": [
    "df['maxX'].hist()"
   ]
  },
  {
   "cell_type": "code",
   "execution_count": 19,
   "metadata": {},
   "outputs": [
    {
     "data": {
      "text/plain": [
       "<matplotlib.axes._subplots.AxesSubplot at 0x7f8de64f6bd0>"
      ]
     },
     "execution_count": 19,
     "metadata": {},
     "output_type": "execute_result"
    },
    {
     "data": {
      "image/png": "[encoded data removed]",
      "text/plain": [
       "<Figure size 432x288 with 1 Axes>"
      ]
     },
     "metadata": {
      "needs_background": "light"
     },
     "output_type": "display_data"
    }
   ],
   "source": [
    "df['minY'].hist()"
   ]
  },
  {
   "cell_type": "code",
   "execution_count": 20,
   "metadata": {},
   "outputs": [
    {
     "data": {
      "text/plain": [
       "<matplotlib.axes._subplots.AxesSubplot at 0x7f8de6f282d0>"
      ]
     },
     "execution_count": 20,
     "metadata": {},
     "output_type": "execute_result"
    },
    {
     "data": {
      "image/png": "[encoded data removed]",
      "text/plain": [
       "<Figure size 432x288 with 1 Axes>"
      ]
     },
     "metadata": {
      "needs_background": "light"
     },
     "output_type": "display_data"
    }
   ],
   "source": [
    "df['maxY'].hist()"
   ]
  },
  {
   "cell_type": "code",
   "execution_count": null,
   "metadata": {},
   "outputs": [],
   "source": []
  }
 ],
 "metadata": {
  "kernelspec": {
   "display_name": "Python [conda env:DataPrep]",
   "language": "python",
   "name": "conda-env-DataPrep-py"
  },
  "language_info": {
   "codemirror_mode": {
    "name": "ipython",
    "version": 3
   },
   "file_extension": ".py",
   "mimetype": "text/x-python",
   "name": "python",
   "nbconvert_exporter": "python",
   "pygments_lexer": "ipython3",
   "version": "3.7.5"
  }
 },
 "nbformat": 4,
 "nbformat_minor": 2
}
