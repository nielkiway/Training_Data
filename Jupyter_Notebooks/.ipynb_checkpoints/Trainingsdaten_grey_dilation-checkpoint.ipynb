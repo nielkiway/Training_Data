{
 "cells": [
  {
   "cell_type": "code",
   "execution_count": 1,
   "metadata": {},
   "outputs": [],
   "source": [
    "import numpy as np\n",
    "import h5py\n",
    "import time\n",
    "import pandas as pd\n",
    "import math\n",
    "import scipy.misc\n",
    "from scipy import ndimage\n",
    "import matplotlib.pyplot as plt\n",
    "from PIL import Image"
   ]
  },
  {
   "cell_type": "code",
   "execution_count": 163,
   "metadata": {},
   "outputs": [],
   "source": [
    "def get_2D_data_from_h5_filtered_np_v2(h5_path, part_name, slice_name, show_info = False):\n",
    "    # opening h5 and getting the data\n",
    "    start_time = time.time()\n",
    "\n",
    "    with h5py.File(h5_path, 'r') as h5:\n",
    "        # check whether slice exists -> if not: empty array returned\n",
    "        if slice_name in h5[part_name]:\n",
    "            Y_Axis = np.array(h5[part_name][slice_name]['Y-Axis'][:]).astype(int)\n",
    "            Area = np.array(h5[part_name][slice_name]['Area'][:]).astype(int)\n",
    "            Intensity = np.array(h5[part_name][slice_name]['Intensity'][:]).astype(int)\n",
    "            X_Axis = np.array(h5[part_name][slice_name]['X-Axis'][:]).astype(int)\n",
    "\n",
    "            X_Axis_size = X_Axis.size\n",
    "            Y_Axis_size = Y_Axis.size\n",
    "            Area_size = Area.size\n",
    "            Intensity_size = Intensity.size\n",
    "\n",
    "            # if dimensions aren't equal the following code block is entered\n",
    "            if not X_Axis_size == Y_Axis_size == Area_size == Intensity_size:\n",
    "\n",
    "                # determine the lowest value among the different sizes\n",
    "                size_arr = np.array([X_Axis_size, Y_Axis_size, Area_size, Intensity_size])\n",
    "                min_size = size_arr.min()\n",
    "\n",
    "                if X_Axis_size != min_size:\n",
    "                    diff_size_x = X_Axis_size - min_size  # calculating the difference between the actual value and the minimum and substracting it from the array\n",
    "                    X_Axis_new = np.delete(X_Axis, -diff_size_x)\n",
    "                    X_Axis = X_Axis_new\n",
    "                    X_Axis_size = X_Axis.size\n",
    "\n",
    "                if Y_Axis_size != min_size:\n",
    "                    diff_size_y = Y_Axis_size - min_size\n",
    "                    Y_Axis_new = np.delete(Y_Axis, -diff_size_y)\n",
    "                    Y_Axis = Y_Axis_new\n",
    "                    Y_Axis_size = Y_Axis.size\n",
    "\n",
    "                if Area_size != min_size:\n",
    "                    diff_size_area = Area_size - min_size\n",
    "                    Area_new = np.delete(Area, -diff_size_area)\n",
    "                    Area = Area_new\n",
    "                    Area_size = Area.size\n",
    "\n",
    "                if Intensity_size != min_size:\n",
    "                    diff_size_intensity = Intensity_size - min_size\n",
    "                    Intensity_new = np.delete(Intensity, -diff_size_intensity)\n",
    "                    Intensity = Intensity_new\n",
    "                    Intensity_size = Intensity.size\n",
    "\n",
    "                # by reducing all the dimensions to the minimum equal dimensions are guaranteed\n",
    "                # there is a risk of deleting more than just one datapoint without noticing -> maybe add an alert after more than 5(?) while iterations\n",
    "            #\n",
    "\n",
    "            if show_info:\n",
    "                print(str(X_Axis_size) + ' total data points found')\n",
    "\n",
    "            combos = np.stack((X_Axis, Y_Axis, Area, Intensity), axis=-1)\n",
    "\n",
    "            # filtering out the outlier data points\n",
    "            median_x = np.median(combos[:, 0])\n",
    "            median_y = np.median(combos[:, 1])\n",
    "            std_x = int(combos[:, 0].std())\n",
    "            std_y = int(combos[:, 1].std())\n",
    "            low_limit_x = median_x - 2 * std_x\n",
    "            low_limit_y = median_y - 2 * std_y\n",
    "            high_limit_x = median_x + 2 * std_x\n",
    "            high_limit_y = median_y + 2 * std_y\n",
    "\n",
    "            combos = np.delete(combos, np.where(combos[:, 0] < low_limit_x), axis=0)\n",
    "            combos = np.delete(combos, np.where(combos[:, 0] > high_limit_x), axis=0)\n",
    "            combos = np.delete(combos, np.where(combos[:, 1] < low_limit_y), axis=0)\n",
    "            combos = np.delete(combos, np.where(combos[:, 1] > high_limit_y), axis=0)\n",
    "\n",
    "            # filtering out the data points where area and intensity are =0\n",
    "            area_zeros = np.where(combos[:, 2] == 0)\n",
    "            intensity_zeros = np.where(combos[:, 3] == 0)\n",
    "            zero_area_intensity_indices = np.intersect1d(area_zeros,\n",
    "                                                         intensity_zeros)  # array of indices where area AND intensity are = 0\n",
    "\n",
    "            # deleting all the datapoints where area AND intensity are = 0\n",
    "            combos_wo_only_zeros = np.delete(combos, zero_area_intensity_indices, axis=0)\n",
    "            if show_info:\n",
    "                print(str(combos_wo_only_zeros.shape[0]) + ' data points where area != 0 AND intensity != 0')\n",
    "\n",
    "            combos_wo_only_zeros_unique, unique_indices = np.unique(combos_wo_only_zeros[:, [0, 1]], axis=0,\n",
    "                                                                    return_index=True)\n",
    "            combos_unique = combos_wo_only_zeros[unique_indices]\n",
    "\n",
    "            if show_info:\n",
    "                print(str(combos_unique.shape[0]) + ' unique data points where area != 0 AND intensity != 0')\n",
    "\n",
    "            Index_range = np.arange(combos_wo_only_zeros.shape[0])\n",
    "            indices_of_interest = np.setdiff1d(Index_range,\n",
    "                                               unique_indices)  # all the indices belonging to non unique x,y-combinations\n",
    "\n",
    "            combo_processed_array = np.empty([0, 4], dtype=int)\n",
    "            start_time = time.time()\n",
    "            combos_wo_only_zeros_copy = np.copy(combos_wo_only_zeros)\n",
    "            index_counter = 0\n",
    "            shape_counter = 0\n",
    "            indices_list = []\n",
    "\n",
    "            if show_info:\n",
    "                print(\"vor iterieren %s seconds ---\" % (time.time() - start_time))\n",
    "\n",
    "            for index in indices_of_interest:\n",
    "                xy_combo = combos_wo_only_zeros[:, [0, 1]][index]\n",
    "                if \\\n",
    "                np.where((combo_processed_array[:, 0] == xy_combo[0]) * (combo_processed_array[:, 1] == xy_combo[1]))[\n",
    "                    0].size == 0:\n",
    "                    index_counter += 1\n",
    "                    xy_combo = combos_wo_only_zeros[:, [0, 1]][index]\n",
    "                    indices_relevant = \\\n",
    "                    np.where((combos_wo_only_zeros[:, 0] == xy_combo[0]) * (combos_wo_only_zeros[:, 1] == xy_combo[1]))[\n",
    "                        0]\n",
    "                    max_area_of_combo = np.amax(combos_wo_only_zeros[:, 2][indices_relevant])\n",
    "                    max_intensity_of_combo = np.amax(combos_wo_only_zeros[:, 3][indices_relevant])\n",
    "\n",
    "                    max_combos = np.stack((xy_combo[0], xy_combo[1], max_area_of_combo, max_intensity_of_combo),\n",
    "                                          axis=-1)\n",
    "\n",
    "                    combos_wo_only_zeros_copy = np.vstack((combos_wo_only_zeros_copy, max_combos))\n",
    "                    shape_counter += indices_relevant.shape[0]\n",
    "                    indices_list.append(list(indices_relevant))\n",
    "\n",
    "                    combo_processed_array = np.vstack((combo_processed_array, max_combos))\n",
    "\n",
    "            indices_relevant = np.hstack(indices_list)\n",
    "            combos_wo_only_zeros_copy = np.delete(combos_wo_only_zeros_copy, indices_relevant, axis=0)\n",
    "        else:\n",
    "            combos_wo_only_zeros_copy = np.empty([0, 4], dtype=int)\n",
    "            print('{} is not existing -> empty array created'.format(slice_name))\n",
    "\n",
    "        if show_info:\n",
    "            print(\"array creation took %s seconds ---\" % (time.time() - start_time))\n",
    "        return combos_wo_only_zeros_copy\n",
    "\n",
    "\n",
    "def get_min_max_values (h5_path, part_name,  max_slice_num):\n",
    "    df = pd.DataFrame(columns=['Slice_num', 'minX', 'maxX', 'minY', 'maxY', 'diameterX', 'diameterY'])\n",
    "\n",
    "    for num_slice in range(max_slice_num):\n",
    "        slice_name = 'Slice' + str(\"{:05d}\".format(num_slice + 1))\n",
    "\n",
    "        array = get_2D_data_from_h5_filtered_np_v2(h5_path, part_name, slice_name)\n",
    "        minX = array[:, 0].min()\n",
    "        maxX = array[:, 0].max()\n",
    "        minY = array[:, 1].min()\n",
    "        maxY = array[:, 1].max()\n",
    "        diameterX = maxX - minX\n",
    "        diameterY = maxY - minY\n",
    "\n",
    "        df = df.append({'Slice_num': \"{:05d}\".format(num_slice + 1), 'minX': minX, 'maxX': maxX, 'minY': minY, 'maxY': maxY,\n",
    "                        'diameterX': diameterX, 'diameterY': diameterY}, ignore_index=True)\n",
    "\n",
    "    return df['minX'].min(), df['minY'].min(), df['maxX'].max(), df['maxY'].max()\n",
    "\n",
    "\n",
    "def dock_array_to_zero(array, minX, minY):\n",
    "    if minX >= 0 and minY >= 0:\n",
    "        array[:, 0] = array[:, 0] - minX\n",
    "        array[:, 1] = array[:, 1] - minY\n",
    "    elif minX < 0 and minY < 0:\n",
    "        array[:, 0] = array[:, 0] + abs(minX)\n",
    "        array[:, 1] = array[:, 1] + abs(minY)\n",
    "    elif minX >= 0 and minY < 0:\n",
    "        array[:, 0] = array[:, 0] - minX\n",
    "        array[:, 1] = array[:, 1] + abs(minY)\n",
    "    elif minX < 0 and minY >= 0:\n",
    "        array[:, 0] = array[:, 0] + abs(minX)\n",
    "        array[:, 1] = array[:, 1] - minY\n",
    "    return array\n",
    "\n",
    "def get_number_grid (length_x_part, length_y_part, grid_size):\n",
    "    n_voxels_x = math.ceil(int(length_x_part)/grid_size)\n",
    "    n_voxels_y = math.ceil(int(length_y_part)/grid_size)\n",
    "    \n",
    "    return n_voxels_x, n_voxels_y \n",
    "\n",
    "def create_single_grid_array_storage_reduced (cur_n_grid_x, cur_n_grid_y, grid_size, array):\n",
    "    x_min_grid = cur_n_grid_x * grid_size\n",
    "    x_max_grid = (cur_n_grid_x + 1)*grid_size\n",
    "    y_min_grid = cur_n_grid_y * grid_size\n",
    "    y_max_grid = (cur_n_grid_y + 1)*grid_size\n",
    "\n",
    "    x_axis_voxel =  np.repeat(np.arange(x_min_grid,x_max_grid,1),grid_size)\n",
    "    y_axis_voxel =  np.tile(np.arange(y_min_grid,y_max_grid,1),grid_size)\n",
    "    Zero_array = np.zeros(grid_size*grid_size, dtype=int)\n",
    "\n",
    "    grid_array = np.empty([0,4],dtype= int)\n",
    "\n",
    "    #check if datapoints in array are in the region of the voxel\n",
    "    indices_relevant = np.where((array[:,0] >= x_min_grid)*(array[:,0] < x_max_grid)*(array[:,1] >= y_min_grid)*(array[:,1] < y_max_grid))[0]\n",
    "\n",
    "    if indices_relevant.size != 0:\n",
    "        relevant_array = array[indices_relevant]\n",
    "        relevant_array[:,0] = relevant_array[:,0] - x_min_grid\n",
    "        relevant_array[:,1] = relevant_array[:,1] - y_min_grid\n",
    "\n",
    "        final_grid_array = relevant_array\n",
    "    else:\n",
    "        final_grid_array = grid_array\n",
    "\n",
    "    return final_grid_array\n",
    "\n",
    "def create_single_grid_array_with_zeros (cur_n_grid_x, cur_n_grid_y, grid_size, array):\n",
    "    x_min_grid = cur_n_grid_x * grid_size\n",
    "    x_max_grid = (cur_n_grid_x + 1)*grid_size\n",
    "    y_min_grid = cur_n_grid_y * grid_size\n",
    "    y_max_grid = (cur_n_grid_y + 1)*grid_size\n",
    "\n",
    "    x_axis_grid =  np.repeat(np.arange(0,grid_size,1),grid_size)\n",
    "    y_axis_grid =  np.tile(np.arange(0,grid_size,1),grid_size)\n",
    "    Zero_array = np.zeros(grid_size*grid_size, dtype=int)\n",
    "    \n",
    "    grid_array = np.stack((x_axis_grid, y_axis_grid, Zero_array, Zero_array), axis=-1)\n",
    "\n",
    "\n",
    "    #check if datapoints in array are in the region of the voxel\n",
    "    indices_relevant = np.where((array[:,0] >= x_min_grid)*(array[:,0] < x_max_grid)*(array[:,1] >= y_min_grid)*(array[:,1] < y_max_grid))[0]\n",
    "\n",
    "    if indices_relevant.size != 0:\n",
    "        relevant_array = array[indices_relevant]\n",
    "        relevant_array[:,0] =  relevant_array[:,0] - x_min_grid\n",
    "        relevant_array[:,1] =  relevant_array[:,1] - y_min_grid\n",
    "        stacked_array = np.vstack((relevant_array, grid_array))\n",
    "        stacked_unique_xy, unique_indices = np.unique(stacked_array[:,[0,1]],axis=0, return_index = True)\n",
    "        final_grid_array = stacked_array[unique_indices]\n",
    "        \n",
    "    else:\n",
    "        final_grid_array = Zero_array\n",
    "\n",
    "    return final_grid_array\n",
    "\n",
    "\n",
    "def filter_out_outlier_intensity(array, n_sigma):\n",
    "    median_int = np.median(array[:, 3])\n",
    "    std_int = int(array[:, 3].std())\n",
    "    low_limit_int = median_int - n_sigma * std_int\n",
    "    high_limit_int = median_int + n_sigma * std_int\n",
    "\n",
    "    array_return = np.delete(array, np.where(array[:, 3] < low_limit_int), axis=0)\n",
    "    array_return = np.delete(array, np.where(array[:, 3] > high_limit_int), axis=0)\n",
    "    \n",
    "    max_int = array_return[:,3].max()\n",
    "    \n",
    "    return array_return, max_int\n",
    "\n",
    "def process_data_to_picturelike_structure(array, grid_size, kernel_size, max_int):\n",
    "    # creating a picture grid with only zeros as a base for data filling\n",
    "    picture_grid = np.zeros((grid_size, grid_size), dtype=np.uint8)\n",
    "    \n",
    "    # filling in the points from final grid, row[3]\n",
    "    for row in array:    \n",
    "        picture_grid[row[0],row[1]] = int(row[3]*255/max_int)\n",
    "\n",
    "    return  ndimage.grey_dilation(picture_grid, size=(kernel_size, kernel_size))"
   ]
  },
  {
   "cell_type": "code",
   "execution_count": 164,
   "metadata": {},
   "outputs": [],
   "source": [
    "h5_path = '/home/jan/Documents/Trainingsdaten/ZP_4/ZP_4_full_part.h5'\n",
    "part_name = 'ZP4_combined'\n",
    "slice_name = \"Slice00001\"\n",
    "grid_size = 100\n",
    "kernel_size = 10"
   ]
  },
  {
   "cell_type": "code",
   "execution_count": 165,
   "metadata": {},
   "outputs": [],
   "source": [
    "minX, minY, maxX, maxY = get_min_max_values (h5_path, part_name,  1593)\n",
    "length_x_part = maxX - minX\n",
    "length_y_part = maxY - minY\n",
    "n_grid_x, n_grid_y = get_number_grid(length_x_part, length_y_part, grid_size)"
   ]
  },
  {
   "cell_type": "code",
   "execution_count": 169,
   "metadata": {},
   "outputs": [],
   "source": [
    "for num_slice in range(5):\n",
    "    array_not_docked = get_2D_data_from_h5_filtered_np_v2(h5_path, part_name, 'Slice' + str(\"{:05d}\".format(num_slice+1)), show_info = False)\n",
    "    array_docked = dock_array_to_zero(array_not_docked, minX, minY)\n",
    "        \n",
    "    array_filtered, max_int = filter_out_outlier_intensity(array_docked,4)  \n",
    "    \n",
    "    for cur_n_grid_x in range(n_grid_x):\n",
    "        for cur_n_grid_y in range(n_grid_y):\n",
    "            final_grid = create_single_grid_array_storage_reduced (cur_n_grid_x, cur_n_grid_y, grid_size, array_filtered)\n",
    "            \n",
    "            final_picture = process_data_to_picturelike_structure(final_grid, grid_size, kernel_size, max_int)\n",
    "                    \n",
    "            np.save('/home/jan/Documents/Trainingsdaten/Saved_NP_arrays/{}_x:{}_y:{}'.format('Slice' + str(\"{:05d}\".format(num_slice+1)), cur_n_grid_x, cur_n_grid_y),final_picture)"
   ]
  },
  {
   "cell_type": "code",
   "execution_count": null,
   "metadata": {},
   "outputs": [],
   "source": [
    "##### from here on just tryout"
   ]
  },
  {
   "cell_type": "code",
   "execution_count": 168,
   "metadata": {},
   "outputs": [],
   "source": [
    "array_loaded = np.load('/home/jan/Documents/Trainingsdaten/Saved_NP_arrays/Slice00001_x:6_y:8.npy' )\n",
    "img = Image.fromarray(array_loaded,'L')\n",
    "img.save('my.png')\n",
    "img.show()"
   ]
  },
  {
   "cell_type": "code",
   "execution_count": 125,
   "metadata": {},
   "outputs": [],
   "source": [
    "array_not_docked = get_2D_data_from_h5_filtered_np_v2(h5_path, part_name, slice_name, show_info = False)\n",
    "array_docked = dock_array_to_zero(array_not_docked, minX, minY)"
   ]
  },
  {
   "cell_type": "code",
   "execution_count": 126,
   "metadata": {},
   "outputs": [
    {
     "data": {
      "text/plain": [
       "(9443, 4)"
      ]
     },
     "execution_count": 126,
     "metadata": {},
     "output_type": "execute_result"
    }
   ],
   "source": [
    "array_docked.shape"
   ]
  },
  {
   "cell_type": "code",
   "execution_count": 128,
   "metadata": {},
   "outputs": [],
   "source": [
    "df = pd.DataFrame({'x': array_docked[:, 0], 'y': array_docked[:, 1], 'area': array_docked[:, 2],'intensity': array_docked[:, 3]})"
   ]
  },
  {
   "cell_type": "code",
   "execution_count": 136,
   "metadata": {},
   "outputs": [
    {
     "data": {
      "text/plain": [
       "2635.0344585156"
      ]
     },
     "execution_count": 136,
     "metadata": {},
     "output_type": "execute_result"
    }
   ],
   "source": [
    "df['intensity'].median()+4*df['intensity'].std()"
   ]
  },
  {
   "cell_type": "code",
   "execution_count": 137,
   "metadata": {},
   "outputs": [
    {
     "data": {
      "text/html": [
       "<div>\n",
       "<style scoped>\n",
       "    .dataframe tbody tr th:only-of-type {\n",
       "        vertical-align: middle;\n",
       "    }\n",
       "\n",
       "    .dataframe tbody tr th {\n",
       "        vertical-align: top;\n",
       "    }\n",
       "\n",
       "    .dataframe thead th {\n",
       "        text-align: right;\n",
       "    }\n",
       "</style>\n",
       "<table border=\"1\" class=\"dataframe\">\n",
       "  <thead>\n",
       "    <tr style=\"text-align: right;\">\n",
       "      <th></th>\n",
       "      <th>x</th>\n",
       "      <th>y</th>\n",
       "      <th>area</th>\n",
       "      <th>intensity</th>\n",
       "    </tr>\n",
       "  </thead>\n",
       "  <tbody>\n",
       "    <tr>\n",
       "      <th>485</th>\n",
       "      <td>623</td>\n",
       "      <td>129</td>\n",
       "      <td>915</td>\n",
       "      <td>2755</td>\n",
       "    </tr>\n",
       "    <tr>\n",
       "      <th>1001</th>\n",
       "      <td>711</td>\n",
       "      <td>200</td>\n",
       "      <td>1026</td>\n",
       "      <td>3863</td>\n",
       "    </tr>\n",
       "    <tr>\n",
       "      <th>1002</th>\n",
       "      <td>718</td>\n",
       "      <td>193</td>\n",
       "      <td>1037</td>\n",
       "      <td>2967</td>\n",
       "    </tr>\n",
       "    <tr>\n",
       "      <th>1003</th>\n",
       "      <td>723</td>\n",
       "      <td>188</td>\n",
       "      <td>1037</td>\n",
       "      <td>3693</td>\n",
       "    </tr>\n",
       "    <tr>\n",
       "      <th>1015</th>\n",
       "      <td>798</td>\n",
       "      <td>113</td>\n",
       "      <td>850</td>\n",
       "      <td>2892</td>\n",
       "    </tr>\n",
       "    <tr>\n",
       "      <th>...</th>\n",
       "      <td>...</td>\n",
       "      <td>...</td>\n",
       "      <td>...</td>\n",
       "      <td>...</td>\n",
       "    </tr>\n",
       "    <tr>\n",
       "      <th>9383</th>\n",
       "      <td>635</td>\n",
       "      <td>37</td>\n",
       "      <td>1414</td>\n",
       "      <td>2772</td>\n",
       "    </tr>\n",
       "    <tr>\n",
       "      <th>9393</th>\n",
       "      <td>1051</td>\n",
       "      <td>19</td>\n",
       "      <td>1063</td>\n",
       "      <td>2655</td>\n",
       "    </tr>\n",
       "    <tr>\n",
       "      <th>9409</th>\n",
       "      <td>1471</td>\n",
       "      <td>236</td>\n",
       "      <td>1301</td>\n",
       "      <td>2715</td>\n",
       "    </tr>\n",
       "    <tr>\n",
       "      <th>9423</th>\n",
       "      <td>1690</td>\n",
       "      <td>574</td>\n",
       "      <td>1490</td>\n",
       "      <td>4007</td>\n",
       "    </tr>\n",
       "    <tr>\n",
       "      <th>9432</th>\n",
       "      <td>1686</td>\n",
       "      <td>897</td>\n",
       "      <td>1760</td>\n",
       "      <td>4488</td>\n",
       "    </tr>\n",
       "  </tbody>\n",
       "</table>\n",
       "<p>76 rows × 4 columns</p>\n",
       "</div>"
      ],
      "text/plain": [
       "         x    y  area  intensity\n",
       "485    623  129   915       2755\n",
       "1001   711  200  1026       3863\n",
       "1002   718  193  1037       2967\n",
       "1003   723  188  1037       3693\n",
       "1015   798  113   850       2892\n",
       "...    ...  ...   ...        ...\n",
       "9383   635   37  1414       2772\n",
       "9393  1051   19  1063       2655\n",
       "9409  1471  236  1301       2715\n",
       "9423  1690  574  1490       4007\n",
       "9432  1686  897  1760       4488\n",
       "\n",
       "[76 rows x 4 columns]"
      ]
     },
     "execution_count": 137,
     "metadata": {},
     "output_type": "execute_result"
    }
   ],
   "source": [
    "df[df['intensity']>2635]"
   ]
  },
  {
   "cell_type": "code",
   "execution_count": 138,
   "metadata": {},
   "outputs": [],
   "source": [
    "#filtering out the outlier intensity points\n",
    "median_int = np.median(array_docked[:, 3])\n",
    "std_int = int(array_docked[:, 3].std())\n",
    "low_limit_int = median_int - 4 * std_int\n",
    "high_limit_int = median_int + 4 * std_int\n",
    "\n",
    "array_docked = np.delete(array_docked, np.where(array_docked[:, 3] < low_limit_int), axis=0)\n",
    "array_docked = np.delete(array_docked, np.where(array_docked[:, 3] > high_limit_int), axis=0)"
   ]
  },
  {
   "cell_type": "code",
   "execution_count": 139,
   "metadata": {},
   "outputs": [
    {
     "data": {
      "text/plain": [
       "(9367, 4)"
      ]
     },
     "execution_count": 139,
     "metadata": {},
     "output_type": "execute_result"
    }
   ],
   "source": [
    "array_docked.shape"
   ]
  },
  {
   "cell_type": "code",
   "execution_count": 140,
   "metadata": {},
   "outputs": [],
   "source": [
    "max_int = array_docked[:,3].max()"
   ]
  },
  {
   "cell_type": "code",
   "execution_count": 83,
   "metadata": {},
   "outputs": [],
   "source": [
    "#wie bei grid, aber mit 0en füllen und dann über dilation max poolen\n",
    "array_not_docked = get_2D_data_from_h5_filtered_np_v2(h5_path, part_name, slice_name, show_info = False)\n",
    "array_docked = dock_array_to_zero(array_not_docked, minX, minY)"
   ]
  },
  {
   "cell_type": "code",
   "execution_count": 157,
   "metadata": {},
   "outputs": [],
   "source": [
    "final_grid = create_single_grid_array_storage_reduced (10, 10, 80, array_docked)"
   ]
  },
  {
   "cell_type": "code",
   "execution_count": 158,
   "metadata": {},
   "outputs": [],
   "source": [
    "test_img = process_data_to_picturelike_structure(final_grid, 80, 10)"
   ]
  },
  {
   "cell_type": "code",
   "execution_count": 159,
   "metadata": {},
   "outputs": [],
   "source": [
    "img = Image.fromarray(test_img,'L')\n",
    "img.save('my.png')\n",
    "img.show()"
   ]
  },
  {
   "cell_type": "code",
   "execution_count": 101,
   "metadata": {},
   "outputs": [
    {
     "ename": "AttributeError",
     "evalue": "'numpy.ndarray' object has no attribute 'describe'",
     "output_type": "error",
     "traceback": [
      "\u001b[0;31m---------------------------------------------------------------------------\u001b[0m",
      "\u001b[0;31mAttributeError\u001b[0m                            Traceback (most recent call last)",
      "\u001b[0;32m<ipython-input-101-10590fe2ce20>\u001b[0m in \u001b[0;36m<module>\u001b[0;34m\u001b[0m\n\u001b[0;32m----> 1\u001b[0;31m \u001b[0marray_docked\u001b[0m\u001b[0;34m[\u001b[0m\u001b[0;34m:\u001b[0m\u001b[0;34m,\u001b[0m\u001b[0;36m3\u001b[0m\u001b[0;34m]\u001b[0m\u001b[0;34m.\u001b[0m\u001b[0mdescribe\u001b[0m\u001b[0;34m\u001b[0m\u001b[0;34m\u001b[0m\u001b[0m\n\u001b[0m",
      "\u001b[0;31mAttributeError\u001b[0m: 'numpy.ndarray' object has no attribute 'describe'"
     ]
    }
   ],
   "source": [
    "array_docked[:,3].describe"
   ]
  },
  {
   "cell_type": "code",
   "execution_count": 52,
   "metadata": {},
   "outputs": [],
   "source": [
    "df = pd.DataFrame({'x': array_docked[:, 0], 'y': array_docked[:, 1], 'area': array_docked[:, 2],'intensity': array_docked[:, 3]})"
   ]
  },
  {
   "cell_type": "code",
   "execution_count": 104,
   "metadata": {},
   "outputs": [
    {
     "data": {
      "text/plain": [
       "385.00861462890003"
      ]
     },
     "execution_count": 104,
     "metadata": {},
     "output_type": "execute_result"
    }
   ],
   "source": [
    "df['intensity'].std()"
   ]
  },
  {
   "cell_type": "code",
   "execution_count": 108,
   "metadata": {},
   "outputs": [
    {
     "data": {
      "text/plain": [
       "2250.0258438867004"
      ]
     },
     "execution_count": 108,
     "metadata": {},
     "output_type": "execute_result"
    }
   ],
   "source": [
    "df['intensity'].median()+3*df['intensity'].std()"
   ]
  },
  {
   "cell_type": "code",
   "execution_count": 109,
   "metadata": {},
   "outputs": [
    {
     "data": {
      "text/plain": [
       "<matplotlib.axes._subplots.AxesSubplot at 0x7f0238f8a610>"
      ]
     },
     "execution_count": 109,
     "metadata": {},
     "output_type": "execute_result"
    },
    {
     "data": {
      "image/png": "[encoded data removed]",
      "text/plain": [
       "<Figure size 432x288 with 1 Axes>"
      ]
     },
     "metadata": {
      "needs_background": "light"
     },
     "output_type": "display_data"
    }
   ],
   "source": [
    "df['intensity'].hist()"
   ]
  },
  {
   "cell_type": "code",
   "execution_count": 46,
   "metadata": {},
   "outputs": [
    {
     "data": {
      "text/plain": [
       "array([[ 405,  148,    0,  373],\n",
       "       [ 397,  156,    0,  577],\n",
       "       [ 392,  161,    0,  705],\n",
       "       ...,\n",
       "       [1669, 1233, 1021, 1520],\n",
       "       [1317, 1625,  739,  927],\n",
       "       [1482, 1499,  866, 1130]])"
      ]
     },
     "execution_count": 46,
     "metadata": {},
     "output_type": "execute_result"
    }
   ],
   "source": [
    "array_docked\n"
   ]
  },
  {
   "cell_type": "code",
   "execution_count": 37,
   "metadata": {},
   "outputs": [
    {
     "data": {
      "text/plain": [
       "array([0, 3, 0, 0])"
      ]
     },
     "execution_count": 37,
     "metadata": {},
     "output_type": "execute_result"
    }
   ],
   "source": [
    "final_grid[3]\n"
   ]
  },
  {
   "cell_type": "code",
   "execution_count": 40,
   "metadata": {},
   "outputs": [],
   "source": [
    "data_new = np.zeros((20,20),dtype=np.uint16)"
   ]
  },
  {
   "cell_type": "code",
   "execution_count": 42,
   "metadata": {},
   "outputs": [],
   "source": [
    "for row in final_grid:\n",
    "    \n",
    "    #print(row[3])\n",
    "    \n",
    "    data_new[row[0],row[1]] = row[3]"
   ]
  },
  {
   "cell_type": "code",
   "execution_count": 43,
   "metadata": {},
   "outputs": [
    {
     "data": {
      "text/plain": [
       "array([[   0,    0,    0,    0,    0,    0,    0,    0,    0,    0,    0,\n",
       "           0,    0,    0,    0,    0,    0,    0,    0,    0],\n",
       "       [   0,    0,    0,    0,    0,    0,    0,    0,    0,    0,    0,\n",
       "           0,    0,    0,    0,    0,    0,    0,    0,    0],\n",
       "       [   0,    0,    0,    0,    0,    0,    0,    0,    0,    0,    0,\n",
       "           0,    0,    0,    0,    0,    0,    0,    0,    0],\n",
       "       [   0,    0,    0,    0,    0,    0,    0,    0,    0,    0,    0,\n",
       "           0,    0,    0,    0,    0,    0,    0,    0,    0],\n",
       "       [   0,    0,    0,    0,    0,    0,    0,    0,    0,    0,    0,\n",
       "           0,    0,    0,    0,    0,    0,    0,    0,    0],\n",
       "       [   0,    0,    0,    0,    0,    0,    0,    0,    0,    0,    0,\n",
       "           0,    0,    0,    0,    0,    0,    0,    0,    0],\n",
       "       [   0,    0,    0,    0,    0,    0,    0,    0,    0,    0,    0,\n",
       "           0,    0,    0,    0,    0,    0,    0,    0,    0],\n",
       "       [   0,    0,    0,    0,    0,    0,    0,    0,    0,    0,    0,\n",
       "           0,    0,    0,    0,    0,    0,    0,    0,    0],\n",
       "       [   0,    0,    0,    0,    0,    0,    0,    0,    0,    0,    0,\n",
       "           0,    0,    0,    0,    0,    0,    0,    0,    0],\n",
       "       [   0,    0,    0,    0,    0,    0,    0,    0,    0,    0,    0,\n",
       "           0,    0,    0,    0,    0,    0,    0,    0,    0],\n",
       "       [   0,    0,    0,    0,    0,    0,    0,    0,    0,    0,    0,\n",
       "           0,    0,    0,    0,    0,    0,    0,    0,    0],\n",
       "       [   0,    0,    0,    0,    0,    0,    0,    0,    0,    0,    0,\n",
       "           0,    0,    0,    0,    0,    0,    0,    0,    0],\n",
       "       [   0,    0,    0,    0,    0,    0,    0,    0,    0,    0,    0,\n",
       "           0,    0,    0,    0,    0,    0,    0,    0,    0],\n",
       "       [   0,    0,    0,    0,    0,    0,    0,    0,    0,    0,    0,\n",
       "           0,    0,    0,    0,    0,    0,    0, 1336,    0],\n",
       "       [   0,    0,    0,    0,    0,    0,    0,    0,    0,    0,    0,\n",
       "           0,    0,    0,    0,    0,    0,    0,    0,    0],\n",
       "       [   0,    0,    0,    0,    0,    0,    0,    0,    0,    0,    0,\n",
       "           0,    0,    0,    0,    0,    0,    0,    0,    0],\n",
       "       [   0,    0,    0,    0,    0,    0,    0,    0,    0,    0,    0,\n",
       "           0,    0,    0,    0,    0,    0,    0,    0,    0],\n",
       "       [   0,    0,    0,    0,    0,    0,    0,    0,    0,    0,    0,\n",
       "           0,    0,    0,    0,    0,    0,    0,    0,    0],\n",
       "       [   0,    0,    0,    0,    0,    0,    0,    0,    0,    0,    0,\n",
       "           0,    0,    0,    0,    0,    0,    0,    0,    0],\n",
       "       [   0,    0,    0,    0,    0,    0,    0,    0,    0,    0,    0,\n",
       "           0,    0,    0,    0,    0,    0,    0,    0,    0]],\n",
       "      dtype=uint16)"
      ]
     },
     "execution_count": 43,
     "metadata": {},
     "output_type": "execute_result"
    }
   ],
   "source": [
    "data_new"
   ]
  },
  {
   "cell_type": "code",
   "execution_count": 63,
   "metadata": {},
   "outputs": [],
   "source": [
    "asd = ndimage.grey_dilation(data_new, size=(5,5))"
   ]
  },
  {
   "cell_type": "code",
   "execution_count": 64,
   "metadata": {},
   "outputs": [
    {
     "data": {
      "text/plain": [
       "array([[   0,    0,    0,    0,    0,    0,    0,    0,    0,    0,    0,\n",
       "           0,    0,    0,    0,    0,    0,    0,    0,    0],\n",
       "       [   0,    0,    0,    0,    0,    0,    0,    0,    0,    0,    0,\n",
       "           0,    0,    0,    0,    0,    0,    0,    0,    0],\n",
       "       [   0,    0,    0,    0,    0,    0,    0,    0,    0,    0,    0,\n",
       "           0,    0,    0,    0,    0,    0,    0,    0,    0],\n",
       "       [   0,    0,    0,    0,    0,    0,    0,    0,    0,    0,    0,\n",
       "           0,    0,    0,    0,    0,    0,    0,    0,    0],\n",
       "       [   0,    0,    0,    0,    0,    0,    0,    0,    0,    0,    0,\n",
       "           0,    0,    0,    0,    0,    0,    0,    0,    0],\n",
       "       [   0,    0,    0,    0,    0,    0,    0,    0,    0,    0,    0,\n",
       "           0,    0,    0,    0,    0,    0,    0,    0,    0],\n",
       "       [   0,    0,    0,    0,    0,    0,    0,    0,    0,    0,    0,\n",
       "           0,    0,    0,    0,    0,    0,    0,    0,    0],\n",
       "       [   0,    0,    0,    0,    0,    0,    0,    0,    0,    0,    0,\n",
       "           0,    0,    0,    0,    0,    0,    0,    0,    0],\n",
       "       [   0,    0,    0,    0,    0,    0,    0,    0,    0,    0,    0,\n",
       "           0,    0,    0,    0,    0,    0,    0,    0,    0],\n",
       "       [   0,    0,    0,    0,    0,    0,    0,    0,    0,    0,    0,\n",
       "           0,    0,    0,    0,    0,    0,    0,    0,    0],\n",
       "       [   0,    0,    0,    0,    0,    0,    0,    0,    0,    0,    0,\n",
       "           0,    0,    0,    0,    0,    0,    0,    0,    0],\n",
       "       [   0,    0,    0,    0,    0,    0,    0,    0,    0,    0,    0,\n",
       "           0,    0,    0,    0,    0, 1336, 1336, 1336, 1336],\n",
       "       [   0,    0,    0,    0,    0,    0,    0,    0,    0,    0,    0,\n",
       "           0,    0,    0,    0,    0, 1336, 1336, 1336, 1336],\n",
       "       [   0,    0,    0,    0,    0,    0,    0,    0,    0,    0,    0,\n",
       "           0,    0,    0,    0,    0, 1336, 1336, 1336, 1336],\n",
       "       [   0,    0,    0,    0,    0,    0,    0,    0,    0,    0,    0,\n",
       "           0,    0,    0,    0,    0, 1336, 1336, 1336, 1336],\n",
       "       [   0,    0,    0,    0,    0,    0,    0,    0,    0,    0,    0,\n",
       "           0,    0,    0,    0,    0, 1336, 1336, 1336, 1336],\n",
       "       [   0,    0,    0,    0,    0,    0,    0,    0,    0,    0,    0,\n",
       "           0,    0,    0,    0,    0,    0,    0,    0,    0],\n",
       "       [   0,    0,    0,    0,    0,    0,    0,    0,    0,    0,    0,\n",
       "           0,    0,    0,    0,    0,    0,    0,    0,    0],\n",
       "       [   0,    0,    0,    0,    0,    0,    0,    0,    0,    0,    0,\n",
       "           0,    0,    0,    0,    0,    0,    0,    0,    0],\n",
       "       [   0,    0,    0,    0,    0,    0,    0,    0,    0,    0,    0,\n",
       "           0,    0,    0,    0,    0,    0,    0,    0,    0]],\n",
       "      dtype=uint16)"
      ]
     },
     "execution_count": 64,
     "metadata": {},
     "output_type": "execute_result"
    }
   ],
   "source": [
    "asd"
   ]
  },
  {
   "cell_type": "code",
   "execution_count": null,
   "metadata": {},
   "outputs": [],
   "source": []
  }
 ],
 "metadata": {
  "kernelspec": {
   "display_name": "Python [conda env:DataPrep]",
   "language": "python",
   "name": "conda-env-DataPrep-py"
  },
  "language_info": {
   "codemirror_mode": {
    "name": "ipython",
    "version": 3
   },
   "file_extension": ".py",
   "mimetype": "text/x-python",
   "name": "python",
   "nbconvert_exporter": "python",
   "pygments_lexer": "ipython3",
   "version": "3.7.5"
  }
 },
 "nbformat": 4,
 "nbformat_minor": 2
}
