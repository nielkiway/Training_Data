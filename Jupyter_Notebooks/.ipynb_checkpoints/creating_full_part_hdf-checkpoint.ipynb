{
 "cells": [
  {
   "cell_type": "code",
   "execution_count": 1,
   "metadata": {},
   "outputs": [],
   "source": [
    "import h5py\n",
    "import numpy as np\n",
    "import pandas as pd\n",
    "import math\n",
    "import re"
   ]
  },
  {
   "cell_type": "code",
   "execution_count": 2,
   "metadata": {},
   "outputs": [],
   "source": [
    "#here it is checked which slices contain information "
   ]
  },
  {
   "cell_type": "code",
   "execution_count": 3,
   "metadata": {},
   "outputs": [],
   "source": [
    "ZP1_z = '0_00097_ZP1_Z_cls'\n",
    "ZP1_p = '0_00099_ZP1_P_3_cls'\n",
    "\n",
    "ZP2_z = '0_00093_ZP2_Z_cls'\n",
    "ZP2_p = '0_00095_ZP2_P_6_cls'\n",
    "\n",
    "ZP3_z = '0_00089_ZP3_Z_cls'\n",
    "ZP3_p = '0_00090_ZP3_P_9_cls'\n",
    "\n",
    "ZP4_z = '0_00109_ZP4_Z_cls'\n",
    "ZP4_p = '0_00110_ZP4_P_2_cls'\n",
    "\n",
    "ZP5_z = '0_00105_ZP5_Z_cls'\n",
    "ZP5_p = '0_00106_ZP5_P_5_cls'\n",
    "\n",
    "ZP6_z = '0_00101_ZP6_Z_cls'\n",
    "ZP6_p = '0_00103_ZP6_P_8_cls'\n",
    "\n",
    "ZP7_z = '0_00122_ZP7_Z_cls'\n",
    "ZP7_p = '0_00123_ZP7_P_cls'\n",
    "\n",
    "ZP8_z = '0_00117_ZP8_Z_cls'\n",
    "ZP8_p = '0_00118_ZP8_P_4_cls'\n",
    "\n",
    "ZP9_z = '0_00113_ZP9_Z_cls'\n",
    "ZP9_p = '0_00114_ZP9_P_7_cls'"
   ]
  },
  {
   "cell_type": "code",
   "execution_count": 16,
   "metadata": {},
   "outputs": [],
   "source": [
    "path_buildjob_hdf5 = '/home/jan/Documents/Klein_Datentransfer/HDF/BJ_Superlativ_QualiPro.h5'\n",
    "number = 8\n",
    "builjob_name_z = ZP8_z\n",
    "builjob_name_p = ZP8_p\n",
    "new_file_path = '/home/jan/Documents/Trainingsdaten/ZPs/ZP{}/ZP_{}_full_part.h5'.format(number, number)\n",
    "name_in_h5 = 'ZP{}_combined'.format(number)"
   ]
  },
  {
   "cell_type": "code",
   "execution_count": 17,
   "metadata": {},
   "outputs": [
    {
     "name": "stdout",
     "output_type": "stream",
     "text": [
      "['Slice00001', 'Slice00003', 'Slice00005', 'Slice00007', 'Slice00009', 'Slice00011', 'Slice00013', 'Slice00015', 'Slice00017', 'Slice00019', 'Slice00021', 'Slice00023', 'Slice00025', 'Slice00027', 'Slice00029', 'Slice00031', 'Slice00033', 'Slice00035', 'Slice00037', 'Slice00039', 'Slice00041', 'Slice00043', 'Slice00045', 'Slice00047', 'Slice00049', 'Slice00051', 'Slice00053', 'Slice00055', 'Slice00057', 'Slice00059', 'Slice00061', 'Slice00063', 'Slice00065', 'Slice00067', 'Slice00069', 'Slice00071', 'Slice00073', 'Slice00075', 'Slice00077', 'Slice00079', 'Slice00081', 'Slice00083', 'Slice00085', 'Slice00087', 'Slice00089', 'Slice00091', 'Slice00093', 'Slice00095', 'Slice00097', 'Slice00099', 'Slice00101', 'Slice00103', 'Slice00105', 'Slice00107', 'Slice00109', 'Slice00111', 'Slice00113', 'Slice00115', 'Slice00117', 'Slice00119', 'Slice00121', 'Slice00123', 'Slice00125', 'Slice00127', 'Slice00129', 'Slice00131', 'Slice00133', 'Slice00135', 'Slice00137', 'Slice00139', 'Slice00141', 'Slice00143', 'Slice00145', 'Slice00147', 'Slice00149', 'Slice00151', 'Slice00153', 'Slice00155', 'Slice00157', 'Slice00159', 'Slice00161', 'Slice00163', 'Slice00165', 'Slice00167', 'Slice00169', 'Slice00171', 'Slice00173', 'Slice00175', 'Slice00177', 'Slice00179', 'Slice00181', 'Slice00183', 'Slice00185', 'Slice00187', 'Slice00189', 'Slice00191', 'Slice00193', 'Slice00195', 'Slice00197', 'Slice00199', 'Slice00201', 'Slice00203', 'Slice00205', 'Slice00207', 'Slice00209', 'Slice00211', 'Slice00213', 'Slice00215', 'Slice00217', 'Slice00219', 'Slice00221', 'Slice00223', 'Slice00225', 'Slice00227', 'Slice00229', 'Slice00231', 'Slice00233', 'Slice00235', 'Slice00237', 'Slice00239', 'Slice00241', 'Slice00243', 'Slice00245', 'Slice00247', 'Slice00249', 'Slice00251', 'Slice00253', 'Slice00255', 'Slice00257', 'Slice00259', 'Slice00261', 'Slice00263', 'Slice00265', 'Slice00267', 'Slice00269', 'Slice00271', 'Slice00273', 'Slice00275', 'Slice00277', 'Slice00279', 'Slice00281', 'Slice00283', 'Slice00285', 'Slice00287', 'Slice00289', 'Slice00291', 'Slice00293', 'Slice00295', 'Slice00297', 'Slice00299', 'Slice00301', 'Slice00303', 'Slice00305', 'Slice00307', 'Slice00309', 'Slice00311', 'Slice00313', 'Slice00315', 'Slice00317', 'Slice00319', 'Slice00321', 'Slice00323', 'Slice00325', 'Slice00327', 'Slice00329', 'Slice00331', 'Slice00333', 'Slice00335', 'Slice00337', 'Slice00339', 'Slice00341', 'Slice00343', 'Slice00345', 'Slice00347', 'Slice00349', 'Slice00351', 'Slice00353', 'Slice00355', 'Slice00357', 'Slice00359', 'Slice00361', 'Slice00363', 'Slice00365', 'Slice00367', 'Slice00369', 'Slice00371', 'Slice00373', 'Slice00375', 'Slice00377', 'Slice00379', 'Slice00381', 'Slice00383', 'Slice00385', 'Slice00387', 'Slice00389', 'Slice00391', 'Slice00393', 'Slice00395', 'Slice00397', 'Slice00399', 'Slice00401', 'Slice00403', 'Slice00405', 'Slice00407', 'Slice00409', 'Slice00411', 'Slice00413', 'Slice00415', 'Slice00417', 'Slice00419', 'Slice00421', 'Slice00423', 'Slice00425', 'Slice00427', 'Slice00429', 'Slice00431', 'Slice00433', 'Slice00435', 'Slice00437', 'Slice00439', 'Slice00441', 'Slice00443', 'Slice00445', 'Slice00447', 'Slice00449', 'Slice00451', 'Slice00453', 'Slice00455', 'Slice00457', 'Slice00459', 'Slice00461', 'Slice00463', 'Slice00465', 'Slice00467', 'Slice00469', 'Slice00471', 'Slice00473', 'Slice00475', 'Slice00477', 'Slice00479', 'Slice00481', 'Slice00483', 'Slice00485', 'Slice00487', 'Slice00489', 'Slice00491', 'Slice00493', 'Slice00495', 'Slice00497', 'Slice00499', 'Slice00501', 'Slice00503', 'Slice00505', 'Slice00507', 'Slice00509', 'Slice00511', 'Slice00513', 'Slice00515', 'Slice00517', 'Slice00519', 'Slice00521', 'Slice00523', 'Slice00525', 'Slice00527', 'Slice00529', 'Slice00531', 'Slice00533', 'Slice00535', 'Slice00537', 'Slice00539', 'Slice00541', 'Slice00543', 'Slice00545', 'Slice00547', 'Slice00549', 'Slice00551', 'Slice00553', 'Slice00555', 'Slice00557', 'Slice00559', 'Slice00561', 'Slice00563', 'Slice00565', 'Slice00567', 'Slice00569', 'Slice00571', 'Slice00573', 'Slice00575', 'Slice00577', 'Slice00579', 'Slice00581', 'Slice00583', 'Slice00585', 'Slice00587', 'Slice00589', 'Slice00591', 'Slice00593', 'Slice00595', 'Slice00597', 'Slice00599', 'Slice00601', 'Slice00603', 'Slice00605', 'Slice00607', 'Slice00609', 'Slice00611', 'Slice00613', 'Slice00615', 'Slice00617', 'Slice00619', 'Slice00621', 'Slice00623', 'Slice00625', 'Slice00627', 'Slice00629', 'Slice00631', 'Slice00633', 'Slice00635', 'Slice00637', 'Slice00639', 'Slice00641', 'Slice00643', 'Slice00645', 'Slice00647', 'Slice00649', 'Slice00651', 'Slice00653', 'Slice00655', 'Slice00657', 'Slice00659', 'Slice00661', 'Slice00663', 'Slice00665', 'Slice00667', 'Slice00669', 'Slice00671', 'Slice00673', 'Slice00675', 'Slice00677', 'Slice00679', 'Slice00681', 'Slice00683', 'Slice00685', 'Slice00687', 'Slice00689', 'Slice00691', 'Slice00693', 'Slice00695', 'Slice00697', 'Slice00699', 'Slice00701', 'Slice00703', 'Slice00705', 'Slice00707', 'Slice00709', 'Slice00711', 'Slice00713', 'Slice00715', 'Slice00717', 'Slice00719', 'Slice00721', 'Slice00723', 'Slice00725', 'Slice00727', 'Slice00729', 'Slice00731', 'Slice00733', 'Slice00735', 'Slice00737', 'Slice00739', 'Slice00741', 'Slice00743', 'Slice00745', 'Slice00747', 'Slice00749', 'Slice00751', 'Slice00753', 'Slice00755', 'Slice00757', 'Slice00759', 'Slice00761', 'Slice00763', 'Slice00765', 'Slice00767', 'Slice00769', 'Slice00771', 'Slice00773', 'Slice00775', 'Slice00777', 'Slice00779', 'Slice00781', 'Slice00783', 'Slice00785', 'Slice00787', 'Slice00789', 'Slice00791', 'Slice00793', 'Slice00795', 'Slice00797', 'Slice00799', 'Slice00801', 'Slice00803', 'Slice00805', 'Slice00807', 'Slice00809', 'Slice00811', 'Slice00813', 'Slice00815', 'Slice00817', 'Slice00819', 'Slice00821', 'Slice00823', 'Slice00825', 'Slice00827', 'Slice00829', 'Slice00831', 'Slice00833', 'Slice00835', 'Slice00837', 'Slice00839', 'Slice00841', 'Slice00843', 'Slice00845', 'Slice00847', 'Slice00849', 'Slice00851', 'Slice00853', 'Slice00855', 'Slice00857', 'Slice00859', 'Slice00861', 'Slice00863', 'Slice00865', 'Slice00867', 'Slice00869', 'Slice00871', 'Slice00873', 'Slice00875', 'Slice00877', 'Slice00879', 'Slice00881', 'Slice00883', 'Slice00885', 'Slice00887', 'Slice00889', 'Slice00891', 'Slice00893', 'Slice00895', 'Slice00897', 'Slice00899', 'Slice00901', 'Slice00903', 'Slice00905', 'Slice00907', 'Slice00909', 'Slice00911', 'Slice00913', 'Slice00915', 'Slice00917', 'Slice00919', 'Slice00921', 'Slice00923', 'Slice00925', 'Slice00927', 'Slice00929', 'Slice00931', 'Slice00933', 'Slice00935', 'Slice00937', 'Slice00939', 'Slice00941', 'Slice00943', 'Slice00945', 'Slice00947', 'Slice00949', 'Slice00951', 'Slice00953', 'Slice00955', 'Slice00957', 'Slice00959', 'Slice00961', 'Slice00963', 'Slice00965', 'Slice00967', 'Slice00969', 'Slice00971', 'Slice00973', 'Slice00975', 'Slice00977', 'Slice00979', 'Slice00981', 'Slice00983', 'Slice00985', 'Slice00987', 'Slice00989', 'Slice00991', 'Slice00993', 'Slice00995', 'Slice00997', 'Slice00999', 'Slice01001', 'Slice01003', 'Slice01005', 'Slice01007', 'Slice01009', 'Slice01011', 'Slice01013', 'Slice01015', 'Slice01017', 'Slice01019', 'Slice01021', 'Slice01023', 'Slice01025', 'Slice01027', 'Slice01029', 'Slice01031', 'Slice01033', 'Slice01035', 'Slice01037', 'Slice01039', 'Slice01041', 'Slice01043', 'Slice01045', 'Slice01047', 'Slice01049', 'Slice01051', 'Slice01053', 'Slice01055', 'Slice01057', 'Slice01059', 'Slice01061', 'Slice01063', 'Slice01065', 'Slice01067', 'Slice01069', 'Slice01071', 'Slice01073', 'Slice01075', 'Slice01077', 'Slice01079', 'Slice01081', 'Slice01083', 'Slice01085', 'Slice01087', 'Slice01089', 'Slice01091', 'Slice01093', 'Slice01095', 'Slice01097', 'Slice01099', 'Slice01101', 'Slice01103', 'Slice01105', 'Slice01107', 'Slice01109', 'Slice01111', 'Slice01113', 'Slice01115', 'Slice01117', 'Slice01119', 'Slice01121', 'Slice01123', 'Slice01125', 'Slice01127', 'Slice01129', 'Slice01131', 'Slice01133', 'Slice01135', 'Slice01137', 'Slice01139', 'Slice01141', 'Slice01143', 'Slice01145', 'Slice01147', 'Slice01149', 'Slice01151', 'Slice01153', 'Slice01155', 'Slice01157', 'Slice01159', 'Slice01161', 'Slice01163', 'Slice01165', 'Slice01167', 'Slice01169', 'Slice01171', 'Slice01173', 'Slice01175', 'Slice01177', 'Slice01179', 'Slice01181', 'Slice01183', 'Slice01185', 'Slice01187', 'Slice01189', 'Slice01191', 'Slice01193', 'Slice01195', 'Slice01197', 'Slice01199', 'Slice01201', 'Slice01203', 'Slice01205', 'Slice01207', 'Slice01209', 'Slice01211', 'Slice01213', 'Slice01215', 'Slice01217', 'Slice01219', 'Slice01221', 'Slice01223', 'Slice01225', 'Slice01227', 'Slice01229', 'Slice01231', 'Slice01233', 'Slice01235', 'Slice01237', 'Slice01239', 'Slice01241', 'Slice01243', 'Slice01245', 'Slice01247', 'Slice01249', 'Slice01251', 'Slice01253', 'Slice01255', 'Slice01257', 'Slice01259', 'Slice01261', 'Slice01263', 'Slice01265', 'Slice01267', 'Slice01269', 'Slice01271', 'Slice01273', 'Slice01275', 'Slice01277', 'Slice01279', 'Slice01281', 'Slice01283', 'Slice01285', 'Slice01287', 'Slice01289', 'Slice01291', 'Slice01293', 'Slice01295', 'Slice01297', 'Slice01299', 'Slice01301', 'Slice01303', 'Slice01305', 'Slice01307', 'Slice01309', 'Slice01311', 'Slice01313', 'Slice01315', 'Slice01317', 'Slice01319', 'Slice01321', 'Slice01323', 'Slice01325', 'Slice01327', 'Slice01329', 'Slice01331', 'Slice01333', 'Slice01335', 'Slice01337', 'Slice01339', 'Slice01341', 'Slice01343', 'Slice01345', 'Slice01347', 'Slice01349', 'Slice01351', 'Slice01353', 'Slice01355', 'Slice01357', 'Slice01359', 'Slice01361', 'Slice01363', 'Slice01365', 'Slice01367', 'Slice01369', 'Slice01371', 'Slice01373', 'Slice01375', 'Slice01377', 'Slice01379', 'Slice01381', 'Slice01383', 'Slice01385', 'Slice01387', 'Slice01389', 'Slice01391', 'Slice01393', 'Slice01395', 'Slice01397', 'Slice01399', 'Slice01401', 'Slice01403', 'Slice01405', 'Slice01407', 'Slice01409', 'Slice01411', 'Slice01413', 'Slice01415', 'Slice01417', 'Slice01419', 'Slice01421', 'Slice01423', 'Slice01425', 'Slice01427', 'Slice01429', 'Slice01431', 'Slice01433', 'Slice01435', 'Slice01437', 'Slice01439', 'Slice01441', 'Slice01443', 'Slice01445', 'Slice01447', 'Slice01449', 'Slice01451', 'Slice01453', 'Slice01455', 'Slice01457', 'Slice01459', 'Slice01461', 'Slice01463', 'Slice01465', 'Slice01467', 'Slice01469', 'Slice01471', 'Slice01473', 'Slice01475', 'Slice01477', 'Slice01479', 'Slice01481', 'Slice01483', 'Slice01485', 'Slice01487', 'Slice01489', 'Slice01491', 'Slice01493', 'Slice01495', 'Slice01497', 'Slice01499', 'Slice01501', 'Slice01503', 'Slice01505', 'Slice01507', 'Slice01509', 'Slice01511', 'Slice01513', 'Slice01515', 'Slice01517', 'Slice01519', 'Slice01521', 'Slice01523', 'Slice01525', 'Slice01527', 'Slice01529', 'Slice01531', 'Slice01533', 'Slice01535', 'Slice01537', 'Slice01539', 'Slice01541', 'Slice01543', 'Slice01545', 'Slice01547', 'Slice01549', 'Slice01551', 'Slice01753', 'Slice01755', 'Slice01757', 'Slice01759', 'Slice01761', 'Slice01763', 'Slice01765', 'Slice01767', 'Slice01769', 'Slice01771', 'Slice01773', 'Slice01775', 'Slice01777', 'Slice01779', 'Slice01781', 'Slice01783', 'Slice01785', 'Slice01787', 'Slice01789', 'Slice01791', 'Slice01793', 'Slice01795', 'Slice01797', 'Slice01799', 'Slice01801', 'Slice01803', 'Slice01805', 'Slice01807', 'Slice01809', 'Slice01811', 'Slice01813', 'Slice01815', 'Slice01817', 'Slice01819', 'Slice01821', 'Slice01823', 'Slice01825', 'Slice01827', 'Slice01829', 'Slice01831', 'Slice01833', 'Slice01835', 'Slice01837', 'Slice01839', 'Slice01841', 'Slice01843', 'Slice01845', 'Slice01847', 'Slice01849', 'Slice01851', 'Slice01853', 'Slice01855', 'Slice01857', 'Slice01859', 'Slice01861', 'Slice01863', 'Slice01865', 'Slice01867', 'Slice01869', 'Slice01871', 'Slice01873', 'Slice01875', 'Slice01877', 'Slice01879', 'Slice01881', 'Slice01883', 'Slice01885', 'Slice01887', 'Slice01889', 'Slice01891', 'Slice01893', 'Slice01895', 'Slice01897', 'Slice01899', 'Slice01901', 'Slice01903', 'Slice01905', 'Slice01907', 'Slice01909', 'Slice01911', 'Slice01913', 'Slice01915', 'Slice01917', 'Slice01919', 'Slice01921', 'Slice01923', 'Slice01925', 'Slice01927', 'Slice01929', 'Slice01931', 'Slice01933', 'Slice01935', 'Slice01937', 'Slice01939', 'Slice01941', 'Slice01943', 'Slice01945', 'Slice01947', 'Slice01949', 'Slice01951', 'Slice01953', 'Slice01955', 'Slice01957', 'Slice01959', 'Slice01961', 'Slice01963', 'Slice01965', 'Slice01967', 'Slice01969', 'Slice01971', 'Slice01973', 'Slice01975', 'Slice01977', 'Slice01979', 'Slice01981', 'Slice01983', 'Slice01985', 'Slice01987', 'Slice01989', 'Slice01991', 'Slice01993', 'Slice01995', 'Slice01997', 'Slice01999', 'Slice02001', 'Slice02003', 'Slice02005', 'Slice02007', 'Slice02009', 'Slice02011', 'Slice02013', 'Slice02015', 'Slice02017', 'Slice02019', 'Slice02021', 'Slice02023', 'Slice02025', 'Slice02027', 'Slice02029', 'Slice02031', 'Slice02033', 'Slice02035', 'Slice02037', 'Slice02039', 'Slice02041', 'Slice02043', 'Slice02045', 'Slice02047', 'Slice02049', 'Slice02051', 'Slice02053', 'Slice02055', 'Slice02057', 'Slice02059', 'Slice02061', 'Slice02063', 'Slice02065', 'Slice02067', 'Slice02069', 'Slice02071', 'Slice02073', 'Slice02075', 'Slice02077', 'Slice02079', 'Slice02081', 'Slice02083', 'Slice02085', 'Slice02087', 'Slice02089', 'Slice02091', 'Slice02093', 'Slice02095', 'Slice02097', 'Slice02099', 'Slice02101', 'Slice02103', 'Slice02105', 'Slice02107', 'Slice02109', 'Slice02111', 'Slice02113', 'Slice02115', 'Slice02117', 'Slice02119', 'Slice02121', 'Slice02123', 'Slice02125', 'Slice02127', 'Slice02129', 'Slice02131', 'Slice02133', 'Slice02135', 'Slice02137', 'Slice02139', 'Slice02141', 'Slice02143', 'Slice02145', 'Slice02147', 'Slice02149', 'Slice02151', 'Slice02153', 'Slice02155', 'Slice02157', 'Slice02159', 'Slice02161', 'Slice02163', 'Slice02165', 'Slice02167', 'Slice02169', 'Slice02171', 'Slice02173', 'Slice02175', 'Slice02177', 'Slice02179', 'Slice02181', 'Slice02183', 'Slice02185', 'Slice02187', 'Slice02189', 'Slice02191', 'Slice02193', 'Slice02195', 'Slice02197', 'Slice02199', 'Slice02201', 'Slice02203', 'Slice02205', 'Slice02207', 'Slice02209', 'Slice02211', 'Slice02213', 'Slice02215', 'Slice02217', 'Slice02219', 'Slice02221', 'Slice02223', 'Slice02225', 'Slice02227', 'Slice02229', 'Slice02231', 'Slice02233', 'Slice02235', 'Slice02237', 'Slice02239', 'Slice02241', 'Slice02243', 'Slice02245', 'Slice02247', 'Slice02249', 'Slice02251', 'Slice02253', 'Slice02255', 'Slice02257', 'Slice02259', 'Slice02261', 'Slice02263', 'Slice02265', 'Slice02267', 'Slice02269', 'Slice02271', 'Slice02273', 'Slice02275', 'Slice02277', 'Slice02279', 'Slice02281', 'Slice02283', 'Slice02285', 'Slice02287', 'Slice02289', 'Slice02291', 'Slice02293', 'Slice02295', 'Slice02297', 'Slice02299', 'Slice02301', 'Slice02303', 'Slice02305', 'Slice02307', 'Slice02309', 'Slice02311', 'Slice02313', 'Slice02315', 'Slice02317', 'Slice02319', 'Slice02321', 'Slice02323', 'Slice02325', 'Slice02327', 'Slice02329', 'Slice02331', 'Slice02333', 'Slice02335', 'Slice02337', 'Slice02339', 'Slice02341', 'Slice02343', 'Slice02345', 'Slice02347', 'Slice02349', 'Slice02351', 'Slice02353', 'Slice02355', 'Slice02357', 'Slice02359', 'Slice02361', 'Slice02363', 'Slice02365', 'Slice02367', 'Slice02369', 'Slice02371', 'Slice02373', 'Slice02375', 'Slice02377', 'Slice02379', 'Slice02381', 'Slice02383', 'Slice02385', 'Slice02387', 'Slice02389', 'Slice02391', 'Slice02393', 'Slice02395', 'Slice02397', 'Slice02399', 'Slice02401', 'Slice02403', 'Slice02405', 'Slice02407', 'Slice02409', 'Slice02411', 'Slice02413', 'Slice02415', 'Slice02417', 'Slice02419', 'Slice02421', 'Slice02423', 'Slice02425', 'Slice02427', 'Slice02429', 'Slice02431', 'Slice02433', 'Slice02435', 'Slice02437', 'Slice02439', 'Slice02441', 'Slice02443', 'Slice02445', 'Slice02447', 'Slice02449', 'Slice02451', 'Slice02453', 'Slice02455', 'Slice02457', 'Slice02459', 'Slice02461', 'Slice02463', 'Slice02465', 'Slice02467', 'Slice02469', 'Slice02471', 'Slice02473', 'Slice02475', 'Slice02477', 'Slice02479', 'Slice02481', 'Slice02483', 'Slice02485', 'Slice02487', 'Slice02489', 'Slice02491', 'Slice02493', 'Slice02495', 'Slice02497', 'Slice02499', 'Slice02501', 'Slice02503', 'Slice02505', 'Slice02507', 'Slice02509', 'Slice02511', 'Slice02513', 'Slice02515', 'Slice02517', 'Slice02519', 'Slice02521', 'Slice02523', 'Slice02525', 'Slice02527', 'Slice02529', 'Slice02531', 'Slice02533', 'Slice02535', 'Slice02537', 'Slice02539', 'Slice02541', 'Slice02543', 'Slice02545', 'Slice02547', 'Slice02549', 'Slice02551', 'Slice02553', 'Slice02555', 'Slice02557', 'Slice02559', 'Slice02561', 'Slice02563', 'Slice02565', 'Slice02567', 'Slice02569', 'Slice02571', 'Slice02573', 'Slice02575', 'Slice02577', 'Slice02579', 'Slice02581', 'Slice02583', 'Slice02585', 'Slice02587', 'Slice02589', 'Slice02591', 'Slice02593', 'Slice02595', 'Slice02597', 'Slice02599', 'Slice02601', 'Slice02603', 'Slice02605', 'Slice02607', 'Slice02609', 'Slice02611', 'Slice02613', 'Slice02615', 'Slice02617', 'Slice02619', 'Slice02621', 'Slice02623', 'Slice02625', 'Slice02627', 'Slice02629', 'Slice02631', 'Slice02633', 'Slice02635', 'Slice02637', 'Slice02639', 'Slice02641', 'Slice02643', 'Slice02645', 'Slice02647', 'Slice02649', 'Slice02651', 'Slice02653', 'Slice02655', 'Slice02657', 'Slice02659', 'Slice02661', 'Slice02663', 'Slice02665', 'Slice02667', 'Slice02669', 'Slice02671', 'Slice02673', 'Slice02675', 'Slice02677', 'Slice02679', 'Slice02681', 'Slice02683', 'Slice02685', 'Slice02687', 'Slice02689', 'Slice02691', 'Slice02693', 'Slice02695', 'Slice02697', 'Slice02699', 'Slice02701', 'Slice02703', 'Slice02705', 'Slice02707', 'Slice02709', 'Slice02711', 'Slice02713', 'Slice02715', 'Slice02717', 'Slice02719', 'Slice02721', 'Slice02723', 'Slice02725', 'Slice02727', 'Slice02729', 'Slice02731', 'Slice02733', 'Slice02735', 'Slice02737', 'Slice02739', 'Slice02741', 'Slice02743', 'Slice02745', 'Slice02747', 'Slice02749', 'Slice02751', 'Slice02753', 'Slice02755', 'Slice02757', 'Slice02759', 'Slice02761', 'Slice02763', 'Slice02765', 'Slice02767', 'Slice02769', 'Slice02771', 'Slice02773', 'Slice02775', 'Slice02777', 'Slice02779', 'Slice02781', 'Slice02783', 'Slice02785', 'Slice02787', 'Slice02789', 'Slice02791', 'Slice02793', 'Slice02795', 'Slice02797', 'Slice02799', 'Slice02801', 'Slice02803', 'Slice02805', 'Slice02807', 'Slice02809', 'Slice02811', 'Slice02813', 'Slice02815', 'Slice02817', 'Slice02819', 'Slice02821', 'Slice02823', 'Slice02825', 'Slice02827', 'Slice02829', 'Slice02831', 'Slice02833', 'Slice02835', 'Slice02837', 'Slice02839', 'Slice02841', 'Slice02843', 'Slice02845', 'Slice02847', 'Slice02849', 'Slice02851', 'Slice02853', 'Slice02855', 'Slice02857', 'Slice02859', 'Slice02861', 'Slice02863', 'Slice02865', 'Slice02867', 'Slice02869', 'Slice02871', 'Slice02873', 'Slice02875', 'Slice02877', 'Slice02879', 'Slice02881', 'Slice02883', 'Slice02885', 'Slice02887', 'Slice02889', 'Slice02891', 'Slice02893', 'Slice02895', 'Slice02897', 'Slice02899', 'Slice02901', 'Slice02903', 'Slice02905', 'Slice02907', 'Slice02909', 'Slice02911', 'Slice02913', 'Slice02915', 'Slice02917', 'Slice02919', 'Slice02921', 'Slice02923', 'Slice02925', 'Slice02927', 'Slice02929', 'Slice02931', 'Slice02933', 'Slice02935', 'Slice02937', 'Slice02939', 'Slice02941', 'Slice02943', 'Slice02945', 'Slice02947', 'Slice02949', 'Slice02951', 'Slice02953', 'Slice02955', 'Slice02957', 'Slice02959', 'Slice02961', 'Slice02963', 'Slice02965', 'Slice02967', 'Slice02969', 'Slice02971', 'Slice02973', 'Slice02975', 'Slice02977', 'Slice02979', 'Slice02981', 'Slice02983', 'Slice02985', 'Slice02987', 'Slice02989', 'Slice02991', 'Slice02993', 'Slice02995', 'Slice02997', 'Slice02999', 'Slice03001', 'Slice03003', 'Slice03005', 'Slice03007', 'Slice03009', 'Slice03011', 'Slice03013', 'Slice03015', 'Slice03017', 'Slice03019', 'Slice03021', 'Slice03023', 'Slice03025', 'Slice03027', 'Slice03029', 'Slice03031', 'Slice03033', 'Slice03035', 'Slice03037', 'Slice03039', 'Slice03041', 'Slice03043', 'Slice03045', 'Slice03047', 'Slice03049', 'Slice03051', 'Slice03053', 'Slice03055', 'Slice03057', 'Slice03059', 'Slice03061', 'Slice03063', 'Slice03065', 'Slice03067', 'Slice03069', 'Slice03071', 'Slice03073', 'Slice03075', 'Slice03077', 'Slice03079', 'Slice03081', 'Slice03083', 'Slice03085', 'Slice03087', 'Slice03089', 'Slice03091', 'Slice03093', 'Slice03095', 'Slice03097', 'Slice03099', 'Slice03101', 'Slice03103', 'Slice03105', 'Slice03107', 'Slice03109', 'Slice03111', 'Slice03113', 'Slice03115', 'Slice03117', 'Slice03119', 'Slice03121', 'Slice03123', 'Slice03125', 'Slice03127', 'Slice03129', 'Slice03131', 'Slice03133', 'Slice03135', 'Slice03137', 'Slice03139', 'Slice03141', 'Slice03143', 'Slice03145', 'Slice03147', 'Slice03149', 'Slice03151', 'Slice03153', 'Slice03155', 'Slice03157', 'Slice03159', 'Slice03161', 'Slice03163', 'Slice03165', 'Slice03167', 'Slice03169', 'Slice03171', 'Slice03173', 'Slice03175', 'Slice03177', 'Slice03179', 'Slice03181', 'Slice03183', 'Slice03185', 'Slice03187']\n"
     ]
    }
   ],
   "source": [
    "list_z_param = []\n",
    "with h5py.File(path_buildjob_hdf5,'a') as h5:\n",
    "    key_list = h5[builjob_name_z].keys()\n",
    "    \n",
    "    for key in key_list:\n",
    "       #shape suchen \n",
    "        shape = h5[builjob_name_z][key]['Area'].shape[0]\n",
    "        if shape > 0: \n",
    "            list_z_param.append(key)\n",
    "    print(list_z_param)"
   ]
  },
  {
   "cell_type": "code",
   "execution_count": 12,
   "metadata": {},
   "outputs": [
    {
     "name": "stdout",
     "output_type": "stream",
     "text": [
      "['Slice01433', 'Slice01435', 'Slice01437', 'Slice01439', 'Slice01441', 'Slice01443', 'Slice01445', 'Slice01447', 'Slice01449', 'Slice01451', 'Slice01453', 'Slice01455', 'Slice01457', 'Slice01459', 'Slice01461', 'Slice01463', 'Slice01465', 'Slice01467', 'Slice01469', 'Slice01471', 'Slice01473', 'Slice01475', 'Slice01477', 'Slice01479', 'Slice01481', 'Slice01483', 'Slice01485', 'Slice01487', 'Slice01489', 'Slice01491', 'Slice01493', 'Slice01495', 'Slice01497', 'Slice01499', 'Slice01501', 'Slice01503', 'Slice01505', 'Slice01507', 'Slice01509', 'Slice01511', 'Slice01513', 'Slice01515', 'Slice01517', 'Slice01519', 'Slice01521', 'Slice01523', 'Slice01525', 'Slice01527', 'Slice01529', 'Slice01531', 'Slice01533', 'Slice01535', 'Slice01537', 'Slice01539', 'Slice01541', 'Slice01543', 'Slice01545', 'Slice01547', 'Slice01549', 'Slice01551', 'Slice01553', 'Slice01555', 'Slice01557', 'Slice01559', 'Slice01561', 'Slice01563', 'Slice01565', 'Slice01567', 'Slice01569', 'Slice01571', 'Slice01573', 'Slice01575', 'Slice01577', 'Slice01579', 'Slice01581', 'Slice01583', 'Slice01585', 'Slice01587', 'Slice01589', 'Slice01591', 'Slice01593', 'Slice01595', 'Slice01597', 'Slice01599', 'Slice01601', 'Slice01603', 'Slice01605', 'Slice01607', 'Slice01609', 'Slice01611', 'Slice01613', 'Slice01615', 'Slice01617', 'Slice01619', 'Slice01621', 'Slice01623', 'Slice01625', 'Slice01627', 'Slice01629', 'Slice01631']\n"
     ]
    }
   ],
   "source": [
    "list_p_param = []\n",
    "with h5py.File(path_buildjob_hdf5,'a') as h5:\n",
    "    key_list = h5[builjob_name_p].keys()\n",
    "    \n",
    "    for key in key_list:\n",
    "       #shape suchen \n",
    "        shape = h5[builjob_name_p][key]['Area'].shape[0]\n",
    "        if shape > 0: \n",
    "            list_p_param.append(key)\n",
    "    print(list_p_param)"
   ]
  },
  {
   "cell_type": "code",
   "execution_count": 7,
   "metadata": {},
   "outputs": [],
   "source": [
    "Training_hdf = h5py.File(new_file_path, \"w\")\n",
    "Training_hdf.close()\n",
    "\n",
    "with h5py.File(new_file_path,'a') as h5:\n",
    "    h5.create_group(name_in_h5)\n",
    "    for slice_num in list_z_param:\n",
    "        #the following block transforms the uneven layer numbers in normal numbers\n",
    "        slice_num_int = int(re.search(r'\\d+', slice_num).group())\n",
    "        slice_num_normal = math.trunc(slice_num_int/2)\n",
    "        slice_name_normal = 'Slice' + str(\"{:05d}\".format(slice_num_normal))  \n",
    "        \n",
    "        h5[name_in_h5].create_group(slice_name_normal)\n",
    "        with h5py.File(path_buildjob_hdf5,'a') as h5_2:\n",
    "            h5[name_in_h5][slice_name_normal].create_dataset('Area',data = h5_2[builjob_name_z][slice_num]['Area'])\n",
    "            h5[name_in_h5][slice_name_normal].create_dataset('Intensity',data = h5_2[builjob_name_z][slice_num]['Intensity'])\n",
    "            h5[name_in_h5][slice_name_normal].create_dataset('X-Axis',data = h5_2[builjob_name_z][slice_num]['X-Axis'])\n",
    "            h5[name_in_h5][slice_name_normal].create_dataset('Y-Axis',data = h5_2[builjob_name_z][slice_num]['Y-Axis'])\n",
    "            \n",
    "    for slice_num in list_p_param:\n",
    "        #the following block transforms the uneven layer numbers in normal numbers\n",
    "        slice_num_int_p = int(re.search(r'\\d+', slice_num).group())\n",
    "        slice_num_normal_p = math.trunc(slice_num_int_p/2)\n",
    "        slice_name_normal_p = 'Slice' + str(\"{:05d}\".format(slice_num_normal_p))\n",
    "        \n",
    "        h5[name_in_h5].create_group(slice_name_normal_p)\n",
    "        with h5py.File(path_buildjob_hdf5,'a') as h5_2:\n",
    "            h5[name_in_h5][slice_name_normal_p].create_dataset('Area',data = h5_2[builjob_name_p][slice_num]['Area'])\n",
    "            h5[name_in_h5][slice_name_normal_p].create_dataset('Intensity',data = h5_2[builjob_name_p][slice_num]['Intensity'])\n",
    "            h5[name_in_h5][slice_name_normal_p].create_dataset('X-Axis',data = h5_2[builjob_name_p][slice_num]['X-Axis'])\n",
    "            h5[name_in_h5][slice_name_normal_p].create_dataset('Y-Axis',data = h5_2[builjob_name_p][slice_num]['Y-Axis'])        \n"
   ]
  },
  {
   "cell_type": "code",
   "execution_count": null,
   "metadata": {},
   "outputs": [],
   "source": []
  }
 ],
 "metadata": {
  "kernelspec": {
   "display_name": "Python [conda env:DataPrep]",
   "language": "python",
   "name": "conda-env-DataPrep-py"
  },
  "language_info": {
   "codemirror_mode": {
    "name": "ipython",
    "version": 3
   },
   "file_extension": ".py",
   "mimetype": "text/x-python",
   "name": "python",
   "nbconvert_exporter": "python",
   "pygments_lexer": "ipython3",
   "version": "3.7.5"
  }
 },
 "nbformat": 4,
 "nbformat_minor": 2
}
