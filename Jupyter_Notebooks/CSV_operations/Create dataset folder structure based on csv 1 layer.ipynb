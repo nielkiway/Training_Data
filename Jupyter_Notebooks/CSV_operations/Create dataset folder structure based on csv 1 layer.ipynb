{
 "cells": [
  {
   "cell_type": "code",
   "execution_count": 18,
   "metadata": {},
   "outputs": [],
   "source": [
    "import os \n",
    "import pandas as pd\n",
    "from shutil import copyfile, copy2"
   ]
  },
  {
   "cell_type": "code",
   "execution_count": 19,
   "metadata": {},
   "outputs": [],
   "source": [
    "ZP_nummer = 1"
   ]
  },
  {
   "cell_type": "code",
   "execution_count": 32,
   "metadata": {},
   "outputs": [],
   "source": [
    "for ZP_nummer in range(1,10):\n",
    "    # 1 layer version\n",
    "    ZP_csv = pd.read_csv('/home/jan/Documents/Trainingsdaten/ZPs/ZP{}/grid_size=874_threshold_porosity=125.csv'.format(ZP_nummer))\n",
    "    array_path = '/home/jan/Documents/Trainingsdaten/ZPs/1layer/Grid_size_874/'\n",
    "    folder_pores = '/home/jan/Documents/Trainingsdaten/datasets/Grid_size_874_binary/1layer/porosity/'\n",
    "    folder_no_pores = '/home/jan/Documents/Trainingsdaten/datasets/Grid_size_874_binary/1layer/no_porosity/'\n",
    "    \n",
    "    for index,row in ZP_csv.iterrows():\n",
    "    #print (index)\n",
    "        num_slice = row['Slice']\n",
    "        x = row['x-grid']\n",
    "        y = row['y-grid']\n",
    "        Poren = row['Poren']\n",
    "        src = array_path + 'ZP{}_'.format(ZP_nummer) + 'Slice' + str(\"{:05d}\".format(num_slice)) + '_x:' + str(x) + '_y:' + str(y) + '.npy'\n",
    "\n",
    "        if os.path.isfile(src):\n",
    "            if Poren == 0:\n",
    "                dst = folder_no_pores + 'ZP{}_'.format(ZP_nummer) + 'Slice' + str(\"{:05d}\".format(num_slice)) + '_x:' + str(x) + '_y:' + str(y) + '.npy'\n",
    "\n",
    "            elif Poren == 1: \n",
    "                dst = folder_pores + 'ZP{}_'.format(ZP_nummer) + 'Slice' + str(\"{:05d}\".format(num_slice)) + '_x:' + str(x) + '_y:' + str(y) + '.npy'\n",
    "\n",
    "            copyfile(src, dst)             "
   ]
  },
  {
   "cell_type": "code",
   "execution_count": null,
   "metadata": {},
   "outputs": [],
   "source": []
  }
 ],
 "metadata": {
  "kernelspec": {
   "display_name": "Python [conda env:DataPrep]",
   "language": "python",
   "name": "conda-env-DataPrep-py"
  },
  "language_info": {
   "codemirror_mode": {
    "name": "ipython",
    "version": 3
   },
   "file_extension": ".py",
   "mimetype": "text/x-python",
   "name": "python",
   "nbconvert_exporter": "python",
   "pygments_lexer": "ipython3",
   "version": "3.7.5"
  }
 },
 "nbformat": 4,
 "nbformat_minor": 2
}
