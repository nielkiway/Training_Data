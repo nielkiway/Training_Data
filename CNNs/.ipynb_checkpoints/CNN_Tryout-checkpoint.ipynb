{
 "cells": [
  {
   "cell_type": "code",
   "execution_count": 27,
   "metadata": {},
   "outputs": [],
   "source": [
    "import PIL\n",
    "from PIL import Image\n",
    "import numpy as np\n",
    "import os \n",
    "import random\n",
    "from sklearn.model_selection import train_test_split\n",
    "from sklearn.preprocessing import LabelBinarizer\n",
    "from sklearn.metrics import classification_report\n",
    "from keras.models import Sequential\n",
    "from keras.optimizers import SGD\n",
    "from keras.utils import to_categorical\n",
    "import matplotlib.pyplot as plt\n",
    "from keras.preprocessing.image import ImageDataGenerator\n",
    "\n",
    "from keras.layers.normalization import BatchNormalization\n",
    "from keras.layers.convolutional import Conv2D\n",
    "from keras.layers.convolutional import MaxPooling2D\n",
    "from keras.layers.core import Activation\n",
    "from keras.layers.core import Flatten\n",
    "from keras.layers.core import Dropout\n",
    "from keras.layers.core import Dense\n",
    "from keras import backend as K"
   ]
  },
  {
   "cell_type": "code",
   "execution_count": 64,
   "metadata": {},
   "outputs": [],
   "source": [
    "class SmallVGGNet:\n",
    "    def build(width, height, depth, classes):\n",
    "        model = Sequential()\n",
    "        inputShape = (height, width, depth)\n",
    "        chanDim = -1\n",
    "        \n",
    "        if K.image_data_format() == \"channels_first\":\n",
    "            inputShape = (depth, height, width)\n",
    "            chanDim = 1\n",
    "            \n",
    "            \n",
    "        #if K.image_data_format() == 'channels_first':\n",
    "        #    x_train = x_train.reshape(x_train.shape[0], 1, img_rows, img_cols)\n",
    "        #    x_test = x_test.reshape(x_test.shape[0], 1, img_rows, img_cols)\n",
    "        #    print(x_train.shape)\n",
    "        #    input_shape = (1, img_rows, img_cols)\n",
    "        #else:\n",
    "        #    x_train = x_train.reshape(x_train.shape[0], img_rows, img_cols, 1)\n",
    "        #    x_test = x_test.reshape(x_test.shape[0], img_rows, img_cols, 1)\n",
    "        #    input_shape = (img_rows, img_cols, 1)\n",
    "            \n",
    "            \n",
    "        model.add(Conv2D(32,(3,3), padding=\"same\", input_shape = inputShape))\n",
    "        model.add(Activation(\"relu\"))\n",
    "        model.add(BatchNormalization(axis = chanDim))\n",
    "        model.add(MaxPooling2D(pool_size = (2,2)))\n",
    "        model.add(Dropout(0.25))\n",
    "        \n",
    "        model.add(Conv2D(64, (3, 3), padding=\"same\"))\n",
    "        model.add(Activation(\"relu\"))\n",
    "        model.add(BatchNormalization(axis=chanDim))\n",
    "        model.add(Conv2D(64, (3, 3), padding=\"same\"))\n",
    "        model.add(Activation(\"relu\"))\n",
    "        model.add(BatchNormalization(axis=chanDim))\n",
    "        model.add(MaxPooling2D(pool_size=(2, 2)))\n",
    "        model.add(Dropout(0.25))\n",
    "        \n",
    "        model.add(Conv2D(128, (3, 3), padding=\"same\"))\n",
    "        model.add(Activation(\"relu\"))\n",
    "        model.add(BatchNormalization(axis=chanDim))\n",
    "        model.add(Conv2D(128, (3, 3), padding=\"same\"))\n",
    "        model.add(Activation(\"relu\"))\n",
    "        model.add(BatchNormalization(axis=chanDim))\n",
    "        model.add(Conv2D(128, (3, 3), padding=\"same\"))\n",
    "        model.add(Activation(\"relu\"))\n",
    "        model.add(BatchNormalization(axis=chanDim))\n",
    "        model.add(MaxPooling2D(pool_size=(2, 2)))\n",
    "        model.add(Dropout(0.25))\n",
    "        \n",
    "       # first (and only) set of FC => RELU layers\n",
    "        model.add(Flatten())\n",
    "        model.add(Dense(512))\n",
    "        model.add(Activation(\"relu\"))\n",
    "        model.add(BatchNormalization())\n",
    "        model.add(Dropout(0.5))\n",
    " \n",
    "        # softmax classifier\n",
    "        model.add(Dense(classes))\n",
    "        model.add(Activation(\"softmax\"))\n",
    " \n",
    "        # return the constructed network architecture\n",
    "        return model"
   ]
  },
  {
   "cell_type": "code",
   "execution_count": 74,
   "metadata": {},
   "outputs": [],
   "source": [
    "dirs = ['/home/jan/Documents/Trainingsdaten/datasets/Grid_size_874_binary/no_porosity',\n",
    "        '/home/jan/Documents/Trainingsdaten/datasets/Grid_size_874_binary/porosity']\n",
    "\n",
    "length = 3000\n",
    "image_paths = []\n",
    "labels = []\n",
    "data = []"
   ]
  },
  {
   "cell_type": "code",
   "execution_count": 75,
   "metadata": {},
   "outputs": [],
   "source": [
    "for d in dirs: \n",
    "    cur_paths = []\n",
    "    for path in os.listdir(d):\n",
    "        full_path = os.path.join(d,path)\n",
    "        cur_paths.append(full_path)\n",
    "        \n",
    "    random.seed(42)\n",
    "    random.shuffle(cur_paths)\n",
    "    cur_paths = cur_paths[:length]\n",
    "    \n",
    "    image_paths.append(cur_paths)        \n",
    "\n",
    "image_paths = [val for sublist in image_paths for val in sublist]\n",
    "random.seed(42)\n",
    "random.shuffle(image_paths)\n",
    "\n",
    "######\n",
    "for path in image_paths:\n",
    "    label = path.split(os.path.sep)[-2]\n",
    "    labels.append(label)\n",
    "    \n",
    "    array = np.load(path)\n",
    "    img = Image.fromarray(array)\n",
    "    img = img.resize((64, 64), PIL.Image.LANCZOS)\n",
    "    array_resized_flattened = np.array(img)\n",
    "    data.append(array_resized_flattened)\n",
    "    \n",
    "# scale the raw pixel intensities to the range [0, 1]\n",
    "data = np.array(data, dtype=\"float\") / 255.0\n",
    "labels = np.array(labels)\n",
    "\n",
    "(trainX, testX, trainY, testY) = train_test_split(data, labels, test_size=0.25, random_state=42)\n",
    "\n",
    "lb = LabelBinarizer()\n",
    "trainY = lb.fit_transform(trainY)\n",
    "trainY = np.hstack((trainY, 1- trainY))\n",
    "\n",
    "testY = lb.transform(testY)\n",
    "testY = np.hstack((testY, 1- testY))"
   ]
  },
  {
   "cell_type": "code",
   "execution_count": 76,
   "metadata": {},
   "outputs": [],
   "source": [
    "trainX = trainX.reshape(trainX.shape[0], trainX.shape[1], trainX.shape[2], 1)\n",
    "testX = testX.reshape(testX.shape[0], testX.shape[1], testX.shape[2], 1)"
   ]
  },
  {
   "cell_type": "code",
   "execution_count": 77,
   "metadata": {},
   "outputs": [
    {
     "data": {
      "text/plain": [
       "(4500, 64, 64, 1)"
      ]
     },
     "execution_count": 77,
     "metadata": {},
     "output_type": "execute_result"
    }
   ],
   "source": [
    "trainX.shape"
   ]
  },
  {
   "cell_type": "code",
   "execution_count": 78,
   "metadata": {},
   "outputs": [
    {
     "data": {
      "text/plain": [
       "(4500, 2)"
      ]
     },
     "execution_count": 78,
     "metadata": {},
     "output_type": "execute_result"
    }
   ],
   "source": [
    "trainY.shape"
   ]
  },
  {
   "cell_type": "code",
   "execution_count": 79,
   "metadata": {},
   "outputs": [
    {
     "data": {
      "text/plain": [
       "(1500, 64, 64, 1)"
      ]
     },
     "execution_count": 79,
     "metadata": {},
     "output_type": "execute_result"
    }
   ],
   "source": [
    "testX.shape"
   ]
  },
  {
   "cell_type": "code",
   "execution_count": 80,
   "metadata": {},
   "outputs": [
    {
     "data": {
      "text/plain": [
       "(1500, 2)"
      ]
     },
     "execution_count": 80,
     "metadata": {},
     "output_type": "execute_result"
    }
   ],
   "source": [
    "testY.shape"
   ]
  },
  {
   "cell_type": "code",
   "execution_count": 81,
   "metadata": {},
   "outputs": [],
   "source": [
    "model = SmallVGGNet.build(width=64, height=64, depth=1, classes=len(lb.classes_))"
   ]
  },
  {
   "cell_type": "code",
   "execution_count": 82,
   "metadata": {},
   "outputs": [
    {
     "name": "stdout",
     "output_type": "stream",
     "text": [
      "[INFO] training network...\n"
     ]
    }
   ],
   "source": [
    "INIT_LR = 0.01\n",
    "EPOCHS = 75\n",
    "BS = 32\n",
    "\n",
    "print(\"[INFO] training network...\")\n",
    "opt = SGD(lr=INIT_LR, decay=INIT_LR / EPOCHS)\n",
    "model.compile(loss=\"binary_crossentropy\", optimizer=opt, metrics=[\"accuracy\"])"
   ]
  },
  {
   "cell_type": "code",
   "execution_count": 83,
   "metadata": {},
   "outputs": [],
   "source": [
    "# construct the image generator for data augmentation\n",
    "aug = ImageDataGenerator(vertical_flip= True,horizontal_flip=True)"
   ]
  },
  {
   "cell_type": "code",
   "execution_count": 84,
   "metadata": {},
   "outputs": [
    {
     "name": "stdout",
     "output_type": "stream",
     "text": [
      "WARNING:tensorflow:From /home/jan/anaconda3/envs/keras_tf/lib/python3.7/site-packages/keras/backend/tensorflow_backend.py:986: The name tf.assign_add is deprecated. Please use tf.compat.v1.assign_add instead.\n",
      "\n",
      "WARNING:tensorflow:From /home/jan/anaconda3/envs/keras_tf/lib/python3.7/site-packages/keras/backend/tensorflow_backend.py:973: The name tf.assign is deprecated. Please use tf.compat.v1.assign instead.\n",
      "\n",
      "Epoch 1/75\n",
      "140/140 [==============================] - 44s 312ms/step - loss: 0.9702 - acc: 0.5873 - val_loss: 0.9508 - val_acc: 0.5680\n",
      "Epoch 2/75\n",
      "140/140 [==============================] - 39s 279ms/step - loss: 0.7128 - acc: 0.6377 - val_loss: 0.7649 - val_acc: 0.5860\n",
      "Epoch 3/75\n",
      "140/140 [==============================] - 39s 279ms/step - loss: 0.6462 - acc: 0.6544 - val_loss: 0.9034 - val_acc: 0.5740\n",
      "Epoch 4/75\n",
      "140/140 [==============================] - 39s 280ms/step - loss: 0.6239 - acc: 0.6619 - val_loss: 0.8441 - val_acc: 0.5727\n",
      "Epoch 5/75\n",
      "140/140 [==============================] - 39s 281ms/step - loss: 0.6131 - acc: 0.6627 - val_loss: 0.7945 - val_acc: 0.5847\n",
      "Epoch 6/75\n",
      "140/140 [==============================] - 39s 281ms/step - loss: 0.6093 - acc: 0.6654 - val_loss: 0.7908 - val_acc: 0.6127\n",
      "Epoch 7/75\n",
      "140/140 [==============================] - 39s 281ms/step - loss: 0.6079 - acc: 0.6793 - val_loss: 0.9105 - val_acc: 0.5940\n",
      "Epoch 8/75\n",
      "140/140 [==============================] - 40s 287ms/step - loss: 0.6037 - acc: 0.6738 - val_loss: 0.8239 - val_acc: 0.5907\n",
      "Epoch 9/75\n",
      "140/140 [==============================] - 46s 326ms/step - loss: 0.6099 - acc: 0.6615 - val_loss: 0.6199 - val_acc: 0.6587\n",
      "Epoch 10/75\n",
      "140/140 [==============================] - 45s 322ms/step - loss: 0.6016 - acc: 0.6696 - val_loss: 0.6978 - val_acc: 0.6267\n",
      "Epoch 11/75\n",
      "140/140 [==============================] - 45s 323ms/step - loss: 0.5971 - acc: 0.6875 - val_loss: 1.2758 - val_acc: 0.5540\n",
      "Epoch 12/75\n",
      "140/140 [==============================] - 45s 324ms/step - loss: 0.5990 - acc: 0.6765 - val_loss: 0.7965 - val_acc: 0.6260\n",
      "Epoch 13/75\n",
      "140/140 [==============================] - 45s 322ms/step - loss: 0.5952 - acc: 0.6796 - val_loss: 0.7645 - val_acc: 0.6127\n",
      "Epoch 14/75\n",
      "140/140 [==============================] - 46s 328ms/step - loss: 0.5952 - acc: 0.6703 - val_loss: 0.7015 - val_acc: 0.6320\n",
      "Epoch 15/75\n",
      "140/140 [==============================] - 48s 341ms/step - loss: 0.5974 - acc: 0.6685 - val_loss: 0.6265 - val_acc: 0.6400\n",
      "Epoch 16/75\n",
      "140/140 [==============================] - 45s 323ms/step - loss: 0.5959 - acc: 0.6745 - val_loss: 0.7150 - val_acc: 0.6447\n",
      "Epoch 17/75\n",
      "140/140 [==============================] - 45s 323ms/step - loss: 0.5944 - acc: 0.6785 - val_loss: 0.6873 - val_acc: 0.6473\n",
      "Epoch 18/75\n",
      "140/140 [==============================] - 45s 321ms/step - loss: 0.5820 - acc: 0.6838 - val_loss: 0.7526 - val_acc: 0.6133\n",
      "Epoch 19/75\n",
      "140/140 [==============================] - 45s 322ms/step - loss: 0.5908 - acc: 0.6826 - val_loss: 0.7438 - val_acc: 0.6133\n",
      "Epoch 20/75\n",
      "140/140 [==============================] - 43s 308ms/step - loss: 0.5917 - acc: 0.6765 - val_loss: 0.6736 - val_acc: 0.6320\n",
      "Epoch 21/75\n",
      "140/140 [==============================] - 39s 280ms/step - loss: 0.5861 - acc: 0.6776 - val_loss: 0.6934 - val_acc: 0.6440\n",
      "Epoch 22/75\n",
      "140/140 [==============================] - 40s 287ms/step - loss: 0.5836 - acc: 0.6814 - val_loss: 0.7089 - val_acc: 0.6327\n",
      "Epoch 23/75\n",
      "140/140 [==============================] - 39s 279ms/step - loss: 0.5898 - acc: 0.6783 - val_loss: 0.6749 - val_acc: 0.6380\n",
      "Epoch 24/75\n",
      "140/140 [==============================] - 39s 280ms/step - loss: 0.5829 - acc: 0.6934 - val_loss: 0.6656 - val_acc: 0.6280\n",
      "Epoch 25/75\n",
      "140/140 [==============================] - 39s 281ms/step - loss: 0.5881 - acc: 0.6739 - val_loss: 0.7720 - val_acc: 0.6147\n",
      "Epoch 26/75\n",
      "140/140 [==============================] - 39s 279ms/step - loss: 0.5816 - acc: 0.6821 - val_loss: 0.6372 - val_acc: 0.6513\n",
      "Epoch 27/75\n",
      "140/140 [==============================] - 39s 279ms/step - loss: 0.5884 - acc: 0.6842 - val_loss: 0.7437 - val_acc: 0.6280\n",
      "Epoch 28/75\n",
      "140/140 [==============================] - 39s 279ms/step - loss: 0.5838 - acc: 0.6760 - val_loss: 0.6691 - val_acc: 0.6540\n",
      "Epoch 29/75\n",
      "140/140 [==============================] - 39s 279ms/step - loss: 0.5802 - acc: 0.6887 - val_loss: 0.7972 - val_acc: 0.6147\n",
      "Epoch 30/75\n",
      "140/140 [==============================] - 39s 279ms/step - loss: 0.5891 - acc: 0.6792 - val_loss: 0.6640 - val_acc: 0.6240\n",
      "Epoch 31/75\n",
      "140/140 [==============================] - 39s 281ms/step - loss: 0.5875 - acc: 0.6812 - val_loss: 0.6851 - val_acc: 0.6673\n",
      "Epoch 32/75\n",
      "140/140 [==============================] - 40s 284ms/step - loss: 0.5944 - acc: 0.6710 - val_loss: 0.7959 - val_acc: 0.6327\n",
      "Epoch 33/75\n",
      "140/140 [==============================] - 40s 283ms/step - loss: 0.5777 - acc: 0.6881 - val_loss: 0.6279 - val_acc: 0.6593\n",
      "Epoch 34/75\n",
      "140/140 [==============================] - 39s 276ms/step - loss: 0.5803 - acc: 0.6912 - val_loss: 0.7217 - val_acc: 0.6207\n",
      "Epoch 35/75\n",
      "140/140 [==============================] - 38s 274ms/step - loss: 0.5891 - acc: 0.6767 - val_loss: 0.6724 - val_acc: 0.6427\n",
      "Epoch 36/75\n",
      "140/140 [==============================] - 40s 283ms/step - loss: 0.5687 - acc: 0.6937 - val_loss: 0.6506 - val_acc: 0.6487\n",
      "Epoch 37/75\n",
      "140/140 [==============================] - 40s 283ms/step - loss: 0.5780 - acc: 0.6868 - val_loss: 0.7157 - val_acc: 0.6267\n",
      "Epoch 38/75\n",
      "140/140 [==============================] - 40s 287ms/step - loss: 0.5731 - acc: 0.6902 - val_loss: 0.7043 - val_acc: 0.6313\n",
      "Epoch 39/75\n",
      "140/140 [==============================] - 39s 281ms/step - loss: 0.5773 - acc: 0.6891 - val_loss: 0.6865 - val_acc: 0.6500\n",
      "Epoch 40/75\n",
      "140/140 [==============================] - 40s 283ms/step - loss: 0.5743 - acc: 0.6946 - val_loss: 0.6964 - val_acc: 0.6420\n",
      "Epoch 41/75\n",
      "140/140 [==============================] - 40s 287ms/step - loss: 0.5823 - acc: 0.6853 - val_loss: 0.6771 - val_acc: 0.6507\n",
      "Epoch 42/75\n",
      "140/140 [==============================] - 39s 278ms/step - loss: 0.5716 - acc: 0.6920 - val_loss: 0.7525 - val_acc: 0.6247\n",
      "Epoch 43/75\n",
      "140/140 [==============================] - 39s 277ms/step - loss: 0.5731 - acc: 0.6980 - val_loss: 0.6504 - val_acc: 0.6633\n",
      "Epoch 44/75\n",
      "140/140 [==============================] - 39s 277ms/step - loss: 0.5797 - acc: 0.6859 - val_loss: 0.6573 - val_acc: 0.6513\n",
      "Epoch 45/75\n",
      "140/140 [==============================] - 39s 277ms/step - loss: 0.5816 - acc: 0.6836 - val_loss: 0.7725 - val_acc: 0.6207\n",
      "Epoch 46/75\n",
      "140/140 [==============================] - 42s 299ms/step - loss: 0.5760 - acc: 0.6846 - val_loss: 0.6717 - val_acc: 0.6520\n",
      "Epoch 47/75\n",
      "140/140 [==============================] - 40s 285ms/step - loss: 0.5814 - acc: 0.6811 - val_loss: 0.6506 - val_acc: 0.6667\n",
      "Epoch 48/75\n",
      "140/140 [==============================] - 39s 281ms/step - loss: 0.5753 - acc: 0.6850 - val_loss: 0.7505 - val_acc: 0.6287\n",
      "Epoch 49/75\n",
      "140/140 [==============================] - 42s 299ms/step - loss: 0.5698 - acc: 0.6920 - val_loss: 0.6426 - val_acc: 0.6393\n",
      "Epoch 50/75\n",
      "140/140 [==============================] - 41s 294ms/step - loss: 0.5839 - acc: 0.6833 - val_loss: 0.6125 - val_acc: 0.6607\n",
      "Epoch 51/75\n",
      "140/140 [==============================] - 40s 284ms/step - loss: 0.5734 - acc: 0.6942 - val_loss: 0.6361 - val_acc: 0.6540\n",
      "Epoch 52/75\n",
      "140/140 [==============================] - 39s 281ms/step - loss: 0.5730 - acc: 0.6899 - val_loss: 0.6307 - val_acc: 0.6560\n",
      "Epoch 53/75\n",
      "140/140 [==============================] - 42s 299ms/step - loss: 0.5739 - acc: 0.6964 - val_loss: 0.6654 - val_acc: 0.6480\n",
      "Epoch 54/75\n",
      "140/140 [==============================] - 44s 314ms/step - loss: 0.5777 - acc: 0.6900 - val_loss: 0.6601 - val_acc: 0.6393\n",
      "Epoch 55/75\n",
      "140/140 [==============================] - 42s 299ms/step - loss: 0.5664 - acc: 0.6961 - val_loss: 0.6716 - val_acc: 0.6480\n",
      "Epoch 56/75\n",
      "140/140 [==============================] - 46s 327ms/step - loss: 0.5792 - acc: 0.6890 - val_loss: 0.6365 - val_acc: 0.6420\n",
      "Epoch 57/75\n",
      "140/140 [==============================] - 44s 318ms/step - loss: 0.5753 - acc: 0.6905 - val_loss: 0.6897 - val_acc: 0.6287\n",
      "Epoch 58/75\n"
     ]
    },
    {
     "name": "stdout",
     "output_type": "stream",
     "text": [
      "140/140 [==============================] - 47s 334ms/step - loss: 0.5757 - acc: 0.6916 - val_loss: 0.7317 - val_acc: 0.6253\n",
      "Epoch 59/75\n",
      "140/140 [==============================] - 45s 325ms/step - loss: 0.5666 - acc: 0.6938 - val_loss: 0.6470 - val_acc: 0.6493\n",
      "Epoch 60/75\n",
      "140/140 [==============================] - 46s 328ms/step - loss: 0.5692 - acc: 0.6975 - val_loss: 0.7117 - val_acc: 0.6527\n",
      "Epoch 61/75\n",
      "140/140 [==============================] - 46s 328ms/step - loss: 0.5648 - acc: 0.7007 - val_loss: 0.8453 - val_acc: 0.6353\n",
      "Epoch 62/75\n",
      "140/140 [==============================] - 48s 342ms/step - loss: 0.5847 - acc: 0.6850 - val_loss: 0.6513 - val_acc: 0.6467\n",
      "Epoch 63/75\n",
      "140/140 [==============================] - 49s 353ms/step - loss: 0.5686 - acc: 0.6972 - val_loss: 0.5939 - val_acc: 0.6787\n",
      "Epoch 64/75\n",
      "140/140 [==============================] - 50s 356ms/step - loss: 0.5712 - acc: 0.6894 - val_loss: 0.7031 - val_acc: 0.6487\n",
      "Epoch 65/75\n",
      "140/140 [==============================] - 47s 335ms/step - loss: 0.5811 - acc: 0.6857 - val_loss: 0.6280 - val_acc: 0.6413\n",
      "Epoch 66/75\n",
      "140/140 [==============================] - 48s 340ms/step - loss: 0.5652 - acc: 0.6950 - val_loss: 0.7676 - val_acc: 0.6360\n",
      "Epoch 67/75\n",
      "140/140 [==============================] - 43s 305ms/step - loss: 0.5703 - acc: 0.6937 - val_loss: 0.6657 - val_acc: 0.6587\n",
      "Epoch 68/75\n",
      "140/140 [==============================] - 40s 284ms/step - loss: 0.5746 - acc: 0.6906 - val_loss: 0.6860 - val_acc: 0.6333\n",
      "Epoch 69/75\n",
      "140/140 [==============================] - 49s 352ms/step - loss: 0.5623 - acc: 0.7040 - val_loss: 0.6196 - val_acc: 0.6753\n",
      "Epoch 70/75\n",
      "140/140 [==============================] - 47s 333ms/step - loss: 0.5734 - acc: 0.6868 - val_loss: 0.6022 - val_acc: 0.6587\n",
      "Epoch 71/75\n",
      "140/140 [==============================] - 51s 362ms/step - loss: 0.5620 - acc: 0.7057 - val_loss: 0.6384 - val_acc: 0.6747\n",
      "Epoch 72/75\n",
      "140/140 [==============================] - 44s 315ms/step - loss: 0.5782 - acc: 0.6862 - val_loss: 0.5916 - val_acc: 0.6567\n",
      "Epoch 73/75\n",
      "140/140 [==============================] - 44s 315ms/step - loss: 0.5619 - acc: 0.6999 - val_loss: 0.6777 - val_acc: 0.6640\n",
      "Epoch 74/75\n",
      "140/140 [==============================] - 52s 375ms/step - loss: 0.5714 - acc: 0.6902 - val_loss: 0.6240 - val_acc: 0.6653\n",
      "Epoch 75/75\n",
      "140/140 [==============================] - 57s 404ms/step - loss: 0.5697 - acc: 0.6946 - val_loss: 0.5715 - val_acc: 0.6907\n"
     ]
    }
   ],
   "source": [
    "H = model.fit_generator(aug.flow(trainX, trainY, batch_size=BS),validation_data=(testX, testY), steps_per_epoch=len(trainX) // BS,epochs=EPOCHS)"
   ]
  },
  {
   "cell_type": "code",
   "execution_count": 85,
   "metadata": {},
   "outputs": [
    {
     "name": "stdout",
     "output_type": "stream",
     "text": [
      "_________________________________________________________________\n",
      "Layer (type)                 Output Shape              Param #   \n",
      "=================================================================\n",
      "conv2d_31 (Conv2D)           (None, 64, 64, 32)        320       \n",
      "_________________________________________________________________\n",
      "activation_41 (Activation)   (None, 64, 64, 32)        0         \n",
      "_________________________________________________________________\n",
      "batch_normalization_36 (Batc (None, 64, 64, 32)        128       \n",
      "_________________________________________________________________\n",
      "max_pooling2d_16 (MaxPooling (None, 32, 32, 32)        0         \n",
      "_________________________________________________________________\n",
      "dropout_21 (Dropout)         (None, 32, 32, 32)        0         \n",
      "_________________________________________________________________\n",
      "conv2d_32 (Conv2D)           (None, 32, 32, 64)        18496     \n",
      "_________________________________________________________________\n",
      "activation_42 (Activation)   (None, 32, 32, 64)        0         \n",
      "_________________________________________________________________\n",
      "batch_normalization_37 (Batc (None, 32, 32, 64)        256       \n",
      "_________________________________________________________________\n",
      "conv2d_33 (Conv2D)           (None, 32, 32, 64)        36928     \n",
      "_________________________________________________________________\n",
      "activation_43 (Activation)   (None, 32, 32, 64)        0         \n",
      "_________________________________________________________________\n",
      "batch_normalization_38 (Batc (None, 32, 32, 64)        256       \n",
      "_________________________________________________________________\n",
      "max_pooling2d_17 (MaxPooling (None, 16, 16, 64)        0         \n",
      "_________________________________________________________________\n",
      "dropout_22 (Dropout)         (None, 16, 16, 64)        0         \n",
      "_________________________________________________________________\n",
      "conv2d_34 (Conv2D)           (None, 16, 16, 128)       73856     \n",
      "_________________________________________________________________\n",
      "activation_44 (Activation)   (None, 16, 16, 128)       0         \n",
      "_________________________________________________________________\n",
      "batch_normalization_39 (Batc (None, 16, 16, 128)       512       \n",
      "_________________________________________________________________\n",
      "conv2d_35 (Conv2D)           (None, 16, 16, 128)       147584    \n",
      "_________________________________________________________________\n",
      "activation_45 (Activation)   (None, 16, 16, 128)       0         \n",
      "_________________________________________________________________\n",
      "batch_normalization_40 (Batc (None, 16, 16, 128)       512       \n",
      "_________________________________________________________________\n",
      "conv2d_36 (Conv2D)           (None, 16, 16, 128)       147584    \n",
      "_________________________________________________________________\n",
      "activation_46 (Activation)   (None, 16, 16, 128)       0         \n",
      "_________________________________________________________________\n",
      "batch_normalization_41 (Batc (None, 16, 16, 128)       512       \n",
      "_________________________________________________________________\n",
      "max_pooling2d_18 (MaxPooling (None, 8, 8, 128)         0         \n",
      "_________________________________________________________________\n",
      "dropout_23 (Dropout)         (None, 8, 8, 128)         0         \n",
      "_________________________________________________________________\n",
      "flatten_6 (Flatten)          (None, 8192)              0         \n",
      "_________________________________________________________________\n",
      "dense_11 (Dense)             (None, 512)               4194816   \n",
      "_________________________________________________________________\n",
      "activation_47 (Activation)   (None, 512)               0         \n",
      "_________________________________________________________________\n",
      "batch_normalization_42 (Batc (None, 512)               2048      \n",
      "_________________________________________________________________\n",
      "dropout_24 (Dropout)         (None, 512)               0         \n",
      "_________________________________________________________________\n",
      "dense_12 (Dense)             (None, 2)                 1026      \n",
      "_________________________________________________________________\n",
      "activation_48 (Activation)   (None, 2)                 0         \n",
      "=================================================================\n",
      "Total params: 4,624,834\n",
      "Trainable params: 4,622,722\n",
      "Non-trainable params: 2,112\n",
      "_________________________________________________________________\n"
     ]
    }
   ],
   "source": [
    "model.summary()"
   ]
  },
  {
   "cell_type": "code",
   "execution_count": 86,
   "metadata": {},
   "outputs": [
    {
     "name": "stdout",
     "output_type": "stream",
     "text": [
      "[INFO] evaluating network...\n",
      "              precision    recall  f1-score   support\n",
      "\n",
      " no_porosity       0.70      0.70      0.70       768\n",
      "    porosity       0.68      0.68      0.68       732\n",
      "\n",
      "    accuracy                           0.69      1500\n",
      "   macro avg       0.69      0.69      0.69      1500\n",
      "weighted avg       0.69      0.69      0.69      1500\n",
      "\n"
     ]
    },
    {
     "data": {
      "text/plain": [
       "<matplotlib.legend.Legend at 0x7f4bc8101f50>"
      ]
     },
     "execution_count": 86,
     "metadata": {},
     "output_type": "execute_result"
    },
    {
     "data": {
      "image/png": "[encoded data removed]",
      "text/plain": [
       "<Figure size 432x288 with 1 Axes>"
      ]
     },
     "metadata": {},
     "output_type": "display_data"
    }
   ],
   "source": [
    "# evaluate the network\n",
    "print(\"[INFO] evaluating network...\")\n",
    "predictions = model.predict(testX, batch_size=32)\n",
    "print(classification_report(testY.argmax(axis=1),\n",
    "\tpredictions.argmax(axis=1), target_names=lb.classes_))\n",
    " \n",
    "# plot the training loss and accuracy\n",
    "N = np.arange(0, EPOCHS)\n",
    "plt.style.use(\"ggplot\")\n",
    "plt.figure()\n",
    "plt.plot(N, H.history[\"loss\"], label=\"train_loss\")\n",
    "plt.plot(N, H.history[\"val_loss\"], label=\"val_loss\")\n",
    "plt.plot(N, H.history[\"acc\"], label=\"train_acc\")\n",
    "plt.plot(N, H.history[\"val_acc\"], label=\"val_acc\")\n",
    "plt.title(\"Training Loss and Accuracy (SmallVGGNet)\")\n",
    "plt.xlabel(\"Epoch #\")\n",
    "plt.ylabel(\"Loss/Accuracy\")\n",
    "plt.legend()\n",
    "#plt.savefig(args[\"plot\"])"
   ]
  },
  {
   "cell_type": "code",
   "execution_count": null,
   "metadata": {},
   "outputs": [],
   "source": []
  }
 ],
 "metadata": {
  "kernelspec": {
   "display_name": "Python [conda env:keras_tf]",
   "language": "python",
   "name": "conda-env-keras_tf-py"
  },
  "language_info": {
   "codemirror_mode": {
    "name": "ipython",
    "version": 3
   },
   "file_extension": ".py",
   "mimetype": "text/x-python",
   "name": "python",
   "nbconvert_exporter": "python",
   "pygments_lexer": "ipython3",
   "version": "3.7.6"
  }
 },
 "nbformat": 4,
 "nbformat_minor": 2
}
